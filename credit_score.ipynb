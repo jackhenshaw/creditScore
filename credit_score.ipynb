{
 "cells": [
  {
   "cell_type": "markdown",
   "metadata": {},
   "source": [
    "# Credit Score Predicter"
   ]
  },
  {
   "cell_type": "markdown",
   "metadata": {},
   "source": [
    "## The Data"
   ]
  },
  {
   "cell_type": "markdown",
   "metadata": {},
   "source": [
    "Data obtained from kaggle: https://www.kaggle.com/datasets/parisrohan/credit-score-classification"
   ]
  },
  {
   "cell_type": "markdown",
   "metadata": {},
   "source": [
    "### Problem Statement\n",
    "You are working as a data scientist in a global finance company. Over the years, the company has collected basic bank details and gathered a lot of credit-related information. The management wants to build an intelligent system to segregate the people into credit score brackets to reduce the manual efforts.\n",
    "\n",
    "### Task\n",
    "Given a person’s credit-related information, build a machine learning model that can classify the credit score."
   ]
  },
  {
   "cell_type": "markdown",
   "metadata": {},
   "source": [
    "| Column name              \t| Description                                                         \t|\n",
    "|--------------------------\t|---------------------------------------------------------------------\t|\n",
    "| ID                       \t| Represents a unique identification of an entry                      \t|\n",
    "| Customer_ID              \t| Customer_ID                                                         \t|\n",
    "| Month                    \t| Represents the month of the year                                    \t|\n",
    "| Name                     \t| Represents the name of a person                                     \t|\n",
    "| Age                      \t| Represents the age of the person                                    \t|\n",
    "| SSN                      \t| Represents the social security number of a person                   \t|\n",
    "| Occupation               \t| Represents the occupation of the person                             \t|\n",
    "| Annual_Income            \t| Represents the annual income of the person                          \t|\n",
    "| Monthly_Inhand_Salary    \t| Represents the monthly base salary of a person                      \t|\n",
    "| Num_Bank_Accounts        \t| Represents the number of bank accounts a person holds               \t|\n",
    "| Interest_Rate          \t| Represents the number of other credit cards held by a person        \t|\n",
    "| Interest_Rate            \t| Represents the interest rate on credit card                         \t|\n",
    "| Num_of_Loan              \t| Represents the number of loans taken from the bank                  \t|\n",
    "| Type_of_Loan             \t| Represents the types of loan taken by a person                      \t|\n",
    "| Delay_from_due_date      \t| Represents the average number of days delayed from the payment date \t|\n",
    "| Num_of_Delayed_Payment   \t| Represents the average number of payments delayed by a person       \t|\n",
    "| Changed_Credit_Limit     \t| Represents the percentage change in credit card limit               \t|\n",
    "| Num_Credit_Inquiries     \t| Represents the number of credit card inquiries                      \t|\n",
    "| Credit_Mix               \t| Represents the classification of the mix of credits                 \t|\n",
    "| Outstanding_Debt         \t| Represents the remaining debt to be paid (in USD)                   \t|\n",
    "| Credit_Utilization_Ratio \t| Represents the utilization ratio of credit card                     \t|\n",
    "| Credit_History_Age       \t| Represents the age of credit history of the person                  \t|\n",
    "| Payment_of_Min_Amount    \t| Represents whether only the minimum amount was paid by the person   \t|\n",
    "| Total_EMI_per_month      \t| Represents the monthly EMI payments (in USD)                        \t|\n",
    "| Amount_invested_monthly  \t| Represents the monthly amount invested by the customer (in USD)     \t|\n",
    "| Payment_Behaviour        \t| Represents the payment behavior of the customer (in USD)            \t|\n",
    "| Monthly_Balance          \t| Represents the monthly balance amount of the customer (in USD)      \t|\n",
    "| Credit_Score             \t| Represents the bracket of credit score (Poor, Standard, Good)       \t|"
   ]
  },
  {
   "cell_type": "markdown",
   "metadata": {},
   "source": [
    "## Loading the data"
   ]
  },
  {
   "cell_type": "code",
   "execution_count": 1,
   "metadata": {},
   "outputs": [],
   "source": [
    "import pandas as pd\n",
    "import numpy as np\n",
    "import matplotlib.pyplot as plt\n",
    "import seaborn as sns\n",
    "%matplotlib inline\n",
    "import scipy.stats as stats\n",
    "import math"
   ]
  },
  {
   "cell_type": "code",
   "execution_count": 2,
   "metadata": {},
   "outputs": [
    {
     "name": "stderr",
     "output_type": "stream",
     "text": [
      "/tmp/ipykernel_67084/1310790893.py:1: DtypeWarning: Columns (26) have mixed types. Specify dtype option on import or set low_memory=False.\n",
      "  df_train = pd.read_csv(\"data/train.csv\")\n"
     ]
    }
   ],
   "source": [
    "df_train = pd.read_csv(\"data/train.csv\")\n",
    "df_test  = pd.read_csv(\"data/test.csv\")"
   ]
  },
  {
   "cell_type": "code",
   "execution_count": 3,
   "metadata": {},
   "outputs": [
    {
     "data": {
      "text/html": [
       "<div>\n",
       "<style scoped>\n",
       "    .dataframe tbody tr th:only-of-type {\n",
       "        vertical-align: middle;\n",
       "    }\n",
       "\n",
       "    .dataframe tbody tr th {\n",
       "        vertical-align: top;\n",
       "    }\n",
       "\n",
       "    .dataframe thead th {\n",
       "        text-align: right;\n",
       "    }\n",
       "</style>\n",
       "<table border=\"1\" class=\"dataframe\">\n",
       "  <thead>\n",
       "    <tr style=\"text-align: right;\">\n",
       "      <th></th>\n",
       "      <th>ID</th>\n",
       "      <th>Customer_ID</th>\n",
       "      <th>Month</th>\n",
       "      <th>Name</th>\n",
       "      <th>Age</th>\n",
       "      <th>SSN</th>\n",
       "      <th>Occupation</th>\n",
       "      <th>Annual_Income</th>\n",
       "      <th>Monthly_Inhand_Salary</th>\n",
       "      <th>Num_Bank_Accounts</th>\n",
       "      <th>Num_Credit_Card</th>\n",
       "      <th>Interest_Rate</th>\n",
       "      <th>Num_of_Loan</th>\n",
       "      <th>Type_of_Loan</th>\n",
       "      <th>Delay_from_due_date</th>\n",
       "      <th>Num_of_Delayed_Payment</th>\n",
       "      <th>Changed_Credit_Limit</th>\n",
       "      <th>Num_Credit_Inquiries</th>\n",
       "      <th>Credit_Mix</th>\n",
       "      <th>Outstanding_Debt</th>\n",
       "      <th>Credit_Utilization_Ratio</th>\n",
       "      <th>Credit_History_Age</th>\n",
       "      <th>Payment_of_Min_Amount</th>\n",
       "      <th>Total_EMI_per_month</th>\n",
       "      <th>Amount_invested_monthly</th>\n",
       "      <th>Payment_Behaviour</th>\n",
       "      <th>Monthly_Balance</th>\n",
       "      <th>Credit_Score</th>\n",
       "    </tr>\n",
       "  </thead>\n",
       "  <tbody>\n",
       "    <tr>\n",
       "      <th>0</th>\n",
       "      <td>0x1602</td>\n",
       "      <td>CUS_0xd40</td>\n",
       "      <td>January</td>\n",
       "      <td>Aaron Maashoh</td>\n",
       "      <td>23</td>\n",
       "      <td>821-00-0265</td>\n",
       "      <td>Scientist</td>\n",
       "      <td>19114.12</td>\n",
       "      <td>1824.843333</td>\n",
       "      <td>3</td>\n",
       "      <td>4</td>\n",
       "      <td>3</td>\n",
       "      <td>4</td>\n",
       "      <td>Auto Loan, Credit-Builder Loan, Personal Loan,...</td>\n",
       "      <td>3</td>\n",
       "      <td>7</td>\n",
       "      <td>11.27</td>\n",
       "      <td>4.0</td>\n",
       "      <td>_</td>\n",
       "      <td>809.98</td>\n",
       "      <td>26.822620</td>\n",
       "      <td>22 Years and 1 Months</td>\n",
       "      <td>No</td>\n",
       "      <td>49.574949</td>\n",
       "      <td>80.41529543900253</td>\n",
       "      <td>High_spent_Small_value_payments</td>\n",
       "      <td>312.49408867943663</td>\n",
       "      <td>Good</td>\n",
       "    </tr>\n",
       "    <tr>\n",
       "      <th>1</th>\n",
       "      <td>0x1603</td>\n",
       "      <td>CUS_0xd40</td>\n",
       "      <td>February</td>\n",
       "      <td>Aaron Maashoh</td>\n",
       "      <td>23</td>\n",
       "      <td>821-00-0265</td>\n",
       "      <td>Scientist</td>\n",
       "      <td>19114.12</td>\n",
       "      <td>NaN</td>\n",
       "      <td>3</td>\n",
       "      <td>4</td>\n",
       "      <td>3</td>\n",
       "      <td>4</td>\n",
       "      <td>Auto Loan, Credit-Builder Loan, Personal Loan,...</td>\n",
       "      <td>-1</td>\n",
       "      <td>NaN</td>\n",
       "      <td>11.27</td>\n",
       "      <td>4.0</td>\n",
       "      <td>Good</td>\n",
       "      <td>809.98</td>\n",
       "      <td>31.944960</td>\n",
       "      <td>NaN</td>\n",
       "      <td>No</td>\n",
       "      <td>49.574949</td>\n",
       "      <td>118.28022162236736</td>\n",
       "      <td>Low_spent_Large_value_payments</td>\n",
       "      <td>284.62916249607184</td>\n",
       "      <td>Good</td>\n",
       "    </tr>\n",
       "    <tr>\n",
       "      <th>2</th>\n",
       "      <td>0x1604</td>\n",
       "      <td>CUS_0xd40</td>\n",
       "      <td>March</td>\n",
       "      <td>Aaron Maashoh</td>\n",
       "      <td>-500</td>\n",
       "      <td>821-00-0265</td>\n",
       "      <td>Scientist</td>\n",
       "      <td>19114.12</td>\n",
       "      <td>NaN</td>\n",
       "      <td>3</td>\n",
       "      <td>4</td>\n",
       "      <td>3</td>\n",
       "      <td>4</td>\n",
       "      <td>Auto Loan, Credit-Builder Loan, Personal Loan,...</td>\n",
       "      <td>3</td>\n",
       "      <td>7</td>\n",
       "      <td>_</td>\n",
       "      <td>4.0</td>\n",
       "      <td>Good</td>\n",
       "      <td>809.98</td>\n",
       "      <td>28.609352</td>\n",
       "      <td>22 Years and 3 Months</td>\n",
       "      <td>No</td>\n",
       "      <td>49.574949</td>\n",
       "      <td>81.699521264648</td>\n",
       "      <td>Low_spent_Medium_value_payments</td>\n",
       "      <td>331.2098628537912</td>\n",
       "      <td>Good</td>\n",
       "    </tr>\n",
       "    <tr>\n",
       "      <th>3</th>\n",
       "      <td>0x1605</td>\n",
       "      <td>CUS_0xd40</td>\n",
       "      <td>April</td>\n",
       "      <td>Aaron Maashoh</td>\n",
       "      <td>23</td>\n",
       "      <td>821-00-0265</td>\n",
       "      <td>Scientist</td>\n",
       "      <td>19114.12</td>\n",
       "      <td>NaN</td>\n",
       "      <td>3</td>\n",
       "      <td>4</td>\n",
       "      <td>3</td>\n",
       "      <td>4</td>\n",
       "      <td>Auto Loan, Credit-Builder Loan, Personal Loan,...</td>\n",
       "      <td>5</td>\n",
       "      <td>4</td>\n",
       "      <td>6.27</td>\n",
       "      <td>4.0</td>\n",
       "      <td>Good</td>\n",
       "      <td>809.98</td>\n",
       "      <td>31.377862</td>\n",
       "      <td>22 Years and 4 Months</td>\n",
       "      <td>No</td>\n",
       "      <td>49.574949</td>\n",
       "      <td>199.4580743910713</td>\n",
       "      <td>Low_spent_Small_value_payments</td>\n",
       "      <td>223.45130972736786</td>\n",
       "      <td>Good</td>\n",
       "    </tr>\n",
       "    <tr>\n",
       "      <th>4</th>\n",
       "      <td>0x1606</td>\n",
       "      <td>CUS_0xd40</td>\n",
       "      <td>May</td>\n",
       "      <td>Aaron Maashoh</td>\n",
       "      <td>23</td>\n",
       "      <td>821-00-0265</td>\n",
       "      <td>Scientist</td>\n",
       "      <td>19114.12</td>\n",
       "      <td>1824.843333</td>\n",
       "      <td>3</td>\n",
       "      <td>4</td>\n",
       "      <td>3</td>\n",
       "      <td>4</td>\n",
       "      <td>Auto Loan, Credit-Builder Loan, Personal Loan,...</td>\n",
       "      <td>6</td>\n",
       "      <td>NaN</td>\n",
       "      <td>11.27</td>\n",
       "      <td>4.0</td>\n",
       "      <td>Good</td>\n",
       "      <td>809.98</td>\n",
       "      <td>24.797347</td>\n",
       "      <td>22 Years and 5 Months</td>\n",
       "      <td>No</td>\n",
       "      <td>49.574949</td>\n",
       "      <td>41.420153086217326</td>\n",
       "      <td>High_spent_Medium_value_payments</td>\n",
       "      <td>341.48923103222177</td>\n",
       "      <td>Good</td>\n",
       "    </tr>\n",
       "  </tbody>\n",
       "</table>\n",
       "</div>"
      ],
      "text/plain": [
       "       ID Customer_ID     Month           Name   Age          SSN Occupation  \\\n",
       "0  0x1602   CUS_0xd40   January  Aaron Maashoh    23  821-00-0265  Scientist   \n",
       "1  0x1603   CUS_0xd40  February  Aaron Maashoh    23  821-00-0265  Scientist   \n",
       "2  0x1604   CUS_0xd40     March  Aaron Maashoh  -500  821-00-0265  Scientist   \n",
       "3  0x1605   CUS_0xd40     April  Aaron Maashoh    23  821-00-0265  Scientist   \n",
       "4  0x1606   CUS_0xd40       May  Aaron Maashoh    23  821-00-0265  Scientist   \n",
       "\n",
       "  Annual_Income  Monthly_Inhand_Salary  Num_Bank_Accounts  Num_Credit_Card  \\\n",
       "0      19114.12            1824.843333                  3                4   \n",
       "1      19114.12                    NaN                  3                4   \n",
       "2      19114.12                    NaN                  3                4   \n",
       "3      19114.12                    NaN                  3                4   \n",
       "4      19114.12            1824.843333                  3                4   \n",
       "\n",
       "   Interest_Rate Num_of_Loan  \\\n",
       "0              3           4   \n",
       "1              3           4   \n",
       "2              3           4   \n",
       "3              3           4   \n",
       "4              3           4   \n",
       "\n",
       "                                        Type_of_Loan  Delay_from_due_date  \\\n",
       "0  Auto Loan, Credit-Builder Loan, Personal Loan,...                    3   \n",
       "1  Auto Loan, Credit-Builder Loan, Personal Loan,...                   -1   \n",
       "2  Auto Loan, Credit-Builder Loan, Personal Loan,...                    3   \n",
       "3  Auto Loan, Credit-Builder Loan, Personal Loan,...                    5   \n",
       "4  Auto Loan, Credit-Builder Loan, Personal Loan,...                    6   \n",
       "\n",
       "  Num_of_Delayed_Payment Changed_Credit_Limit  Num_Credit_Inquiries  \\\n",
       "0                      7                11.27                   4.0   \n",
       "1                    NaN                11.27                   4.0   \n",
       "2                      7                    _                   4.0   \n",
       "3                      4                 6.27                   4.0   \n",
       "4                    NaN                11.27                   4.0   \n",
       "\n",
       "  Credit_Mix Outstanding_Debt  Credit_Utilization_Ratio  \\\n",
       "0          _           809.98                 26.822620   \n",
       "1       Good           809.98                 31.944960   \n",
       "2       Good           809.98                 28.609352   \n",
       "3       Good           809.98                 31.377862   \n",
       "4       Good           809.98                 24.797347   \n",
       "\n",
       "      Credit_History_Age Payment_of_Min_Amount  Total_EMI_per_month  \\\n",
       "0  22 Years and 1 Months                    No            49.574949   \n",
       "1                    NaN                    No            49.574949   \n",
       "2  22 Years and 3 Months                    No            49.574949   \n",
       "3  22 Years and 4 Months                    No            49.574949   \n",
       "4  22 Years and 5 Months                    No            49.574949   \n",
       "\n",
       "  Amount_invested_monthly                 Payment_Behaviour  \\\n",
       "0       80.41529543900253   High_spent_Small_value_payments   \n",
       "1      118.28022162236736    Low_spent_Large_value_payments   \n",
       "2         81.699521264648   Low_spent_Medium_value_payments   \n",
       "3       199.4580743910713    Low_spent_Small_value_payments   \n",
       "4      41.420153086217326  High_spent_Medium_value_payments   \n",
       "\n",
       "      Monthly_Balance Credit_Score  \n",
       "0  312.49408867943663         Good  \n",
       "1  284.62916249607184         Good  \n",
       "2   331.2098628537912         Good  \n",
       "3  223.45130972736786         Good  \n",
       "4  341.48923103222177         Good  "
      ]
     },
     "execution_count": 3,
     "metadata": {},
     "output_type": "execute_result"
    }
   ],
   "source": [
    "pd.set_option('display.max_columns', None)\n",
    "df_train.head()"
   ]
  },
  {
   "cell_type": "code",
   "execution_count": 4,
   "metadata": {},
   "outputs": [
    {
     "name": "stdout",
     "output_type": "stream",
     "text": [
      "<class 'pandas.core.frame.DataFrame'>\n",
      "RangeIndex: 100000 entries, 0 to 99999\n",
      "Data columns (total 28 columns):\n",
      " #   Column                    Non-Null Count   Dtype  \n",
      "---  ------                    --------------   -----  \n",
      " 0   ID                        100000 non-null  object \n",
      " 1   Customer_ID               100000 non-null  object \n",
      " 2   Month                     100000 non-null  object \n",
      " 3   Name                      90015 non-null   object \n",
      " 4   Age                       100000 non-null  object \n",
      " 5   SSN                       100000 non-null  object \n",
      " 6   Occupation                100000 non-null  object \n",
      " 7   Annual_Income             100000 non-null  object \n",
      " 8   Monthly_Inhand_Salary     84998 non-null   float64\n",
      " 9   Num_Bank_Accounts         100000 non-null  int64  \n",
      " 10  Num_Credit_Card           100000 non-null  int64  \n",
      " 11  Interest_Rate             100000 non-null  int64  \n",
      " 12  Num_of_Loan               100000 non-null  object \n",
      " 13  Type_of_Loan              88592 non-null   object \n",
      " 14  Delay_from_due_date       100000 non-null  int64  \n",
      " 15  Num_of_Delayed_Payment    92998 non-null   object \n",
      " 16  Changed_Credit_Limit      100000 non-null  object \n",
      " 17  Num_Credit_Inquiries      98035 non-null   float64\n",
      " 18  Credit_Mix                100000 non-null  object \n",
      " 19  Outstanding_Debt          100000 non-null  object \n",
      " 20  Credit_Utilization_Ratio  100000 non-null  float64\n",
      " 21  Credit_History_Age        90970 non-null   object \n",
      " 22  Payment_of_Min_Amount     100000 non-null  object \n",
      " 23  Total_EMI_per_month       100000 non-null  float64\n",
      " 24  Amount_invested_monthly   95521 non-null   object \n",
      " 25  Payment_Behaviour         100000 non-null  object \n",
      " 26  Monthly_Balance           98800 non-null   object \n",
      " 27  Credit_Score              100000 non-null  object \n",
      "dtypes: float64(4), int64(4), object(20)\n",
      "memory usage: 21.4+ MB\n"
     ]
    }
   ],
   "source": [
    "df_train.info()"
   ]
  },
  {
   "cell_type": "code",
   "execution_count": 5,
   "metadata": {},
   "outputs": [
    {
     "name": "stdout",
     "output_type": "stream",
     "text": [
      "<class 'pandas.core.frame.DataFrame'>\n",
      "RangeIndex: 50000 entries, 0 to 49999\n",
      "Data columns (total 27 columns):\n",
      " #   Column                    Non-Null Count  Dtype  \n",
      "---  ------                    --------------  -----  \n",
      " 0   ID                        50000 non-null  object \n",
      " 1   Customer_ID               50000 non-null  object \n",
      " 2   Month                     50000 non-null  object \n",
      " 3   Name                      44985 non-null  object \n",
      " 4   Age                       50000 non-null  object \n",
      " 5   SSN                       50000 non-null  object \n",
      " 6   Occupation                50000 non-null  object \n",
      " 7   Annual_Income             50000 non-null  object \n",
      " 8   Monthly_Inhand_Salary     42502 non-null  float64\n",
      " 9   Num_Bank_Accounts         50000 non-null  int64  \n",
      " 10  Num_Credit_Card           50000 non-null  int64  \n",
      " 11  Interest_Rate             50000 non-null  int64  \n",
      " 12  Num_of_Loan               50000 non-null  object \n",
      " 13  Type_of_Loan              44296 non-null  object \n",
      " 14  Delay_from_due_date       50000 non-null  int64  \n",
      " 15  Num_of_Delayed_Payment    46502 non-null  object \n",
      " 16  Changed_Credit_Limit      50000 non-null  object \n",
      " 17  Num_Credit_Inquiries      48965 non-null  float64\n",
      " 18  Credit_Mix                50000 non-null  object \n",
      " 19  Outstanding_Debt          50000 non-null  object \n",
      " 20  Credit_Utilization_Ratio  50000 non-null  float64\n",
      " 21  Credit_History_Age        45530 non-null  object \n",
      " 22  Payment_of_Min_Amount     50000 non-null  object \n",
      " 23  Total_EMI_per_month       50000 non-null  float64\n",
      " 24  Amount_invested_monthly   47729 non-null  object \n",
      " 25  Payment_Behaviour         50000 non-null  object \n",
      " 26  Monthly_Balance           49438 non-null  object \n",
      "dtypes: float64(4), int64(4), object(19)\n",
      "memory usage: 10.3+ MB\n"
     ]
    }
   ],
   "source": [
    "df_test.info()"
   ]
  },
  {
   "cell_type": "markdown",
   "metadata": {},
   "source": [
    "Pre-separated data shows 100,000 rows in the training set and 50,000 rows in the test set. Also note already that we see some missing values in both datasets so let's see how we're going to handle those later and how big of a deal they are that they are incomplete."
   ]
  },
  {
   "cell_type": "code",
   "execution_count": 6,
   "metadata": {},
   "outputs": [
    {
     "data": {
      "text/html": [
       "<div>\n",
       "<style scoped>\n",
       "    .dataframe tbody tr th:only-of-type {\n",
       "        vertical-align: middle;\n",
       "    }\n",
       "\n",
       "    .dataframe tbody tr th {\n",
       "        vertical-align: top;\n",
       "    }\n",
       "\n",
       "    .dataframe thead th {\n",
       "        text-align: right;\n",
       "    }\n",
       "</style>\n",
       "<table border=\"1\" class=\"dataframe\">\n",
       "  <thead>\n",
       "    <tr style=\"text-align: right;\">\n",
       "      <th></th>\n",
       "      <th>count</th>\n",
       "      <th>mean</th>\n",
       "      <th>std</th>\n",
       "      <th>min</th>\n",
       "      <th>25%</th>\n",
       "      <th>50%</th>\n",
       "      <th>75%</th>\n",
       "      <th>max</th>\n",
       "    </tr>\n",
       "  </thead>\n",
       "  <tbody>\n",
       "    <tr>\n",
       "      <th>Monthly_Inhand_Salary</th>\n",
       "      <td>84998.0</td>\n",
       "      <td>4194.170850</td>\n",
       "      <td>3183.686167</td>\n",
       "      <td>303.645417</td>\n",
       "      <td>1625.568229</td>\n",
       "      <td>3093.745000</td>\n",
       "      <td>5957.448333</td>\n",
       "      <td>15204.633333</td>\n",
       "    </tr>\n",
       "    <tr>\n",
       "      <th>Num_Bank_Accounts</th>\n",
       "      <td>100000.0</td>\n",
       "      <td>17.091280</td>\n",
       "      <td>117.404834</td>\n",
       "      <td>-1.000000</td>\n",
       "      <td>3.000000</td>\n",
       "      <td>6.000000</td>\n",
       "      <td>7.000000</td>\n",
       "      <td>1798.000000</td>\n",
       "    </tr>\n",
       "    <tr>\n",
       "      <th>Num_Credit_Card</th>\n",
       "      <td>100000.0</td>\n",
       "      <td>22.474430</td>\n",
       "      <td>129.057410</td>\n",
       "      <td>0.000000</td>\n",
       "      <td>4.000000</td>\n",
       "      <td>5.000000</td>\n",
       "      <td>7.000000</td>\n",
       "      <td>1499.000000</td>\n",
       "    </tr>\n",
       "    <tr>\n",
       "      <th>Interest_Rate</th>\n",
       "      <td>100000.0</td>\n",
       "      <td>72.466040</td>\n",
       "      <td>466.422621</td>\n",
       "      <td>1.000000</td>\n",
       "      <td>8.000000</td>\n",
       "      <td>13.000000</td>\n",
       "      <td>20.000000</td>\n",
       "      <td>5797.000000</td>\n",
       "    </tr>\n",
       "    <tr>\n",
       "      <th>Delay_from_due_date</th>\n",
       "      <td>100000.0</td>\n",
       "      <td>21.068780</td>\n",
       "      <td>14.860104</td>\n",
       "      <td>-5.000000</td>\n",
       "      <td>10.000000</td>\n",
       "      <td>18.000000</td>\n",
       "      <td>28.000000</td>\n",
       "      <td>67.000000</td>\n",
       "    </tr>\n",
       "    <tr>\n",
       "      <th>Num_Credit_Inquiries</th>\n",
       "      <td>98035.0</td>\n",
       "      <td>27.754251</td>\n",
       "      <td>193.177339</td>\n",
       "      <td>0.000000</td>\n",
       "      <td>3.000000</td>\n",
       "      <td>6.000000</td>\n",
       "      <td>9.000000</td>\n",
       "      <td>2597.000000</td>\n",
       "    </tr>\n",
       "    <tr>\n",
       "      <th>Credit_Utilization_Ratio</th>\n",
       "      <td>100000.0</td>\n",
       "      <td>32.285173</td>\n",
       "      <td>5.116875</td>\n",
       "      <td>20.000000</td>\n",
       "      <td>28.052567</td>\n",
       "      <td>32.305784</td>\n",
       "      <td>36.496663</td>\n",
       "      <td>50.000000</td>\n",
       "    </tr>\n",
       "    <tr>\n",
       "      <th>Total_EMI_per_month</th>\n",
       "      <td>100000.0</td>\n",
       "      <td>1403.118217</td>\n",
       "      <td>8306.041270</td>\n",
       "      <td>0.000000</td>\n",
       "      <td>30.306660</td>\n",
       "      <td>69.249473</td>\n",
       "      <td>161.224249</td>\n",
       "      <td>82331.000000</td>\n",
       "    </tr>\n",
       "  </tbody>\n",
       "</table>\n",
       "</div>"
      ],
      "text/plain": [
       "                             count         mean          std         min  \\\n",
       "Monthly_Inhand_Salary      84998.0  4194.170850  3183.686167  303.645417   \n",
       "Num_Bank_Accounts         100000.0    17.091280   117.404834   -1.000000   \n",
       "Num_Credit_Card           100000.0    22.474430   129.057410    0.000000   \n",
       "Interest_Rate             100000.0    72.466040   466.422621    1.000000   \n",
       "Delay_from_due_date       100000.0    21.068780    14.860104   -5.000000   \n",
       "Num_Credit_Inquiries       98035.0    27.754251   193.177339    0.000000   \n",
       "Credit_Utilization_Ratio  100000.0    32.285173     5.116875   20.000000   \n",
       "Total_EMI_per_month       100000.0  1403.118217  8306.041270    0.000000   \n",
       "\n",
       "                                  25%          50%          75%           max  \n",
       "Monthly_Inhand_Salary     1625.568229  3093.745000  5957.448333  15204.633333  \n",
       "Num_Bank_Accounts            3.000000     6.000000     7.000000   1798.000000  \n",
       "Num_Credit_Card              4.000000     5.000000     7.000000   1499.000000  \n",
       "Interest_Rate                8.000000    13.000000    20.000000   5797.000000  \n",
       "Delay_from_due_date         10.000000    18.000000    28.000000     67.000000  \n",
       "Num_Credit_Inquiries         3.000000     6.000000     9.000000   2597.000000  \n",
       "Credit_Utilization_Ratio    28.052567    32.305784    36.496663     50.000000  \n",
       "Total_EMI_per_month         30.306660    69.249473   161.224249  82331.000000  "
      ]
     },
     "execution_count": 6,
     "metadata": {},
     "output_type": "execute_result"
    }
   ],
   "source": [
    "df_train.describe().T"
   ]
  },
  {
   "cell_type": "markdown",
   "metadata": {},
   "source": [
    "- Number of bank accounts has a very high maximum (unfeasible). Minimum is -1 whilst logically this number should always be positive.\n",
    "- Number of credit cards has a very high maximum too. \n",
    "- Number of credit inquiries has a high maximum value.\n",
    "- In al 3 of these columns there are clearly outliers so maybe we do something to tidy these up"
   ]
  },
  {
   "cell_type": "markdown",
   "metadata": {},
   "source": [
    "# Initial Code Clean-Up"
   ]
  },
  {
   "cell_type": "code",
   "execution_count": 7,
   "metadata": {},
   "outputs": [
    {
     "name": "stdout",
     "output_type": "stream",
     "text": [
      "0\n",
      "0\n"
     ]
    }
   ],
   "source": [
    "# Check for duplicates\n",
    "print(df_train.duplicated().sum())\n",
    "print(df_test.duplicated().sum())"
   ]
  },
  {
   "cell_type": "markdown",
   "metadata": {},
   "source": [
    "Drop unique ID as this is just a row number and useless information"
   ]
  },
  {
   "cell_type": "code",
   "execution_count": 8,
   "metadata": {},
   "outputs": [],
   "source": [
    "df_train.drop('ID', axis=1, inplace=True)\n",
    "df_test.drop('ID', axis=1, inplace=True)"
   ]
  },
  {
   "cell_type": "markdown",
   "metadata": {},
   "source": [
    "### Name\n",
    "Dropped as useless to the machine learning model"
   ]
  },
  {
   "cell_type": "code",
   "execution_count": 9,
   "metadata": {},
   "outputs": [],
   "source": [
    "df_train.drop('Name', axis=1, inplace=True)\n",
    "df_test.drop('Name', axis=1, inplace=True)"
   ]
  },
  {
   "cell_type": "markdown",
   "metadata": {},
   "source": [
    "How many columns have missing values and what percentage are these?"
   ]
  },
  {
   "cell_type": "code",
   "execution_count": 10,
   "metadata": {},
   "outputs": [
    {
     "data": {
      "text/plain": [
       "Customer_ID                  0.000\n",
       "Month                        0.000\n",
       "Age                          0.000\n",
       "SSN                          0.000\n",
       "Occupation                   0.000\n",
       "Annual_Income                0.000\n",
       "Monthly_Inhand_Salary       15.002\n",
       "Num_Bank_Accounts            0.000\n",
       "Num_Credit_Card              0.000\n",
       "Interest_Rate                0.000\n",
       "Num_of_Loan                  0.000\n",
       "Type_of_Loan                11.408\n",
       "Delay_from_due_date          0.000\n",
       "Num_of_Delayed_Payment       7.002\n",
       "Changed_Credit_Limit         0.000\n",
       "Num_Credit_Inquiries         1.965\n",
       "Credit_Mix                   0.000\n",
       "Outstanding_Debt             0.000\n",
       "Credit_Utilization_Ratio     0.000\n",
       "Credit_History_Age           9.030\n",
       "Payment_of_Min_Amount        0.000\n",
       "Total_EMI_per_month          0.000\n",
       "Amount_invested_monthly      4.479\n",
       "Payment_Behaviour            0.000\n",
       "Monthly_Balance              1.200\n",
       "Credit_Score                 0.000\n",
       "dtype: float64"
      ]
     },
     "execution_count": 10,
     "metadata": {},
     "output_type": "execute_result"
    }
   ],
   "source": [
    "df_train.isnull().sum().apply(lambda x: 100*(x/len(df_train)))"
   ]
  },
  {
   "cell_type": "code",
   "execution_count": 11,
   "metadata": {},
   "outputs": [
    {
     "data": {
      "text/plain": [
       "12500"
      ]
     },
     "execution_count": 11,
     "metadata": {},
     "output_type": "execute_result"
    }
   ],
   "source": [
    "df_train['Customer_ID'].nunique()"
   ]
  },
  {
   "cell_type": "markdown",
   "metadata": {},
   "source": [
    "Out of 100,000 only 12,500 are unique customer ID's...What's going on here?"
   ]
  },
  {
   "cell_type": "code",
   "execution_count": 12,
   "metadata": {},
   "outputs": [
    {
     "data": {
      "text/html": [
       "<div>\n",
       "<style scoped>\n",
       "    .dataframe tbody tr th:only-of-type {\n",
       "        vertical-align: middle;\n",
       "    }\n",
       "\n",
       "    .dataframe tbody tr th {\n",
       "        vertical-align: top;\n",
       "    }\n",
       "\n",
       "    .dataframe thead th {\n",
       "        text-align: right;\n",
       "    }\n",
       "</style>\n",
       "<table border=\"1\" class=\"dataframe\">\n",
       "  <thead>\n",
       "    <tr style=\"text-align: right;\">\n",
       "      <th></th>\n",
       "      <th>Customer_ID</th>\n",
       "      <th>Month</th>\n",
       "      <th>Age</th>\n",
       "      <th>SSN</th>\n",
       "      <th>Occupation</th>\n",
       "      <th>Annual_Income</th>\n",
       "      <th>Monthly_Inhand_Salary</th>\n",
       "      <th>Num_Bank_Accounts</th>\n",
       "      <th>Num_Credit_Card</th>\n",
       "      <th>Interest_Rate</th>\n",
       "      <th>Num_of_Loan</th>\n",
       "      <th>Type_of_Loan</th>\n",
       "      <th>Delay_from_due_date</th>\n",
       "      <th>Num_of_Delayed_Payment</th>\n",
       "      <th>Changed_Credit_Limit</th>\n",
       "      <th>Num_Credit_Inquiries</th>\n",
       "      <th>Credit_Mix</th>\n",
       "      <th>Outstanding_Debt</th>\n",
       "      <th>Credit_Utilization_Ratio</th>\n",
       "      <th>Credit_History_Age</th>\n",
       "      <th>Payment_of_Min_Amount</th>\n",
       "      <th>Total_EMI_per_month</th>\n",
       "      <th>Amount_invested_monthly</th>\n",
       "      <th>Payment_Behaviour</th>\n",
       "      <th>Monthly_Balance</th>\n",
       "      <th>Credit_Score</th>\n",
       "    </tr>\n",
       "  </thead>\n",
       "  <tbody>\n",
       "    <tr>\n",
       "      <th>0</th>\n",
       "      <td>CUS_0xd40</td>\n",
       "      <td>January</td>\n",
       "      <td>23</td>\n",
       "      <td>821-00-0265</td>\n",
       "      <td>Scientist</td>\n",
       "      <td>19114.12</td>\n",
       "      <td>1824.843333</td>\n",
       "      <td>3</td>\n",
       "      <td>4</td>\n",
       "      <td>3</td>\n",
       "      <td>4</td>\n",
       "      <td>Auto Loan, Credit-Builder Loan, Personal Loan,...</td>\n",
       "      <td>3</td>\n",
       "      <td>7</td>\n",
       "      <td>11.27</td>\n",
       "      <td>4.0</td>\n",
       "      <td>_</td>\n",
       "      <td>809.98</td>\n",
       "      <td>26.822620</td>\n",
       "      <td>22 Years and 1 Months</td>\n",
       "      <td>No</td>\n",
       "      <td>49.574949</td>\n",
       "      <td>80.41529543900253</td>\n",
       "      <td>High_spent_Small_value_payments</td>\n",
       "      <td>312.49408867943663</td>\n",
       "      <td>Good</td>\n",
       "    </tr>\n",
       "    <tr>\n",
       "      <th>1</th>\n",
       "      <td>CUS_0xd40</td>\n",
       "      <td>February</td>\n",
       "      <td>23</td>\n",
       "      <td>821-00-0265</td>\n",
       "      <td>Scientist</td>\n",
       "      <td>19114.12</td>\n",
       "      <td>NaN</td>\n",
       "      <td>3</td>\n",
       "      <td>4</td>\n",
       "      <td>3</td>\n",
       "      <td>4</td>\n",
       "      <td>Auto Loan, Credit-Builder Loan, Personal Loan,...</td>\n",
       "      <td>-1</td>\n",
       "      <td>NaN</td>\n",
       "      <td>11.27</td>\n",
       "      <td>4.0</td>\n",
       "      <td>Good</td>\n",
       "      <td>809.98</td>\n",
       "      <td>31.944960</td>\n",
       "      <td>NaN</td>\n",
       "      <td>No</td>\n",
       "      <td>49.574949</td>\n",
       "      <td>118.28022162236736</td>\n",
       "      <td>Low_spent_Large_value_payments</td>\n",
       "      <td>284.62916249607184</td>\n",
       "      <td>Good</td>\n",
       "    </tr>\n",
       "    <tr>\n",
       "      <th>2</th>\n",
       "      <td>CUS_0xd40</td>\n",
       "      <td>March</td>\n",
       "      <td>-500</td>\n",
       "      <td>821-00-0265</td>\n",
       "      <td>Scientist</td>\n",
       "      <td>19114.12</td>\n",
       "      <td>NaN</td>\n",
       "      <td>3</td>\n",
       "      <td>4</td>\n",
       "      <td>3</td>\n",
       "      <td>4</td>\n",
       "      <td>Auto Loan, Credit-Builder Loan, Personal Loan,...</td>\n",
       "      <td>3</td>\n",
       "      <td>7</td>\n",
       "      <td>_</td>\n",
       "      <td>4.0</td>\n",
       "      <td>Good</td>\n",
       "      <td>809.98</td>\n",
       "      <td>28.609352</td>\n",
       "      <td>22 Years and 3 Months</td>\n",
       "      <td>No</td>\n",
       "      <td>49.574949</td>\n",
       "      <td>81.699521264648</td>\n",
       "      <td>Low_spent_Medium_value_payments</td>\n",
       "      <td>331.2098628537912</td>\n",
       "      <td>Good</td>\n",
       "    </tr>\n",
       "    <tr>\n",
       "      <th>3</th>\n",
       "      <td>CUS_0xd40</td>\n",
       "      <td>April</td>\n",
       "      <td>23</td>\n",
       "      <td>821-00-0265</td>\n",
       "      <td>Scientist</td>\n",
       "      <td>19114.12</td>\n",
       "      <td>NaN</td>\n",
       "      <td>3</td>\n",
       "      <td>4</td>\n",
       "      <td>3</td>\n",
       "      <td>4</td>\n",
       "      <td>Auto Loan, Credit-Builder Loan, Personal Loan,...</td>\n",
       "      <td>5</td>\n",
       "      <td>4</td>\n",
       "      <td>6.27</td>\n",
       "      <td>4.0</td>\n",
       "      <td>Good</td>\n",
       "      <td>809.98</td>\n",
       "      <td>31.377862</td>\n",
       "      <td>22 Years and 4 Months</td>\n",
       "      <td>No</td>\n",
       "      <td>49.574949</td>\n",
       "      <td>199.4580743910713</td>\n",
       "      <td>Low_spent_Small_value_payments</td>\n",
       "      <td>223.45130972736786</td>\n",
       "      <td>Good</td>\n",
       "    </tr>\n",
       "    <tr>\n",
       "      <th>4</th>\n",
       "      <td>CUS_0xd40</td>\n",
       "      <td>May</td>\n",
       "      <td>23</td>\n",
       "      <td>821-00-0265</td>\n",
       "      <td>Scientist</td>\n",
       "      <td>19114.12</td>\n",
       "      <td>1824.843333</td>\n",
       "      <td>3</td>\n",
       "      <td>4</td>\n",
       "      <td>3</td>\n",
       "      <td>4</td>\n",
       "      <td>Auto Loan, Credit-Builder Loan, Personal Loan,...</td>\n",
       "      <td>6</td>\n",
       "      <td>NaN</td>\n",
       "      <td>11.27</td>\n",
       "      <td>4.0</td>\n",
       "      <td>Good</td>\n",
       "      <td>809.98</td>\n",
       "      <td>24.797347</td>\n",
       "      <td>22 Years and 5 Months</td>\n",
       "      <td>No</td>\n",
       "      <td>49.574949</td>\n",
       "      <td>41.420153086217326</td>\n",
       "      <td>High_spent_Medium_value_payments</td>\n",
       "      <td>341.48923103222177</td>\n",
       "      <td>Good</td>\n",
       "    </tr>\n",
       "    <tr>\n",
       "      <th>5</th>\n",
       "      <td>CUS_0xd40</td>\n",
       "      <td>June</td>\n",
       "      <td>23</td>\n",
       "      <td>821-00-0265</td>\n",
       "      <td>Scientist</td>\n",
       "      <td>19114.12</td>\n",
       "      <td>NaN</td>\n",
       "      <td>3</td>\n",
       "      <td>4</td>\n",
       "      <td>3</td>\n",
       "      <td>4</td>\n",
       "      <td>Auto Loan, Credit-Builder Loan, Personal Loan,...</td>\n",
       "      <td>8</td>\n",
       "      <td>4</td>\n",
       "      <td>9.27</td>\n",
       "      <td>4.0</td>\n",
       "      <td>Good</td>\n",
       "      <td>809.98</td>\n",
       "      <td>27.262259</td>\n",
       "      <td>22 Years and 6 Months</td>\n",
       "      <td>No</td>\n",
       "      <td>49.574949</td>\n",
       "      <td>62.430172331195294</td>\n",
       "      <td>!@9#%8</td>\n",
       "      <td>340.4792117872438</td>\n",
       "      <td>Good</td>\n",
       "    </tr>\n",
       "    <tr>\n",
       "      <th>6</th>\n",
       "      <td>CUS_0xd40</td>\n",
       "      <td>July</td>\n",
       "      <td>23</td>\n",
       "      <td>821-00-0265</td>\n",
       "      <td>Scientist</td>\n",
       "      <td>19114.12</td>\n",
       "      <td>1824.843333</td>\n",
       "      <td>3</td>\n",
       "      <td>4</td>\n",
       "      <td>3</td>\n",
       "      <td>4</td>\n",
       "      <td>Auto Loan, Credit-Builder Loan, Personal Loan,...</td>\n",
       "      <td>3</td>\n",
       "      <td>8_</td>\n",
       "      <td>11.27</td>\n",
       "      <td>4.0</td>\n",
       "      <td>Good</td>\n",
       "      <td>809.98</td>\n",
       "      <td>22.537593</td>\n",
       "      <td>22 Years and 7 Months</td>\n",
       "      <td>No</td>\n",
       "      <td>49.574949</td>\n",
       "      <td>178.3440674122349</td>\n",
       "      <td>Low_spent_Small_value_payments</td>\n",
       "      <td>244.5653167062043</td>\n",
       "      <td>Good</td>\n",
       "    </tr>\n",
       "    <tr>\n",
       "      <th>7</th>\n",
       "      <td>CUS_0xd40</td>\n",
       "      <td>August</td>\n",
       "      <td>23</td>\n",
       "      <td>#F%$D@*&amp;8</td>\n",
       "      <td>Scientist</td>\n",
       "      <td>19114.12</td>\n",
       "      <td>1824.843333</td>\n",
       "      <td>3</td>\n",
       "      <td>4</td>\n",
       "      <td>3</td>\n",
       "      <td>4</td>\n",
       "      <td>Auto Loan, Credit-Builder Loan, Personal Loan,...</td>\n",
       "      <td>3</td>\n",
       "      <td>6</td>\n",
       "      <td>11.27</td>\n",
       "      <td>4.0</td>\n",
       "      <td>Good</td>\n",
       "      <td>809.98</td>\n",
       "      <td>23.933795</td>\n",
       "      <td>NaN</td>\n",
       "      <td>No</td>\n",
       "      <td>49.574949</td>\n",
       "      <td>24.785216509052056</td>\n",
       "      <td>High_spent_Medium_value_payments</td>\n",
       "      <td>358.12416760938714</td>\n",
       "      <td>Standard</td>\n",
       "    </tr>\n",
       "  </tbody>\n",
       "</table>\n",
       "</div>"
      ],
      "text/plain": [
       "  Customer_ID     Month   Age          SSN Occupation Annual_Income  \\\n",
       "0   CUS_0xd40   January    23  821-00-0265  Scientist      19114.12   \n",
       "1   CUS_0xd40  February    23  821-00-0265  Scientist      19114.12   \n",
       "2   CUS_0xd40     March  -500  821-00-0265  Scientist      19114.12   \n",
       "3   CUS_0xd40     April    23  821-00-0265  Scientist      19114.12   \n",
       "4   CUS_0xd40       May    23  821-00-0265  Scientist      19114.12   \n",
       "5   CUS_0xd40      June    23  821-00-0265  Scientist      19114.12   \n",
       "6   CUS_0xd40      July    23  821-00-0265  Scientist      19114.12   \n",
       "7   CUS_0xd40    August    23    #F%$D@*&8  Scientist      19114.12   \n",
       "\n",
       "   Monthly_Inhand_Salary  Num_Bank_Accounts  Num_Credit_Card  Interest_Rate  \\\n",
       "0            1824.843333                  3                4              3   \n",
       "1                    NaN                  3                4              3   \n",
       "2                    NaN                  3                4              3   \n",
       "3                    NaN                  3                4              3   \n",
       "4            1824.843333                  3                4              3   \n",
       "5                    NaN                  3                4              3   \n",
       "6            1824.843333                  3                4              3   \n",
       "7            1824.843333                  3                4              3   \n",
       "\n",
       "  Num_of_Loan                                       Type_of_Loan  \\\n",
       "0           4  Auto Loan, Credit-Builder Loan, Personal Loan,...   \n",
       "1           4  Auto Loan, Credit-Builder Loan, Personal Loan,...   \n",
       "2           4  Auto Loan, Credit-Builder Loan, Personal Loan,...   \n",
       "3           4  Auto Loan, Credit-Builder Loan, Personal Loan,...   \n",
       "4           4  Auto Loan, Credit-Builder Loan, Personal Loan,...   \n",
       "5           4  Auto Loan, Credit-Builder Loan, Personal Loan,...   \n",
       "6           4  Auto Loan, Credit-Builder Loan, Personal Loan,...   \n",
       "7           4  Auto Loan, Credit-Builder Loan, Personal Loan,...   \n",
       "\n",
       "   Delay_from_due_date Num_of_Delayed_Payment Changed_Credit_Limit  \\\n",
       "0                    3                      7                11.27   \n",
       "1                   -1                    NaN                11.27   \n",
       "2                    3                      7                    _   \n",
       "3                    5                      4                 6.27   \n",
       "4                    6                    NaN                11.27   \n",
       "5                    8                      4                 9.27   \n",
       "6                    3                     8_                11.27   \n",
       "7                    3                      6                11.27   \n",
       "\n",
       "   Num_Credit_Inquiries Credit_Mix Outstanding_Debt  Credit_Utilization_Ratio  \\\n",
       "0                   4.0          _           809.98                 26.822620   \n",
       "1                   4.0       Good           809.98                 31.944960   \n",
       "2                   4.0       Good           809.98                 28.609352   \n",
       "3                   4.0       Good           809.98                 31.377862   \n",
       "4                   4.0       Good           809.98                 24.797347   \n",
       "5                   4.0       Good           809.98                 27.262259   \n",
       "6                   4.0       Good           809.98                 22.537593   \n",
       "7                   4.0       Good           809.98                 23.933795   \n",
       "\n",
       "      Credit_History_Age Payment_of_Min_Amount  Total_EMI_per_month  \\\n",
       "0  22 Years and 1 Months                    No            49.574949   \n",
       "1                    NaN                    No            49.574949   \n",
       "2  22 Years and 3 Months                    No            49.574949   \n",
       "3  22 Years and 4 Months                    No            49.574949   \n",
       "4  22 Years and 5 Months                    No            49.574949   \n",
       "5  22 Years and 6 Months                    No            49.574949   \n",
       "6  22 Years and 7 Months                    No            49.574949   \n",
       "7                    NaN                    No            49.574949   \n",
       "\n",
       "  Amount_invested_monthly                 Payment_Behaviour  \\\n",
       "0       80.41529543900253   High_spent_Small_value_payments   \n",
       "1      118.28022162236736    Low_spent_Large_value_payments   \n",
       "2         81.699521264648   Low_spent_Medium_value_payments   \n",
       "3       199.4580743910713    Low_spent_Small_value_payments   \n",
       "4      41.420153086217326  High_spent_Medium_value_payments   \n",
       "5      62.430172331195294                            !@9#%8   \n",
       "6       178.3440674122349    Low_spent_Small_value_payments   \n",
       "7      24.785216509052056  High_spent_Medium_value_payments   \n",
       "\n",
       "      Monthly_Balance Credit_Score  \n",
       "0  312.49408867943663         Good  \n",
       "1  284.62916249607184         Good  \n",
       "2   331.2098628537912         Good  \n",
       "3  223.45130972736786         Good  \n",
       "4  341.48923103222177         Good  \n",
       "5   340.4792117872438         Good  \n",
       "6   244.5653167062043         Good  \n",
       "7  358.12416760938714     Standard  "
      ]
     },
     "execution_count": 12,
     "metadata": {},
     "output_type": "execute_result"
    }
   ],
   "source": [
    "df_train[df_train['Customer_ID']==\"CUS_0xd40\"]"
   ]
  },
  {
   "cell_type": "markdown",
   "metadata": {},
   "source": [
    "Just selecting one person's customer ID, it seems as though we are tracking them through time in this case from January to August. This should help us fill in some missing information such as if we know their customer ID and for example Age is sometimes incorrect, we can fill this information in. Might have to be careful here as might not always be easy to automate.\n",
    "\n",
    "Before we train a machine learning model we will drop this Customer_ID column"
   ]
  },
  {
   "cell_type": "markdown",
   "metadata": {},
   "source": [
    "# Exploratory Data Analysis and Data Clean-up"
   ]
  },
  {
   "cell_type": "markdown",
   "metadata": {},
   "source": [
    "## Numerical Columns"
   ]
  },
  {
   "cell_type": "markdown",
   "metadata": {},
   "source": [
    "### Month\n",
    "Convert month to numerical data"
   ]
  },
  {
   "cell_type": "code",
   "execution_count": 13,
   "metadata": {},
   "outputs": [
    {
     "data": {
      "text/html": [
       "<div>\n",
       "<style scoped>\n",
       "    .dataframe tbody tr th:only-of-type {\n",
       "        vertical-align: middle;\n",
       "    }\n",
       "\n",
       "    .dataframe tbody tr th {\n",
       "        vertical-align: top;\n",
       "    }\n",
       "\n",
       "    .dataframe thead th {\n",
       "        text-align: right;\n",
       "    }\n",
       "</style>\n",
       "<table border=\"1\" class=\"dataframe\">\n",
       "  <thead>\n",
       "    <tr style=\"text-align: right;\">\n",
       "      <th></th>\n",
       "      <th>Customer_ID</th>\n",
       "      <th>Month</th>\n",
       "      <th>Age</th>\n",
       "      <th>SSN</th>\n",
       "      <th>Occupation</th>\n",
       "      <th>Annual_Income</th>\n",
       "      <th>Monthly_Inhand_Salary</th>\n",
       "      <th>Num_Bank_Accounts</th>\n",
       "      <th>Num_Credit_Card</th>\n",
       "      <th>Interest_Rate</th>\n",
       "      <th>Num_of_Loan</th>\n",
       "      <th>Type_of_Loan</th>\n",
       "      <th>Delay_from_due_date</th>\n",
       "      <th>Num_of_Delayed_Payment</th>\n",
       "      <th>Changed_Credit_Limit</th>\n",
       "      <th>Num_Credit_Inquiries</th>\n",
       "      <th>Credit_Mix</th>\n",
       "      <th>Outstanding_Debt</th>\n",
       "      <th>Credit_Utilization_Ratio</th>\n",
       "      <th>Credit_History_Age</th>\n",
       "      <th>Payment_of_Min_Amount</th>\n",
       "      <th>Total_EMI_per_month</th>\n",
       "      <th>Amount_invested_monthly</th>\n",
       "      <th>Payment_Behaviour</th>\n",
       "      <th>Monthly_Balance</th>\n",
       "      <th>Credit_Score</th>\n",
       "    </tr>\n",
       "  </thead>\n",
       "  <tbody>\n",
       "    <tr>\n",
       "      <th>0</th>\n",
       "      <td>CUS_0xd40</td>\n",
       "      <td>1</td>\n",
       "      <td>23</td>\n",
       "      <td>821-00-0265</td>\n",
       "      <td>Scientist</td>\n",
       "      <td>19114.12</td>\n",
       "      <td>1824.843333</td>\n",
       "      <td>3</td>\n",
       "      <td>4</td>\n",
       "      <td>3</td>\n",
       "      <td>4</td>\n",
       "      <td>Auto Loan, Credit-Builder Loan, Personal Loan,...</td>\n",
       "      <td>3</td>\n",
       "      <td>7</td>\n",
       "      <td>11.27</td>\n",
       "      <td>4.0</td>\n",
       "      <td>_</td>\n",
       "      <td>809.98</td>\n",
       "      <td>26.822620</td>\n",
       "      <td>22 Years and 1 Months</td>\n",
       "      <td>No</td>\n",
       "      <td>49.574949</td>\n",
       "      <td>80.41529543900253</td>\n",
       "      <td>High_spent_Small_value_payments</td>\n",
       "      <td>312.49408867943663</td>\n",
       "      <td>Good</td>\n",
       "    </tr>\n",
       "    <tr>\n",
       "      <th>1</th>\n",
       "      <td>CUS_0xd40</td>\n",
       "      <td>2</td>\n",
       "      <td>23</td>\n",
       "      <td>821-00-0265</td>\n",
       "      <td>Scientist</td>\n",
       "      <td>19114.12</td>\n",
       "      <td>NaN</td>\n",
       "      <td>3</td>\n",
       "      <td>4</td>\n",
       "      <td>3</td>\n",
       "      <td>4</td>\n",
       "      <td>Auto Loan, Credit-Builder Loan, Personal Loan,...</td>\n",
       "      <td>-1</td>\n",
       "      <td>NaN</td>\n",
       "      <td>11.27</td>\n",
       "      <td>4.0</td>\n",
       "      <td>Good</td>\n",
       "      <td>809.98</td>\n",
       "      <td>31.944960</td>\n",
       "      <td>NaN</td>\n",
       "      <td>No</td>\n",
       "      <td>49.574949</td>\n",
       "      <td>118.28022162236736</td>\n",
       "      <td>Low_spent_Large_value_payments</td>\n",
       "      <td>284.62916249607184</td>\n",
       "      <td>Good</td>\n",
       "    </tr>\n",
       "    <tr>\n",
       "      <th>2</th>\n",
       "      <td>CUS_0xd40</td>\n",
       "      <td>3</td>\n",
       "      <td>-500</td>\n",
       "      <td>821-00-0265</td>\n",
       "      <td>Scientist</td>\n",
       "      <td>19114.12</td>\n",
       "      <td>NaN</td>\n",
       "      <td>3</td>\n",
       "      <td>4</td>\n",
       "      <td>3</td>\n",
       "      <td>4</td>\n",
       "      <td>Auto Loan, Credit-Builder Loan, Personal Loan,...</td>\n",
       "      <td>3</td>\n",
       "      <td>7</td>\n",
       "      <td>_</td>\n",
       "      <td>4.0</td>\n",
       "      <td>Good</td>\n",
       "      <td>809.98</td>\n",
       "      <td>28.609352</td>\n",
       "      <td>22 Years and 3 Months</td>\n",
       "      <td>No</td>\n",
       "      <td>49.574949</td>\n",
       "      <td>81.699521264648</td>\n",
       "      <td>Low_spent_Medium_value_payments</td>\n",
       "      <td>331.2098628537912</td>\n",
       "      <td>Good</td>\n",
       "    </tr>\n",
       "    <tr>\n",
       "      <th>3</th>\n",
       "      <td>CUS_0xd40</td>\n",
       "      <td>4</td>\n",
       "      <td>23</td>\n",
       "      <td>821-00-0265</td>\n",
       "      <td>Scientist</td>\n",
       "      <td>19114.12</td>\n",
       "      <td>NaN</td>\n",
       "      <td>3</td>\n",
       "      <td>4</td>\n",
       "      <td>3</td>\n",
       "      <td>4</td>\n",
       "      <td>Auto Loan, Credit-Builder Loan, Personal Loan,...</td>\n",
       "      <td>5</td>\n",
       "      <td>4</td>\n",
       "      <td>6.27</td>\n",
       "      <td>4.0</td>\n",
       "      <td>Good</td>\n",
       "      <td>809.98</td>\n",
       "      <td>31.377862</td>\n",
       "      <td>22 Years and 4 Months</td>\n",
       "      <td>No</td>\n",
       "      <td>49.574949</td>\n",
       "      <td>199.4580743910713</td>\n",
       "      <td>Low_spent_Small_value_payments</td>\n",
       "      <td>223.45130972736786</td>\n",
       "      <td>Good</td>\n",
       "    </tr>\n",
       "    <tr>\n",
       "      <th>4</th>\n",
       "      <td>CUS_0xd40</td>\n",
       "      <td>5</td>\n",
       "      <td>23</td>\n",
       "      <td>821-00-0265</td>\n",
       "      <td>Scientist</td>\n",
       "      <td>19114.12</td>\n",
       "      <td>1824.843333</td>\n",
       "      <td>3</td>\n",
       "      <td>4</td>\n",
       "      <td>3</td>\n",
       "      <td>4</td>\n",
       "      <td>Auto Loan, Credit-Builder Loan, Personal Loan,...</td>\n",
       "      <td>6</td>\n",
       "      <td>NaN</td>\n",
       "      <td>11.27</td>\n",
       "      <td>4.0</td>\n",
       "      <td>Good</td>\n",
       "      <td>809.98</td>\n",
       "      <td>24.797347</td>\n",
       "      <td>22 Years and 5 Months</td>\n",
       "      <td>No</td>\n",
       "      <td>49.574949</td>\n",
       "      <td>41.420153086217326</td>\n",
       "      <td>High_spent_Medium_value_payments</td>\n",
       "      <td>341.48923103222177</td>\n",
       "      <td>Good</td>\n",
       "    </tr>\n",
       "  </tbody>\n",
       "</table>\n",
       "</div>"
      ],
      "text/plain": [
       "  Customer_ID  Month   Age          SSN Occupation Annual_Income  \\\n",
       "0   CUS_0xd40      1    23  821-00-0265  Scientist      19114.12   \n",
       "1   CUS_0xd40      2    23  821-00-0265  Scientist      19114.12   \n",
       "2   CUS_0xd40      3  -500  821-00-0265  Scientist      19114.12   \n",
       "3   CUS_0xd40      4    23  821-00-0265  Scientist      19114.12   \n",
       "4   CUS_0xd40      5    23  821-00-0265  Scientist      19114.12   \n",
       "\n",
       "   Monthly_Inhand_Salary  Num_Bank_Accounts  Num_Credit_Card  Interest_Rate  \\\n",
       "0            1824.843333                  3                4              3   \n",
       "1                    NaN                  3                4              3   \n",
       "2                    NaN                  3                4              3   \n",
       "3                    NaN                  3                4              3   \n",
       "4            1824.843333                  3                4              3   \n",
       "\n",
       "  Num_of_Loan                                       Type_of_Loan  \\\n",
       "0           4  Auto Loan, Credit-Builder Loan, Personal Loan,...   \n",
       "1           4  Auto Loan, Credit-Builder Loan, Personal Loan,...   \n",
       "2           4  Auto Loan, Credit-Builder Loan, Personal Loan,...   \n",
       "3           4  Auto Loan, Credit-Builder Loan, Personal Loan,...   \n",
       "4           4  Auto Loan, Credit-Builder Loan, Personal Loan,...   \n",
       "\n",
       "   Delay_from_due_date Num_of_Delayed_Payment Changed_Credit_Limit  \\\n",
       "0                    3                      7                11.27   \n",
       "1                   -1                    NaN                11.27   \n",
       "2                    3                      7                    _   \n",
       "3                    5                      4                 6.27   \n",
       "4                    6                    NaN                11.27   \n",
       "\n",
       "   Num_Credit_Inquiries Credit_Mix Outstanding_Debt  Credit_Utilization_Ratio  \\\n",
       "0                   4.0          _           809.98                 26.822620   \n",
       "1                   4.0       Good           809.98                 31.944960   \n",
       "2                   4.0       Good           809.98                 28.609352   \n",
       "3                   4.0       Good           809.98                 31.377862   \n",
       "4                   4.0       Good           809.98                 24.797347   \n",
       "\n",
       "      Credit_History_Age Payment_of_Min_Amount  Total_EMI_per_month  \\\n",
       "0  22 Years and 1 Months                    No            49.574949   \n",
       "1                    NaN                    No            49.574949   \n",
       "2  22 Years and 3 Months                    No            49.574949   \n",
       "3  22 Years and 4 Months                    No            49.574949   \n",
       "4  22 Years and 5 Months                    No            49.574949   \n",
       "\n",
       "  Amount_invested_monthly                 Payment_Behaviour  \\\n",
       "0       80.41529543900253   High_spent_Small_value_payments   \n",
       "1      118.28022162236736    Low_spent_Large_value_payments   \n",
       "2         81.699521264648   Low_spent_Medium_value_payments   \n",
       "3       199.4580743910713    Low_spent_Small_value_payments   \n",
       "4      41.420153086217326  High_spent_Medium_value_payments   \n",
       "\n",
       "      Monthly_Balance Credit_Score  \n",
       "0  312.49408867943663         Good  \n",
       "1  284.62916249607184         Good  \n",
       "2   331.2098628537912         Good  \n",
       "3  223.45130972736786         Good  \n",
       "4  341.48923103222177         Good  "
      ]
     },
     "execution_count": 13,
     "metadata": {},
     "output_type": "execute_result"
    }
   ],
   "source": [
    "month_num = {'January':1, 'February':2, 'March':3, 'April':4, 'May':5, 'June':6, 'July':7, 'August':8, 'September':9, 'October':10, 'November':11, 'December':12}\n",
    "df_train['Month'] = df_train['Month'].map(month_num)\n",
    "df_test['Month'] = df_test['Month'].map(month_num)\n",
    "df_train.head()"
   ]
  },
  {
   "cell_type": "markdown",
   "metadata": {},
   "source": [
    "### Age\n",
    "Presently an object column so let's try convert to number"
   ]
  },
  {
   "cell_type": "code",
   "execution_count": 14,
   "metadata": {},
   "outputs": [
    {
     "data": {
      "text/plain": [
       "array(['23', '-500', '28_', ..., '4808_', '2263', '1342'], dtype=object)"
      ]
     },
     "execution_count": 14,
     "metadata": {},
     "output_type": "execute_result"
    }
   ],
   "source": [
    "df_train['Age'].unique()\n"
   ]
  },
  {
   "cell_type": "markdown",
   "metadata": {},
   "source": [
    "Some underscores we should remove, some clear outliers too but let's ignore those for now, convert to a number and then let's try plot this information in some way"
   ]
  },
  {
   "cell_type": "code",
   "execution_count": 15,
   "metadata": {},
   "outputs": [],
   "source": [
    "df_train['Age'] = df_train['Age'].apply(lambda age: float(age.replace(\"_\",\"\")))\n",
    "df_test['Age'] = df_test['Age'].apply(lambda age: float(age.replace(\"_\",\"\")))"
   ]
  },
  {
   "cell_type": "code",
   "execution_count": 16,
   "metadata": {},
   "outputs": [
    {
     "data": {
      "text/plain": [
       "count    100000.000000\n",
       "mean        110.649700\n",
       "std         686.244717\n",
       "min        -500.000000\n",
       "25%          24.000000\n",
       "50%          33.000000\n",
       "75%          42.000000\n",
       "max        8698.000000\n",
       "Name: Age, dtype: float64"
      ]
     },
     "execution_count": 16,
     "metadata": {},
     "output_type": "execute_result"
    }
   ],
   "source": [
    "df_train['Age'].describe()"
   ]
  },
  {
   "cell_type": "markdown",
   "metadata": {},
   "source": [
    "How many are below 0 and how many above 100?"
   ]
  },
  {
   "cell_type": "code",
   "execution_count": 17,
   "metadata": {},
   "outputs": [
    {
     "name": "stdout",
     "output_type": "stream",
     "text": [
      "below 0 =  886\n",
      "above 100 =  1890\n"
     ]
    }
   ],
   "source": [
    "print(\"below 0 = \", df_train[df_train['Age'] < 0]['Customer_ID'].count())\n",
    "print(\"above 100 = \", df_train[df_train['Age'] > 100]['Customer_ID'].count())"
   ]
  },
  {
   "cell_type": "markdown",
   "metadata": {},
   "source": [
    "Total of 2776 (3%) incorrect and silly values. Do we just want to drop these rows?\n",
    "\n",
    "Noticed that if we group by customer_ID then we might be able to fill in this information somewhat accurately...\n",
    "Let's fill in with their mean age because they could have their birthday during the months studied and I would not know when this exactly occurs anyway."
   ]
  },
  {
   "cell_type": "code",
   "execution_count": 18,
   "metadata": {},
   "outputs": [],
   "source": [
    "# Remove outliers\n",
    "df_train['Age'] = df_train['Age'].apply(lambda age: np.nan if (age < 0 or age > 100) else age)\n",
    "df_test['Age'] = df_test['Age'].apply(lambda age: np.nan if (age < 0 or age > 100) else age)\n",
    "\n",
    "# Calculate mean without outliers\n",
    "customer_age = df_train.groupby('Customer_ID')['Age'].mean()\n",
    "\n",
    "# Fill in missing data with customers mean age\n",
    "def fill_age(customer_ID,Age):\n",
    "    return customer_age[customer_ID] if np.isnan(Age) else Age\n",
    "df_train['Age'] = df_train.apply(lambda x: fill_age(x['Customer_ID'], x['Age']), axis=1)\n",
    "df_test['Age'] = df_test.apply(lambda x: fill_age(x['Customer_ID'], x['Age']), axis=1)"
   ]
  },
  {
   "cell_type": "code",
   "execution_count": 19,
   "metadata": {},
   "outputs": [
    {
     "data": {
      "text/plain": [
       "<AxesSubplot: xlabel='Age', ylabel='Count'>"
      ]
     },
     "execution_count": 19,
     "metadata": {},
     "output_type": "execute_result"
    },
    {
     "data": {
      "image/png": "[encoded data removed]",
      "text/plain": [
       "<Figure size 640x480 with 1 Axes>"
      ]
     },
     "metadata": {},
     "output_type": "display_data"
    }
   ],
   "source": [
    "fig = plt.figure() \n",
    "ax = fig.add_subplot(1,1,1)\n",
    "sns.histplot(df_train, x='Age', ax=ax, bins=100)"
   ]
  },
  {
   "cell_type": "markdown",
   "metadata": {},
   "source": [
    "Okay now we can look at just values in a reasonable age range we have a spread I roughly expect with the majority of people aged around 20-50"
   ]
  },
  {
   "cell_type": "code",
   "execution_count": 20,
   "metadata": {},
   "outputs": [
    {
     "data": {
      "text/plain": [
       "count    100000.000000\n",
       "mean         33.314434\n",
       "std          10.773858\n",
       "min          14.000000\n",
       "25%          24.000000\n",
       "50%          33.000000\n",
       "75%          42.000000\n",
       "max         100.000000\n",
       "Name: Age, dtype: float64"
      ]
     },
     "execution_count": 20,
     "metadata": {},
     "output_type": "execute_result"
    }
   ],
   "source": [
    "df_train['Age'].describe()"
   ]
  },
  {
   "cell_type": "markdown",
   "metadata": {},
   "source": [
    "### SSN\n",
    "Is a random string of digits so we can go ahead and drop this now as we already have a customer ID to groupby"
   ]
  },
  {
   "cell_type": "code",
   "execution_count": 21,
   "metadata": {},
   "outputs": [],
   "source": [
    "df_train.drop('SSN', axis=1, inplace=True)\n",
    "df_test.drop('SSN', axis=1, inplace=True)"
   ]
  },
  {
   "cell_type": "markdown",
   "metadata": {},
   "source": [
    "### Annual_Income\n",
    "Currently an object column so let's try figure out why"
   ]
  },
  {
   "cell_type": "code",
   "execution_count": 22,
   "metadata": {},
   "outputs": [
    {
     "data": {
      "text/plain": [
       "array(['19114.12', '34847.84', '34847.84_', ..., '20002.88', '39628.99',\n",
       "       '39628.99_'], dtype=object)"
      ]
     },
     "execution_count": 22,
     "metadata": {},
     "output_type": "execute_result"
    }
   ],
   "source": [
    "df_train['Annual_Income'].unique()"
   ]
  },
  {
   "cell_type": "markdown",
   "metadata": {},
   "source": [
    "Plagued by the underscores again..."
   ]
  },
  {
   "cell_type": "code",
   "execution_count": 23,
   "metadata": {},
   "outputs": [],
   "source": [
    "df_train['Annual_Income'] = df_train['Annual_Income'].apply(lambda income: float(income.replace(\"_\",\"\")))\n",
    "df_test['Annual_Income'] = df_test['Annual_Income'].apply(lambda income: float(income.replace(\"_\",\"\")))"
   ]
  },
  {
   "cell_type": "code",
   "execution_count": 24,
   "metadata": {},
   "outputs": [
    {
     "data": {
      "text/plain": [
       "count    1.000000e+05\n",
       "mean     1.764157e+05\n",
       "std      1.429618e+06\n",
       "min      7.005930e+03\n",
       "25%      1.945750e+04\n",
       "50%      3.757861e+04\n",
       "75%      7.279092e+04\n",
       "max      2.419806e+07\n",
       "Name: Annual_Income, dtype: float64"
      ]
     },
     "execution_count": 24,
     "metadata": {},
     "output_type": "execute_result"
    }
   ],
   "source": [
    "df_train['Annual_Income'].describe()"
   ]
  },
  {
   "cell_type": "code",
   "execution_count": 25,
   "metadata": {},
   "outputs": [
    {
     "data": {
      "text/plain": [
       "(0.0, 200000.0)"
      ]
     },
     "execution_count": 25,
     "metadata": {},
     "output_type": "execute_result"
    },
    {
     "data": {
      "image/png": "[encoded data removed]",
      "text/plain": [
       "<Figure size 640x480 with 1 Axes>"
      ]
     },
     "metadata": {},
     "output_type": "display_data"
    }
   ],
   "source": [
    "fig = plt.figure()\n",
    "ax = fig.add_subplot()\n",
    "sns.histplot(x=df_train[\"Annual_Income\"], ax=ax)\n",
    "ax.set_xlim(0, 200000)"
   ]
  },
  {
   "cell_type": "markdown",
   "metadata": {},
   "source": [
    "Based on the above graph, seems as though anything above the sort of $200,000 mark is going to be an outlier. Let's see how many values are outside this range and what they are to check."
   ]
  },
  {
   "cell_type": "code",
   "execution_count": 26,
   "metadata": {},
   "outputs": [
    {
     "data": {
      "text/plain": [
       "999"
      ]
     },
     "execution_count": 26,
     "metadata": {},
     "output_type": "execute_result"
    }
   ],
   "source": [
    "high_earners = df_train[df_train['Annual_Income'] > 200000]\n",
    "high_earners['Customer_ID'].count()"
   ]
  },
  {
   "cell_type": "code",
   "execution_count": 27,
   "metadata": {},
   "outputs": [
    {
     "data": {
      "text/plain": [
       "count    9.990000e+02\n",
       "mean     1.265491e+07\n",
       "std      6.870300e+06\n",
       "min      2.518890e+05\n",
       "25%      7.057950e+06\n",
       "50%      1.295301e+07\n",
       "75%      1.850880e+07\n",
       "max      2.419806e+07\n",
       "Name: Annual_Income, dtype: float64"
      ]
     },
     "execution_count": 27,
     "metadata": {},
     "output_type": "execute_result"
    }
   ],
   "source": [
    "high_earners['Annual_Income'].describe()"
   ]
  },
  {
   "cell_type": "code",
   "execution_count": 28,
   "metadata": {},
   "outputs": [
    {
     "data": {
      "text/plain": [
       "<AxesSubplot: xlabel='Annual_Income', ylabel='Count'>"
      ]
     },
     "execution_count": 28,
     "metadata": {},
     "output_type": "execute_result"
    },
    {
     "data": {
      "image/png": "[encoded data removed]",
      "text/plain": [
       "<Figure size 640x480 with 1 Axes>"
      ]
     },
     "metadata": {},
     "output_type": "display_data"
    }
   ],
   "source": [
    "fig = plt.figure()\n",
    "ax = fig.add_subplot()\n",
    "sns.histplot(x=high_earners[\"Annual_Income\"], bins=50, ax=ax)"
   ]
  },
  {
   "cell_type": "markdown",
   "metadata": {},
   "source": [
    "Uniformly distributed is not exactly what I would expect for a distribution of salaries...\n",
    "\n",
    "Let's try select on of the customer ID's of our \"high earners\""
   ]
  },
  {
   "cell_type": "code",
   "execution_count": 29,
   "metadata": {},
   "outputs": [
    {
     "data": {
      "text/plain": [
       "54     CUS_0x284a\n",
       "231    CUS_0xbffe\n",
       "245    CUS_0x9a71\n",
       "361    CUS_0x8e9b\n",
       "368    CUS_0x609d\n",
       "Name: Customer_ID, dtype: object"
      ]
     },
     "execution_count": 29,
     "metadata": {},
     "output_type": "execute_result"
    }
   ],
   "source": [
    "high_earners['Customer_ID'].head()"
   ]
  },
  {
   "cell_type": "code",
   "execution_count": 30,
   "metadata": {},
   "outputs": [
    {
     "data": {
      "text/html": [
       "<div>\n",
       "<style scoped>\n",
       "    .dataframe tbody tr th:only-of-type {\n",
       "        vertical-align: middle;\n",
       "    }\n",
       "\n",
       "    .dataframe tbody tr th {\n",
       "        vertical-align: top;\n",
       "    }\n",
       "\n",
       "    .dataframe thead th {\n",
       "        text-align: right;\n",
       "    }\n",
       "</style>\n",
       "<table border=\"1\" class=\"dataframe\">\n",
       "  <thead>\n",
       "    <tr style=\"text-align: right;\">\n",
       "      <th></th>\n",
       "      <th>Customer_ID</th>\n",
       "      <th>Month</th>\n",
       "      <th>Age</th>\n",
       "      <th>Occupation</th>\n",
       "      <th>Annual_Income</th>\n",
       "      <th>Monthly_Inhand_Salary</th>\n",
       "      <th>Num_Bank_Accounts</th>\n",
       "      <th>Num_Credit_Card</th>\n",
       "      <th>Interest_Rate</th>\n",
       "      <th>Num_of_Loan</th>\n",
       "      <th>Type_of_Loan</th>\n",
       "      <th>Delay_from_due_date</th>\n",
       "      <th>Num_of_Delayed_Payment</th>\n",
       "      <th>Changed_Credit_Limit</th>\n",
       "      <th>Num_Credit_Inquiries</th>\n",
       "      <th>Credit_Mix</th>\n",
       "      <th>Outstanding_Debt</th>\n",
       "      <th>Credit_Utilization_Ratio</th>\n",
       "      <th>Credit_History_Age</th>\n",
       "      <th>Payment_of_Min_Amount</th>\n",
       "      <th>Total_EMI_per_month</th>\n",
       "      <th>Amount_invested_monthly</th>\n",
       "      <th>Payment_Behaviour</th>\n",
       "      <th>Monthly_Balance</th>\n",
       "      <th>Credit_Score</th>\n",
       "    </tr>\n",
       "  </thead>\n",
       "  <tbody>\n",
       "    <tr>\n",
       "      <th>48</th>\n",
       "      <td>CUS_0x284a</td>\n",
       "      <td>1</td>\n",
       "      <td>33.0</td>\n",
       "      <td>Lawyer</td>\n",
       "      <td>131313.4</td>\n",
       "      <td>11242.783333</td>\n",
       "      <td>0</td>\n",
       "      <td>1</td>\n",
       "      <td>8</td>\n",
       "      <td>2</td>\n",
       "      <td>Credit-Builder Loan, and Mortgage Loan</td>\n",
       "      <td>0</td>\n",
       "      <td>3</td>\n",
       "      <td>9.34</td>\n",
       "      <td>2.0</td>\n",
       "      <td>Good</td>\n",
       "      <td>352.16</td>\n",
       "      <td>32.200509</td>\n",
       "      <td>30 Years and 7 Months</td>\n",
       "      <td>NM</td>\n",
       "      <td>137.644605</td>\n",
       "      <td>378.1712535207537</td>\n",
       "      <td>High_spent_Medium_value_payments</td>\n",
       "      <td>858.462474411158</td>\n",
       "      <td>Good</td>\n",
       "    </tr>\n",
       "    <tr>\n",
       "      <th>49</th>\n",
       "      <td>CUS_0x284a</td>\n",
       "      <td>2</td>\n",
       "      <td>34.0</td>\n",
       "      <td>Lawyer</td>\n",
       "      <td>131313.4</td>\n",
       "      <td>11242.783333</td>\n",
       "      <td>0</td>\n",
       "      <td>1</td>\n",
       "      <td>8</td>\n",
       "      <td>2</td>\n",
       "      <td>Credit-Builder Loan, and Mortgage Loan</td>\n",
       "      <td>-1</td>\n",
       "      <td>2</td>\n",
       "      <td>15.34</td>\n",
       "      <td>4.0</td>\n",
       "      <td>Good</td>\n",
       "      <td>352.16</td>\n",
       "      <td>31.983710</td>\n",
       "      <td>30 Years and 8 Months</td>\n",
       "      <td>No</td>\n",
       "      <td>137.644605</td>\n",
       "      <td>698.8732707169384</td>\n",
       "      <td>High_spent_Small_value_payments</td>\n",
       "      <td>547.7604572149734</td>\n",
       "      <td>Good</td>\n",
       "    </tr>\n",
       "    <tr>\n",
       "      <th>50</th>\n",
       "      <td>CUS_0x284a</td>\n",
       "      <td>3</td>\n",
       "      <td>34.0</td>\n",
       "      <td>Lawyer</td>\n",
       "      <td>131313.4</td>\n",
       "      <td>10469.207759</td>\n",
       "      <td>0</td>\n",
       "      <td>1</td>\n",
       "      <td>8</td>\n",
       "      <td>2</td>\n",
       "      <td>Credit-Builder Loan, and Mortgage Loan</td>\n",
       "      <td>0</td>\n",
       "      <td>3</td>\n",
       "      <td>9.34</td>\n",
       "      <td>4.0</td>\n",
       "      <td>Good</td>\n",
       "      <td>352.16</td>\n",
       "      <td>31.803134</td>\n",
       "      <td>30 Years and 9 Months</td>\n",
       "      <td>NM</td>\n",
       "      <td>911.220179</td>\n",
       "      <td>188.06432109973838</td>\n",
       "      <td>High_spent_Large_value_payments</td>\n",
       "      <td>1038.5694068321734</td>\n",
       "      <td>Good</td>\n",
       "    </tr>\n",
       "    <tr>\n",
       "      <th>51</th>\n",
       "      <td>CUS_0x284a</td>\n",
       "      <td>4</td>\n",
       "      <td>34.0</td>\n",
       "      <td>Lawyer</td>\n",
       "      <td>131313.4</td>\n",
       "      <td>10469.207759</td>\n",
       "      <td>0</td>\n",
       "      <td>1</td>\n",
       "      <td>8</td>\n",
       "      <td>2</td>\n",
       "      <td>Credit-Builder Loan, and Mortgage Loan</td>\n",
       "      <td>0</td>\n",
       "      <td>2</td>\n",
       "      <td>8.34</td>\n",
       "      <td>4.0</td>\n",
       "      <td>Good</td>\n",
       "      <td>352.16</td>\n",
       "      <td>42.645785</td>\n",
       "      <td>30 Years and 10 Months</td>\n",
       "      <td>No</td>\n",
       "      <td>23834.000000</td>\n",
       "      <td>337.43495631738324</td>\n",
       "      <td>High_spent_Medium_value_payments</td>\n",
       "      <td>899.1987716145285</td>\n",
       "      <td>Good</td>\n",
       "    </tr>\n",
       "    <tr>\n",
       "      <th>52</th>\n",
       "      <td>CUS_0x284a</td>\n",
       "      <td>5</td>\n",
       "      <td>34.0</td>\n",
       "      <td>Lawyer</td>\n",
       "      <td>131313.4</td>\n",
       "      <td>10469.207759</td>\n",
       "      <td>0</td>\n",
       "      <td>1</td>\n",
       "      <td>8</td>\n",
       "      <td>2</td>\n",
       "      <td>Credit-Builder Loan, and Mortgage Loan</td>\n",
       "      <td>0</td>\n",
       "      <td>4</td>\n",
       "      <td>9.34</td>\n",
       "      <td>4.0</td>\n",
       "      <td>Good</td>\n",
       "      <td>352.16</td>\n",
       "      <td>40.902517</td>\n",
       "      <td>30 Years and 11 Months</td>\n",
       "      <td>No</td>\n",
       "      <td>32662.000000</td>\n",
       "      <td>263.3789089320552</td>\n",
       "      <td>High_spent_Large_value_payments</td>\n",
       "      <td>963.2548189998564</td>\n",
       "      <td>Good</td>\n",
       "    </tr>\n",
       "    <tr>\n",
       "      <th>53</th>\n",
       "      <td>CUS_0x284a</td>\n",
       "      <td>6</td>\n",
       "      <td>34.0</td>\n",
       "      <td>Lawyer</td>\n",
       "      <td>131313.4</td>\n",
       "      <td>NaN</td>\n",
       "      <td>0</td>\n",
       "      <td>1</td>\n",
       "      <td>8</td>\n",
       "      <td>-100</td>\n",
       "      <td>Credit-Builder Loan, and Mortgage Loan</td>\n",
       "      <td>0</td>\n",
       "      <td>3_</td>\n",
       "      <td>11.34</td>\n",
       "      <td>4.0</td>\n",
       "      <td>Good</td>\n",
       "      <td>352.16</td>\n",
       "      <td>41.980170</td>\n",
       "      <td>31 Years and 0 Months</td>\n",
       "      <td>No</td>\n",
       "      <td>911.220179</td>\n",
       "      <td>86.56638801207531</td>\n",
       "      <td>High_spent_Large_value_payments</td>\n",
       "      <td>1140.0673399198365</td>\n",
       "      <td>Standard</td>\n",
       "    </tr>\n",
       "    <tr>\n",
       "      <th>54</th>\n",
       "      <td>CUS_0x284a</td>\n",
       "      <td>7</td>\n",
       "      <td>34.0</td>\n",
       "      <td>Lawyer</td>\n",
       "      <td>10909427.0</td>\n",
       "      <td>NaN</td>\n",
       "      <td>0</td>\n",
       "      <td>1</td>\n",
       "      <td>8</td>\n",
       "      <td>2</td>\n",
       "      <td>Credit-Builder Loan, and Mortgage Loan</td>\n",
       "      <td>0</td>\n",
       "      <td>2_</td>\n",
       "      <td>9.34</td>\n",
       "      <td>4.0</td>\n",
       "      <td>Good</td>\n",
       "      <td>352.16</td>\n",
       "      <td>26.947565</td>\n",
       "      <td>31 Years and 1 Months</td>\n",
       "      <td>No</td>\n",
       "      <td>911.220179</td>\n",
       "      <td>930.3918977796665</td>\n",
       "      <td>!@9#%8</td>\n",
       "      <td>326.24183015224526</td>\n",
       "      <td>Good</td>\n",
       "    </tr>\n",
       "    <tr>\n",
       "      <th>55</th>\n",
       "      <td>CUS_0x284a</td>\n",
       "      <td>8</td>\n",
       "      <td>34.0</td>\n",
       "      <td>Lawyer</td>\n",
       "      <td>131313.4</td>\n",
       "      <td>10469.207759</td>\n",
       "      <td>0</td>\n",
       "      <td>1</td>\n",
       "      <td>8</td>\n",
       "      <td>2</td>\n",
       "      <td>Credit-Builder Loan, and Mortgage Loan</td>\n",
       "      <td>0</td>\n",
       "      <td>2</td>\n",
       "      <td>9.34</td>\n",
       "      <td>4.0</td>\n",
       "      <td>Good</td>\n",
       "      <td>352.16</td>\n",
       "      <td>29.187913</td>\n",
       "      <td>31 Years and 2 Months</td>\n",
       "      <td>No</td>\n",
       "      <td>911.220179</td>\n",
       "      <td>870.52238171816</td>\n",
       "      <td>Low_spent_Medium_value_payments</td>\n",
       "      <td>396.1113462137519</td>\n",
       "      <td>Good</td>\n",
       "    </tr>\n",
       "  </tbody>\n",
       "</table>\n",
       "</div>"
      ],
      "text/plain": [
       "   Customer_ID  Month   Age Occupation  Annual_Income  Monthly_Inhand_Salary  \\\n",
       "48  CUS_0x284a      1  33.0     Lawyer       131313.4           11242.783333   \n",
       "49  CUS_0x284a      2  34.0     Lawyer       131313.4           11242.783333   \n",
       "50  CUS_0x284a      3  34.0     Lawyer       131313.4           10469.207759   \n",
       "51  CUS_0x284a      4  34.0     Lawyer       131313.4           10469.207759   \n",
       "52  CUS_0x284a      5  34.0     Lawyer       131313.4           10469.207759   \n",
       "53  CUS_0x284a      6  34.0     Lawyer       131313.4                    NaN   \n",
       "54  CUS_0x284a      7  34.0     Lawyer     10909427.0                    NaN   \n",
       "55  CUS_0x284a      8  34.0     Lawyer       131313.4           10469.207759   \n",
       "\n",
       "    Num_Bank_Accounts  Num_Credit_Card  Interest_Rate Num_of_Loan  \\\n",
       "48                  0                1              8           2   \n",
       "49                  0                1              8           2   \n",
       "50                  0                1              8           2   \n",
       "51                  0                1              8           2   \n",
       "52                  0                1              8           2   \n",
       "53                  0                1              8        -100   \n",
       "54                  0                1              8           2   \n",
       "55                  0                1              8           2   \n",
       "\n",
       "                              Type_of_Loan  Delay_from_due_date  \\\n",
       "48  Credit-Builder Loan, and Mortgage Loan                    0   \n",
       "49  Credit-Builder Loan, and Mortgage Loan                   -1   \n",
       "50  Credit-Builder Loan, and Mortgage Loan                    0   \n",
       "51  Credit-Builder Loan, and Mortgage Loan                    0   \n",
       "52  Credit-Builder Loan, and Mortgage Loan                    0   \n",
       "53  Credit-Builder Loan, and Mortgage Loan                    0   \n",
       "54  Credit-Builder Loan, and Mortgage Loan                    0   \n",
       "55  Credit-Builder Loan, and Mortgage Loan                    0   \n",
       "\n",
       "   Num_of_Delayed_Payment Changed_Credit_Limit  Num_Credit_Inquiries  \\\n",
       "48                      3                 9.34                   2.0   \n",
       "49                      2                15.34                   4.0   \n",
       "50                      3                 9.34                   4.0   \n",
       "51                      2                 8.34                   4.0   \n",
       "52                      4                 9.34                   4.0   \n",
       "53                     3_                11.34                   4.0   \n",
       "54                     2_                 9.34                   4.0   \n",
       "55                      2                 9.34                   4.0   \n",
       "\n",
       "   Credit_Mix Outstanding_Debt  Credit_Utilization_Ratio  \\\n",
       "48       Good           352.16                 32.200509   \n",
       "49       Good           352.16                 31.983710   \n",
       "50       Good           352.16                 31.803134   \n",
       "51       Good           352.16                 42.645785   \n",
       "52       Good           352.16                 40.902517   \n",
       "53       Good           352.16                 41.980170   \n",
       "54       Good           352.16                 26.947565   \n",
       "55       Good           352.16                 29.187913   \n",
       "\n",
       "        Credit_History_Age Payment_of_Min_Amount  Total_EMI_per_month  \\\n",
       "48   30 Years and 7 Months                    NM           137.644605   \n",
       "49   30 Years and 8 Months                    No           137.644605   \n",
       "50   30 Years and 9 Months                    NM           911.220179   \n",
       "51  30 Years and 10 Months                    No         23834.000000   \n",
       "52  30 Years and 11 Months                    No         32662.000000   \n",
       "53   31 Years and 0 Months                    No           911.220179   \n",
       "54   31 Years and 1 Months                    No           911.220179   \n",
       "55   31 Years and 2 Months                    No           911.220179   \n",
       "\n",
       "   Amount_invested_monthly                 Payment_Behaviour  \\\n",
       "48       378.1712535207537  High_spent_Medium_value_payments   \n",
       "49       698.8732707169384   High_spent_Small_value_payments   \n",
       "50      188.06432109973838   High_spent_Large_value_payments   \n",
       "51      337.43495631738324  High_spent_Medium_value_payments   \n",
       "52       263.3789089320552   High_spent_Large_value_payments   \n",
       "53       86.56638801207531   High_spent_Large_value_payments   \n",
       "54       930.3918977796665                            !@9#%8   \n",
       "55         870.52238171816   Low_spent_Medium_value_payments   \n",
       "\n",
       "       Monthly_Balance Credit_Score  \n",
       "48    858.462474411158         Good  \n",
       "49   547.7604572149734         Good  \n",
       "50  1038.5694068321734         Good  \n",
       "51   899.1987716145285         Good  \n",
       "52   963.2548189998564         Good  \n",
       "53  1140.0673399198365     Standard  \n",
       "54  326.24183015224526         Good  \n",
       "55   396.1113462137519         Good  "
      ]
     },
     "execution_count": 30,
     "metadata": {},
     "output_type": "execute_result"
    }
   ],
   "source": [
    "df_train[df_train['Customer_ID'] == \"CUS_0x284a\"]"
   ]
  },
  {
   "cell_type": "markdown",
   "metadata": {},
   "source": [
    "In this case it is clearly just a mistype and this person should be on $131,313.4\n",
    "\n",
    "Is this the case for others?"
   ]
  },
  {
   "cell_type": "code",
   "execution_count": 31,
   "metadata": {},
   "outputs": [
    {
     "data": {
      "text/html": [
       "<div>\n",
       "<style scoped>\n",
       "    .dataframe tbody tr th:only-of-type {\n",
       "        vertical-align: middle;\n",
       "    }\n",
       "\n",
       "    .dataframe tbody tr th {\n",
       "        vertical-align: top;\n",
       "    }\n",
       "\n",
       "    .dataframe thead th {\n",
       "        text-align: right;\n",
       "    }\n",
       "</style>\n",
       "<table border=\"1\" class=\"dataframe\">\n",
       "  <thead>\n",
       "    <tr style=\"text-align: right;\">\n",
       "      <th></th>\n",
       "      <th>Customer_ID</th>\n",
       "      <th>Month</th>\n",
       "      <th>Age</th>\n",
       "      <th>Occupation</th>\n",
       "      <th>Annual_Income</th>\n",
       "      <th>Monthly_Inhand_Salary</th>\n",
       "      <th>Num_Bank_Accounts</th>\n",
       "      <th>Num_Credit_Card</th>\n",
       "      <th>Interest_Rate</th>\n",
       "      <th>Num_of_Loan</th>\n",
       "      <th>Type_of_Loan</th>\n",
       "      <th>Delay_from_due_date</th>\n",
       "      <th>Num_of_Delayed_Payment</th>\n",
       "      <th>Changed_Credit_Limit</th>\n",
       "      <th>Num_Credit_Inquiries</th>\n",
       "      <th>Credit_Mix</th>\n",
       "      <th>Outstanding_Debt</th>\n",
       "      <th>Credit_Utilization_Ratio</th>\n",
       "      <th>Credit_History_Age</th>\n",
       "      <th>Payment_of_Min_Amount</th>\n",
       "      <th>Total_EMI_per_month</th>\n",
       "      <th>Amount_invested_monthly</th>\n",
       "      <th>Payment_Behaviour</th>\n",
       "      <th>Monthly_Balance</th>\n",
       "      <th>Credit_Score</th>\n",
       "    </tr>\n",
       "  </thead>\n",
       "  <tbody>\n",
       "    <tr>\n",
       "      <th>224</th>\n",
       "      <td>CUS_0xbffe</td>\n",
       "      <td>1</td>\n",
       "      <td>40.0</td>\n",
       "      <td>Architect</td>\n",
       "      <td>28572.39</td>\n",
       "      <td>2210.0325</td>\n",
       "      <td>6</td>\n",
       "      <td>3</td>\n",
       "      <td>15</td>\n",
       "      <td>3</td>\n",
       "      <td>Payday Loan, Not Specified, and Auto Loan</td>\n",
       "      <td>25</td>\n",
       "      <td>12</td>\n",
       "      <td>4.89</td>\n",
       "      <td>0.0</td>\n",
       "      <td>_</td>\n",
       "      <td>400.07</td>\n",
       "      <td>24.422251</td>\n",
       "      <td>30 Years and 3 Months</td>\n",
       "      <td>Yes</td>\n",
       "      <td>69.60292</td>\n",
       "      <td>42.85050714738581</td>\n",
       "      <td>High_spent_Large_value_payments</td>\n",
       "      <td>348.54982237062416</td>\n",
       "      <td>Standard</td>\n",
       "    </tr>\n",
       "    <tr>\n",
       "      <th>225</th>\n",
       "      <td>CUS_0xbffe</td>\n",
       "      <td>2</td>\n",
       "      <td>40.0</td>\n",
       "      <td>Architect</td>\n",
       "      <td>28572.39</td>\n",
       "      <td>2210.0325</td>\n",
       "      <td>6</td>\n",
       "      <td>3</td>\n",
       "      <td>15</td>\n",
       "      <td>3</td>\n",
       "      <td>Payday Loan, Not Specified, and Auto Loan</td>\n",
       "      <td>25</td>\n",
       "      <td>9</td>\n",
       "      <td>4.89</td>\n",
       "      <td>0.0</td>\n",
       "      <td>Standard</td>\n",
       "      <td>400.07</td>\n",
       "      <td>36.437870</td>\n",
       "      <td>30 Years and 4 Months</td>\n",
       "      <td>NM</td>\n",
       "      <td>69.60292</td>\n",
       "      <td>83.0442090106474</td>\n",
       "      <td>!@9#%8</td>\n",
       "      <td>358.3561205073625</td>\n",
       "      <td>Standard</td>\n",
       "    </tr>\n",
       "    <tr>\n",
       "      <th>226</th>\n",
       "      <td>CUS_0xbffe</td>\n",
       "      <td>3</td>\n",
       "      <td>40.0</td>\n",
       "      <td>_______</td>\n",
       "      <td>28572.39</td>\n",
       "      <td>2210.0325</td>\n",
       "      <td>6</td>\n",
       "      <td>3</td>\n",
       "      <td>15</td>\n",
       "      <td>3</td>\n",
       "      <td>Payday Loan, Not Specified, and Auto Loan</td>\n",
       "      <td>28</td>\n",
       "      <td>10</td>\n",
       "      <td>4.89</td>\n",
       "      <td>0.0</td>\n",
       "      <td>Standard</td>\n",
       "      <td>400.07</td>\n",
       "      <td>29.323517</td>\n",
       "      <td>30 Years and 5 Months</td>\n",
       "      <td>Yes</td>\n",
       "      <td>69.60292</td>\n",
       "      <td>53.484203285005805</td>\n",
       "      <td>High_spent_Medium_value_payments</td>\n",
       "      <td>347.91612623300415</td>\n",
       "      <td>Standard</td>\n",
       "    </tr>\n",
       "    <tr>\n",
       "      <th>227</th>\n",
       "      <td>CUS_0xbffe</td>\n",
       "      <td>4</td>\n",
       "      <td>40.0</td>\n",
       "      <td>Architect</td>\n",
       "      <td>28572.39</td>\n",
       "      <td>NaN</td>\n",
       "      <td>6</td>\n",
       "      <td>3</td>\n",
       "      <td>15</td>\n",
       "      <td>3</td>\n",
       "      <td>Payday Loan, Not Specified, and Auto Loan</td>\n",
       "      <td>25</td>\n",
       "      <td>14</td>\n",
       "      <td>4.89</td>\n",
       "      <td>0.0</td>\n",
       "      <td>_</td>\n",
       "      <td>400.07</td>\n",
       "      <td>34.714561</td>\n",
       "      <td>30 Years and 6 Months</td>\n",
       "      <td>Yes</td>\n",
       "      <td>69.60292</td>\n",
       "      <td>25.99346229581731</td>\n",
       "      <td>High_spent_Medium_value_payments</td>\n",
       "      <td>375.4068672221926</td>\n",
       "      <td>Standard</td>\n",
       "    </tr>\n",
       "    <tr>\n",
       "      <th>228</th>\n",
       "      <td>CUS_0xbffe</td>\n",
       "      <td>5</td>\n",
       "      <td>40.0</td>\n",
       "      <td>Architect</td>\n",
       "      <td>28572.39</td>\n",
       "      <td>NaN</td>\n",
       "      <td>6</td>\n",
       "      <td>3</td>\n",
       "      <td>15</td>\n",
       "      <td>3</td>\n",
       "      <td>Payday Loan, Not Specified, and Auto Loan</td>\n",
       "      <td>25</td>\n",
       "      <td>12</td>\n",
       "      <td>4.89</td>\n",
       "      <td>2.0</td>\n",
       "      <td>Standard</td>\n",
       "      <td>400.07</td>\n",
       "      <td>37.504552</td>\n",
       "      <td>30 Years and 7 Months</td>\n",
       "      <td>Yes</td>\n",
       "      <td>69.60292</td>\n",
       "      <td>61.628109134830005</td>\n",
       "      <td>High_spent_Medium_value_payments</td>\n",
       "      <td>339.77222038318</td>\n",
       "      <td>Standard</td>\n",
       "    </tr>\n",
       "    <tr>\n",
       "      <th>229</th>\n",
       "      <td>CUS_0xbffe</td>\n",
       "      <td>6</td>\n",
       "      <td>40.0</td>\n",
       "      <td>Architect</td>\n",
       "      <td>28572.39</td>\n",
       "      <td>NaN</td>\n",
       "      <td>6</td>\n",
       "      <td>3</td>\n",
       "      <td>668</td>\n",
       "      <td>3</td>\n",
       "      <td>Payday Loan, Not Specified, and Auto Loan</td>\n",
       "      <td>25</td>\n",
       "      <td>11</td>\n",
       "      <td>4.89</td>\n",
       "      <td>2.0</td>\n",
       "      <td>Standard</td>\n",
       "      <td>400.07</td>\n",
       "      <td>35.693949</td>\n",
       "      <td>30 Years and 8 Months</td>\n",
       "      <td>Yes</td>\n",
       "      <td>69.60292</td>\n",
       "      <td>129.264834657262</td>\n",
       "      <td>Low_spent_Small_value_payments</td>\n",
       "      <td>312.13549486074794</td>\n",
       "      <td>Standard</td>\n",
       "    </tr>\n",
       "    <tr>\n",
       "      <th>230</th>\n",
       "      <td>CUS_0xbffe</td>\n",
       "      <td>7</td>\n",
       "      <td>40.0</td>\n",
       "      <td>Architect</td>\n",
       "      <td>28572.39</td>\n",
       "      <td>2210.0325</td>\n",
       "      <td>6</td>\n",
       "      <td>3</td>\n",
       "      <td>15</td>\n",
       "      <td>3</td>\n",
       "      <td>Payday Loan, Not Specified, and Auto Loan</td>\n",
       "      <td>25</td>\n",
       "      <td>13</td>\n",
       "      <td>4.89</td>\n",
       "      <td>2.0</td>\n",
       "      <td>Standard</td>\n",
       "      <td>400.07</td>\n",
       "      <td>35.025883</td>\n",
       "      <td>NaN</td>\n",
       "      <td>Yes</td>\n",
       "      <td>69.60292</td>\n",
       "      <td>76.60780889167367</td>\n",
       "      <td>Low_spent_Small_value_payments</td>\n",
       "      <td>364.7925206263362</td>\n",
       "      <td>Standard</td>\n",
       "    </tr>\n",
       "    <tr>\n",
       "      <th>231</th>\n",
       "      <td>CUS_0xbffe</td>\n",
       "      <td>8</td>\n",
       "      <td>40.0</td>\n",
       "      <td>Architect</td>\n",
       "      <td>6515990.00</td>\n",
       "      <td>2210.0325</td>\n",
       "      <td>6</td>\n",
       "      <td>3</td>\n",
       "      <td>15</td>\n",
       "      <td>3</td>\n",
       "      <td>Payday Loan, Not Specified, and Auto Loan</td>\n",
       "      <td>25</td>\n",
       "      <td>12</td>\n",
       "      <td>4.89</td>\n",
       "      <td>2.0</td>\n",
       "      <td>Standard</td>\n",
       "      <td>400.07</td>\n",
       "      <td>23.177617</td>\n",
       "      <td>30 Years and 10 Months</td>\n",
       "      <td>Yes</td>\n",
       "      <td>69.60292</td>\n",
       "      <td>51.83085897154975</td>\n",
       "      <td>High_spent_Large_value_payments</td>\n",
       "      <td>339.5694705464602</td>\n",
       "      <td>Standard</td>\n",
       "    </tr>\n",
       "  </tbody>\n",
       "</table>\n",
       "</div>"
      ],
      "text/plain": [
       "    Customer_ID  Month   Age Occupation  Annual_Income  Monthly_Inhand_Salary  \\\n",
       "224  CUS_0xbffe      1  40.0  Architect       28572.39              2210.0325   \n",
       "225  CUS_0xbffe      2  40.0  Architect       28572.39              2210.0325   \n",
       "226  CUS_0xbffe      3  40.0    _______       28572.39              2210.0325   \n",
       "227  CUS_0xbffe      4  40.0  Architect       28572.39                    NaN   \n",
       "228  CUS_0xbffe      5  40.0  Architect       28572.39                    NaN   \n",
       "229  CUS_0xbffe      6  40.0  Architect       28572.39                    NaN   \n",
       "230  CUS_0xbffe      7  40.0  Architect       28572.39              2210.0325   \n",
       "231  CUS_0xbffe      8  40.0  Architect     6515990.00              2210.0325   \n",
       "\n",
       "     Num_Bank_Accounts  Num_Credit_Card  Interest_Rate Num_of_Loan  \\\n",
       "224                  6                3             15           3   \n",
       "225                  6                3             15           3   \n",
       "226                  6                3             15           3   \n",
       "227                  6                3             15           3   \n",
       "228                  6                3             15           3   \n",
       "229                  6                3            668           3   \n",
       "230                  6                3             15           3   \n",
       "231                  6                3             15           3   \n",
       "\n",
       "                                  Type_of_Loan  Delay_from_due_date  \\\n",
       "224  Payday Loan, Not Specified, and Auto Loan                   25   \n",
       "225  Payday Loan, Not Specified, and Auto Loan                   25   \n",
       "226  Payday Loan, Not Specified, and Auto Loan                   28   \n",
       "227  Payday Loan, Not Specified, and Auto Loan                   25   \n",
       "228  Payday Loan, Not Specified, and Auto Loan                   25   \n",
       "229  Payday Loan, Not Specified, and Auto Loan                   25   \n",
       "230  Payday Loan, Not Specified, and Auto Loan                   25   \n",
       "231  Payday Loan, Not Specified, and Auto Loan                   25   \n",
       "\n",
       "    Num_of_Delayed_Payment Changed_Credit_Limit  Num_Credit_Inquiries  \\\n",
       "224                     12                 4.89                   0.0   \n",
       "225                      9                 4.89                   0.0   \n",
       "226                     10                 4.89                   0.0   \n",
       "227                     14                 4.89                   0.0   \n",
       "228                     12                 4.89                   2.0   \n",
       "229                     11                 4.89                   2.0   \n",
       "230                     13                 4.89                   2.0   \n",
       "231                     12                 4.89                   2.0   \n",
       "\n",
       "    Credit_Mix Outstanding_Debt  Credit_Utilization_Ratio  \\\n",
       "224          _           400.07                 24.422251   \n",
       "225   Standard           400.07                 36.437870   \n",
       "226   Standard           400.07                 29.323517   \n",
       "227          _           400.07                 34.714561   \n",
       "228   Standard           400.07                 37.504552   \n",
       "229   Standard           400.07                 35.693949   \n",
       "230   Standard           400.07                 35.025883   \n",
       "231   Standard           400.07                 23.177617   \n",
       "\n",
       "         Credit_History_Age Payment_of_Min_Amount  Total_EMI_per_month  \\\n",
       "224   30 Years and 3 Months                   Yes             69.60292   \n",
       "225   30 Years and 4 Months                    NM             69.60292   \n",
       "226   30 Years and 5 Months                   Yes             69.60292   \n",
       "227   30 Years and 6 Months                   Yes             69.60292   \n",
       "228   30 Years and 7 Months                   Yes             69.60292   \n",
       "229   30 Years and 8 Months                   Yes             69.60292   \n",
       "230                     NaN                   Yes             69.60292   \n",
       "231  30 Years and 10 Months                   Yes             69.60292   \n",
       "\n",
       "    Amount_invested_monthly                 Payment_Behaviour  \\\n",
       "224       42.85050714738581   High_spent_Large_value_payments   \n",
       "225        83.0442090106474                            !@9#%8   \n",
       "226      53.484203285005805  High_spent_Medium_value_payments   \n",
       "227       25.99346229581731  High_spent_Medium_value_payments   \n",
       "228      61.628109134830005  High_spent_Medium_value_payments   \n",
       "229        129.264834657262    Low_spent_Small_value_payments   \n",
       "230       76.60780889167367    Low_spent_Small_value_payments   \n",
       "231       51.83085897154975   High_spent_Large_value_payments   \n",
       "\n",
       "        Monthly_Balance Credit_Score  \n",
       "224  348.54982237062416     Standard  \n",
       "225   358.3561205073625     Standard  \n",
       "226  347.91612623300415     Standard  \n",
       "227   375.4068672221926     Standard  \n",
       "228     339.77222038318     Standard  \n",
       "229  312.13549486074794     Standard  \n",
       "230   364.7925206263362     Standard  \n",
       "231   339.5694705464602     Standard  "
      ]
     },
     "execution_count": 31,
     "metadata": {},
     "output_type": "execute_result"
    }
   ],
   "source": [
    "df_train[df_train['Customer_ID'] == \"CUS_0xbffe\"]"
   ]
  },
  {
   "cell_type": "markdown",
   "metadata": {},
   "source": [
    "It appears that way. So let's figure out the threshold for a reasonable amount and then see if we can correct these values...Let's try over $200,000 as on our plot this seemed a reasonable value."
   ]
  },
  {
   "cell_type": "code",
   "execution_count": 32,
   "metadata": {},
   "outputs": [],
   "source": [
    "# Remove outliers\n",
    "df_train['Annual_Income'] = df_train['Annual_Income'].apply(lambda Annual_Income: np.nan if Annual_Income > 200000 else Annual_Income)\n",
    "df_test['Annual_Income'] = df_test['Annual_Income'].apply(lambda Annual_Income: np.nan if Annual_Income > 200000 else Annual_Income)\n",
    "\n",
    "# Calculate mean without outliers\n",
    "customer_Annual_Income = df_train.groupby('Customer_ID')['Annual_Income'].mean()\n",
    "\n",
    "# Fill in missing data with customers mean annual income\n",
    "def fill_Annual_Income(customer_ID,Annual_Income):\n",
    "    return customer_Annual_Income[customer_ID] if np.isnan(Annual_Income) else Annual_Income\n",
    "df_train['Annual_Income'] = df_train.apply(lambda x: fill_Annual_Income(x['Customer_ID'], x['Annual_Income']), axis=1)\n",
    "df_test['Annual_Income'] = df_test.apply(lambda x: fill_Annual_Income(x['Customer_ID'], x['Annual_Income']), axis=1)"
   ]
  },
  {
   "cell_type": "code",
   "execution_count": 33,
   "metadata": {},
   "outputs": [
    {
     "data": {
      "text/plain": [
       "<AxesSubplot: xlabel='Annual_Income', ylabel='Count'>"
      ]
     },
     "execution_count": 33,
     "metadata": {},
     "output_type": "execute_result"
    },
    {
     "data": {
      "image/png": "[encoded data removed]",
      "text/plain": [
       "<Figure size 640x480 with 1 Axes>"
      ]
     },
     "metadata": {},
     "output_type": "display_data"
    }
   ],
   "source": [
    "fig = plt.figure()\n",
    "ax = fig.add_subplot()\n",
    "sns.histplot(x=df_train[\"Annual_Income\"], ax=ax)"
   ]
  },
  {
   "cell_type": "code",
   "execution_count": 34,
   "metadata": {},
   "outputs": [
    {
     "data": {
      "text/plain": [
       "count    100000.000000\n",
       "mean      50505.123449\n",
       "std       38299.422093\n",
       "min        7005.930000\n",
       "25%       19342.972500\n",
       "50%       36999.705000\n",
       "75%       71683.470000\n",
       "max      179987.280000\n",
       "Name: Annual_Income, dtype: float64"
      ]
     },
     "execution_count": 34,
     "metadata": {},
     "output_type": "execute_result"
    }
   ],
   "source": [
    "df_train['Annual_Income'].describe()"
   ]
  },
  {
   "cell_type": "markdown",
   "metadata": {},
   "source": [
    "### Monthly in-hand salary\n",
    "Has missing values\n",
    "\n",
    "I guess the simplest way to do this would be to group by customer ID and then match the mean inhand salary. I guess a more careful way would be to see if the Annual_Income has changed and base the Monthly_Inhand_Salary on this as they are almost certainly going to be highly correlated."
   ]
  },
  {
   "cell_type": "code",
   "execution_count": 35,
   "metadata": {},
   "outputs": [],
   "source": [
    "customer_average_monthly_inhand = df_train.groupby('Customer_ID')['Monthly_Inhand_Salary'].mean()\n",
    "\n",
    "def fill_monthly_inhand(customer_ID,Monthly_Inhand_Salary):\n",
    "    return customer_average_monthly_inhand[customer_ID] if np.isnan(Monthly_Inhand_Salary) else Monthly_Inhand_Salary\n",
    "  \n",
    "df_train['Monthly_Inhand_Salary'] = df_train.apply(lambda x: fill_monthly_inhand(x['Customer_ID'], x['Monthly_Inhand_Salary']), axis=1)\n",
    "df_test['Monthly_Inhand_Salary'] = df_test.apply(lambda x: fill_monthly_inhand(x['Customer_ID'], x['Monthly_Inhand_Salary']), axis=1)"
   ]
  },
  {
   "cell_type": "code",
   "execution_count": 36,
   "metadata": {},
   "outputs": [
    {
     "data": {
      "text/plain": [
       "<AxesSubplot: xlabel='Monthly_Inhand_Salary', ylabel='Count'>"
      ]
     },
     "execution_count": 36,
     "metadata": {},
     "output_type": "execute_result"
    },
    {
     "data": {
      "image/png": "[encoded data removed]",
      "text/plain": [
       "<Figure size 640x480 with 1 Axes>"
      ]
     },
     "metadata": {},
     "output_type": "display_data"
    }
   ],
   "source": [
    "fig = plt.figure()\n",
    "ax = fig.add_subplot()\n",
    "sns.histplot(x=df_train[\"Monthly_Inhand_Salary\"], ax=ax)"
   ]
  },
  {
   "cell_type": "code",
   "execution_count": 37,
   "metadata": {},
   "outputs": [
    {
     "data": {
      "text/plain": [
       "<AxesSubplot: xlabel='Annual_Income', ylabel='Monthly_Inhand_Salary'>"
      ]
     },
     "execution_count": 37,
     "metadata": {},
     "output_type": "execute_result"
    },
    {
     "data": {
      "image/png": "[encoded data removed]",
      "text/plain": [
       "<Figure size 640x480 with 1 Axes>"
      ]
     },
     "metadata": {},
     "output_type": "display_data"
    }
   ],
   "source": [
    "sns.scatterplot(df_train, x='Annual_Income', y='Monthly_Inhand_Salary')"
   ]
  },
  {
   "cell_type": "markdown",
   "metadata": {},
   "source": [
    "As expected (and logically) these are highly correlated variables, realistically can probably drop one of them in the ML input for this reason."
   ]
  },
  {
   "cell_type": "markdown",
   "metadata": {},
   "source": [
    "Values seem reasonable so leaving alone"
   ]
  },
  {
   "cell_type": "markdown",
   "metadata": {},
   "source": [
    "### Number of bank accounts\n",
    "Already an integer so let's just see how these are distributed"
   ]
  },
  {
   "cell_type": "code",
   "execution_count": 38,
   "metadata": {},
   "outputs": [
    {
     "data": {
      "text/plain": [
       "count    100000.000000\n",
       "mean         17.091280\n",
       "std         117.404834\n",
       "min          -1.000000\n",
       "25%           3.000000\n",
       "50%           6.000000\n",
       "75%           7.000000\n",
       "max        1798.000000\n",
       "Name: Num_Bank_Accounts, dtype: float64"
      ]
     },
     "execution_count": 38,
     "metadata": {},
     "output_type": "execute_result"
    }
   ],
   "source": [
    "df_train['Num_Bank_Accounts'].describe()"
   ]
  },
  {
   "cell_type": "markdown",
   "metadata": {},
   "source": [
    "Have negative values but also crazy outliers!"
   ]
  },
  {
   "cell_type": "code",
   "execution_count": 39,
   "metadata": {},
   "outputs": [
    {
     "data": {
      "text/plain": [
       "<AxesSubplot: xlabel='Num_Bank_Accounts', ylabel='Count'>"
      ]
     },
     "execution_count": 39,
     "metadata": {},
     "output_type": "execute_result"
    },
    {
     "data": {
      "image/png": "[encoded data removed]",
      "text/plain": [
       "<Figure size 640x480 with 1 Axes>"
      ]
     },
     "metadata": {},
     "output_type": "display_data"
    }
   ],
   "source": [
    "sns.histplot(df_train[df_train['Num_Bank_Accounts'] < 20], x='Num_Bank_Accounts', binwidth=1)"
   ]
  },
  {
   "cell_type": "code",
   "execution_count": 40,
   "metadata": {},
   "outputs": [
    {
     "data": {
      "text/plain": [
       "count    1314.000000\n",
       "mean      897.569254\n",
       "std       512.955410\n",
       "min        26.000000\n",
       "25%       464.500000\n",
       "50%       885.500000\n",
       "75%      1334.250000\n",
       "max      1798.000000\n",
       "Name: Num_Bank_Accounts, dtype: float64"
      ]
     },
     "execution_count": 40,
     "metadata": {},
     "output_type": "execute_result"
    }
   ],
   "source": [
    "df_train[df_train['Num_Bank_Accounts'] > 20]['Num_Bank_Accounts'].describe()"
   ]
  },
  {
   "cell_type": "markdown",
   "metadata": {},
   "source": [
    "Negative values are minimal so can potentially drop these. Outliers I would classify as anything above 20 although somewhat arbitary. We do have the minimum above this value of 26 which could potentially still be reasonable...But unlikely.\n",
    "\n",
    "Let's check to see which customers these outliers belong to and whether they are legitimate or incorrect"
   ]
  },
  {
   "cell_type": "code",
   "execution_count": 41,
   "metadata": {},
   "outputs": [
    {
     "data": {
      "text/plain": [
       "267    CUS_0x4004\n",
       "288    CUS_0x4080\n",
       "310    CUS_0x42ac\n",
       "339    CUS_0x9bc1\n",
       "356    CUS_0xaedb\n",
       "Name: Customer_ID, dtype: object"
      ]
     },
     "execution_count": 41,
     "metadata": {},
     "output_type": "execute_result"
    }
   ],
   "source": [
    "high_bank_accounts = df_train[df_train['Num_Bank_Accounts'] > 20]\n",
    "high_bank_accounts['Customer_ID'].head()"
   ]
  },
  {
   "cell_type": "code",
   "execution_count": 42,
   "metadata": {},
   "outputs": [
    {
     "data": {
      "text/html": [
       "<div>\n",
       "<style scoped>\n",
       "    .dataframe tbody tr th:only-of-type {\n",
       "        vertical-align: middle;\n",
       "    }\n",
       "\n",
       "    .dataframe tbody tr th {\n",
       "        vertical-align: top;\n",
       "    }\n",
       "\n",
       "    .dataframe thead th {\n",
       "        text-align: right;\n",
       "    }\n",
       "</style>\n",
       "<table border=\"1\" class=\"dataframe\">\n",
       "  <thead>\n",
       "    <tr style=\"text-align: right;\">\n",
       "      <th></th>\n",
       "      <th>Customer_ID</th>\n",
       "      <th>Month</th>\n",
       "      <th>Age</th>\n",
       "      <th>Occupation</th>\n",
       "      <th>Annual_Income</th>\n",
       "      <th>Monthly_Inhand_Salary</th>\n",
       "      <th>Num_Bank_Accounts</th>\n",
       "      <th>Num_Credit_Card</th>\n",
       "      <th>Interest_Rate</th>\n",
       "      <th>Num_of_Loan</th>\n",
       "      <th>Type_of_Loan</th>\n",
       "      <th>Delay_from_due_date</th>\n",
       "      <th>Num_of_Delayed_Payment</th>\n",
       "      <th>Changed_Credit_Limit</th>\n",
       "      <th>Num_Credit_Inquiries</th>\n",
       "      <th>Credit_Mix</th>\n",
       "      <th>Outstanding_Debt</th>\n",
       "      <th>Credit_Utilization_Ratio</th>\n",
       "      <th>Credit_History_Age</th>\n",
       "      <th>Payment_of_Min_Amount</th>\n",
       "      <th>Total_EMI_per_month</th>\n",
       "      <th>Amount_invested_monthly</th>\n",
       "      <th>Payment_Behaviour</th>\n",
       "      <th>Monthly_Balance</th>\n",
       "      <th>Credit_Score</th>\n",
       "    </tr>\n",
       "  </thead>\n",
       "  <tbody>\n",
       "    <tr>\n",
       "      <th>264</th>\n",
       "      <td>CUS_0x4004</td>\n",
       "      <td>1</td>\n",
       "      <td>43.0</td>\n",
       "      <td>Writer</td>\n",
       "      <td>58317.0</td>\n",
       "      <td>4664.75</td>\n",
       "      <td>8</td>\n",
       "      <td>5</td>\n",
       "      <td>9</td>\n",
       "      <td>6</td>\n",
       "      <td>Mortgage Loan, Personal Loan, Home Equity Loan...</td>\n",
       "      <td>18</td>\n",
       "      <td>17</td>\n",
       "      <td>16.58</td>\n",
       "      <td>6.0</td>\n",
       "      <td>Standard</td>\n",
       "      <td>98.97</td>\n",
       "      <td>40.411115</td>\n",
       "      <td>13 Years and 1 Months</td>\n",
       "      <td>Yes</td>\n",
       "      <td>149.897199</td>\n",
       "      <td>109.48894961827229</td>\n",
       "      <td>!@9#%8</td>\n",
       "      <td>467.0888509607195</td>\n",
       "      <td>Standard</td>\n",
       "    </tr>\n",
       "    <tr>\n",
       "      <th>265</th>\n",
       "      <td>CUS_0x4004</td>\n",
       "      <td>2</td>\n",
       "      <td>43.0</td>\n",
       "      <td>Writer</td>\n",
       "      <td>58317.0</td>\n",
       "      <td>4664.75</td>\n",
       "      <td>8</td>\n",
       "      <td>5</td>\n",
       "      <td>9</td>\n",
       "      <td>6</td>\n",
       "      <td>Mortgage Loan, Personal Loan, Home Equity Loan...</td>\n",
       "      <td>18</td>\n",
       "      <td>20</td>\n",
       "      <td>16.58</td>\n",
       "      <td>6.0</td>\n",
       "      <td>Standard</td>\n",
       "      <td>98.97</td>\n",
       "      <td>27.806918</td>\n",
       "      <td>13 Years and 2 Months</td>\n",
       "      <td>Yes</td>\n",
       "      <td>149.897199</td>\n",
       "      <td>83.30040818642512</td>\n",
       "      <td>High_spent_Medium_value_payments</td>\n",
       "      <td>483.2773923925665</td>\n",
       "      <td>Standard</td>\n",
       "    </tr>\n",
       "    <tr>\n",
       "      <th>266</th>\n",
       "      <td>CUS_0x4004</td>\n",
       "      <td>3</td>\n",
       "      <td>44.0</td>\n",
       "      <td>Writer</td>\n",
       "      <td>58317.0</td>\n",
       "      <td>4664.75</td>\n",
       "      <td>8</td>\n",
       "      <td>5</td>\n",
       "      <td>9</td>\n",
       "      <td>6</td>\n",
       "      <td>Mortgage Loan, Personal Loan, Home Equity Loan...</td>\n",
       "      <td>16</td>\n",
       "      <td>20</td>\n",
       "      <td>10.579999999999998</td>\n",
       "      <td>6.0</td>\n",
       "      <td>_</td>\n",
       "      <td>98.97</td>\n",
       "      <td>25.832109</td>\n",
       "      <td>13 Years and 3 Months</td>\n",
       "      <td>Yes</td>\n",
       "      <td>149.897199</td>\n",
       "      <td>57.95122336180115</td>\n",
       "      <td>High_spent_Large_value_payments</td>\n",
       "      <td>498.6265772171906</td>\n",
       "      <td>Standard</td>\n",
       "    </tr>\n",
       "    <tr>\n",
       "      <th>267</th>\n",
       "      <td>CUS_0x4004</td>\n",
       "      <td>4</td>\n",
       "      <td>44.0</td>\n",
       "      <td>Writer</td>\n",
       "      <td>58317.0</td>\n",
       "      <td>4664.75</td>\n",
       "      <td>1414</td>\n",
       "      <td>5</td>\n",
       "      <td>9</td>\n",
       "      <td>6</td>\n",
       "      <td>Mortgage Loan, Personal Loan, Home Equity Loan...</td>\n",
       "      <td>18</td>\n",
       "      <td>23</td>\n",
       "      <td>23.58</td>\n",
       "      <td>10.0</td>\n",
       "      <td>Standard</td>\n",
       "      <td>98.97</td>\n",
       "      <td>29.766107</td>\n",
       "      <td>NaN</td>\n",
       "      <td>Yes</td>\n",
       "      <td>149.897199</td>\n",
       "      <td>158.64827595455043</td>\n",
       "      <td>High_spent_Medium_value_payments</td>\n",
       "      <td>407.9295246244412</td>\n",
       "      <td>Standard</td>\n",
       "    </tr>\n",
       "    <tr>\n",
       "      <th>268</th>\n",
       "      <td>CUS_0x4004</td>\n",
       "      <td>5</td>\n",
       "      <td>44.0</td>\n",
       "      <td>Writer</td>\n",
       "      <td>58317.0</td>\n",
       "      <td>4664.75</td>\n",
       "      <td>8</td>\n",
       "      <td>5</td>\n",
       "      <td>9</td>\n",
       "      <td>6</td>\n",
       "      <td>Mortgage Loan, Personal Loan, Home Equity Loan...</td>\n",
       "      <td>18</td>\n",
       "      <td>20</td>\n",
       "      <td>22.58</td>\n",
       "      <td>NaN</td>\n",
       "      <td>Standard</td>\n",
       "      <td>98.97</td>\n",
       "      <td>34.192304</td>\n",
       "      <td>13 Years and 5 Months</td>\n",
       "      <td>Yes</td>\n",
       "      <td>149.897199</td>\n",
       "      <td>180.83057335204728</td>\n",
       "      <td>Low_spent_Medium_value_payments</td>\n",
       "      <td>415.7472272269445</td>\n",
       "      <td>Standard</td>\n",
       "    </tr>\n",
       "    <tr>\n",
       "      <th>269</th>\n",
       "      <td>CUS_0x4004</td>\n",
       "      <td>6</td>\n",
       "      <td>44.0</td>\n",
       "      <td>Writer</td>\n",
       "      <td>58317.0</td>\n",
       "      <td>4664.75</td>\n",
       "      <td>8</td>\n",
       "      <td>5</td>\n",
       "      <td>9</td>\n",
       "      <td>6</td>\n",
       "      <td>Mortgage Loan, Personal Loan, Home Equity Loan...</td>\n",
       "      <td>18</td>\n",
       "      <td>NaN</td>\n",
       "      <td>16.58</td>\n",
       "      <td>10.0</td>\n",
       "      <td>Standard</td>\n",
       "      <td>98.97</td>\n",
       "      <td>24.665525</td>\n",
       "      <td>13 Years and 6 Months</td>\n",
       "      <td>Yes</td>\n",
       "      <td>149.897199</td>\n",
       "      <td>98.88050778293751</td>\n",
       "      <td>High_spent_Medium_value_payments</td>\n",
       "      <td>467.6972927960543</td>\n",
       "      <td>Standard</td>\n",
       "    </tr>\n",
       "    <tr>\n",
       "      <th>270</th>\n",
       "      <td>CUS_0x4004</td>\n",
       "      <td>7</td>\n",
       "      <td>44.0</td>\n",
       "      <td>Writer</td>\n",
       "      <td>58317.0</td>\n",
       "      <td>4664.75</td>\n",
       "      <td>8</td>\n",
       "      <td>5</td>\n",
       "      <td>9</td>\n",
       "      <td>6</td>\n",
       "      <td>Mortgage Loan, Personal Loan, Home Equity Loan...</td>\n",
       "      <td>18</td>\n",
       "      <td>20</td>\n",
       "      <td>21.58</td>\n",
       "      <td>10.0</td>\n",
       "      <td>Standard</td>\n",
       "      <td>98.97</td>\n",
       "      <td>28.260147</td>\n",
       "      <td>13 Years and 7 Months</td>\n",
       "      <td>Yes</td>\n",
       "      <td>149.897199</td>\n",
       "      <td>380.5857010101063</td>\n",
       "      <td>Low_spent_Medium_value_payments</td>\n",
       "      <td>215.9920995688854</td>\n",
       "      <td>Standard</td>\n",
       "    </tr>\n",
       "    <tr>\n",
       "      <th>271</th>\n",
       "      <td>CUS_0x4004</td>\n",
       "      <td>8</td>\n",
       "      <td>44.0</td>\n",
       "      <td>Writer</td>\n",
       "      <td>58317.0</td>\n",
       "      <td>4664.75</td>\n",
       "      <td>8</td>\n",
       "      <td>5</td>\n",
       "      <td>9</td>\n",
       "      <td>6</td>\n",
       "      <td>Mortgage Loan, Personal Loan, Home Equity Loan...</td>\n",
       "      <td>22</td>\n",
       "      <td>NaN</td>\n",
       "      <td>16.58</td>\n",
       "      <td>10.0</td>\n",
       "      <td>Standard</td>\n",
       "      <td>98.97</td>\n",
       "      <td>36.763665</td>\n",
       "      <td>13 Years and 8 Months</td>\n",
       "      <td>Yes</td>\n",
       "      <td>149.897199</td>\n",
       "      <td>59.955987495996</td>\n",
       "      <td>High_spent_Medium_value_payments</td>\n",
       "      <td>506.62181308299586</td>\n",
       "      <td>Standard</td>\n",
       "    </tr>\n",
       "  </tbody>\n",
       "</table>\n",
       "</div>"
      ],
      "text/plain": [
       "    Customer_ID  Month   Age Occupation  Annual_Income  Monthly_Inhand_Salary  \\\n",
       "264  CUS_0x4004      1  43.0     Writer        58317.0                4664.75   \n",
       "265  CUS_0x4004      2  43.0     Writer        58317.0                4664.75   \n",
       "266  CUS_0x4004      3  44.0     Writer        58317.0                4664.75   \n",
       "267  CUS_0x4004      4  44.0     Writer        58317.0                4664.75   \n",
       "268  CUS_0x4004      5  44.0     Writer        58317.0                4664.75   \n",
       "269  CUS_0x4004      6  44.0     Writer        58317.0                4664.75   \n",
       "270  CUS_0x4004      7  44.0     Writer        58317.0                4664.75   \n",
       "271  CUS_0x4004      8  44.0     Writer        58317.0                4664.75   \n",
       "\n",
       "     Num_Bank_Accounts  Num_Credit_Card  Interest_Rate Num_of_Loan  \\\n",
       "264                  8                5              9           6   \n",
       "265                  8                5              9           6   \n",
       "266                  8                5              9           6   \n",
       "267               1414                5              9           6   \n",
       "268                  8                5              9           6   \n",
       "269                  8                5              9           6   \n",
       "270                  8                5              9           6   \n",
       "271                  8                5              9           6   \n",
       "\n",
       "                                          Type_of_Loan  Delay_from_due_date  \\\n",
       "264  Mortgage Loan, Personal Loan, Home Equity Loan...                   18   \n",
       "265  Mortgage Loan, Personal Loan, Home Equity Loan...                   18   \n",
       "266  Mortgage Loan, Personal Loan, Home Equity Loan...                   16   \n",
       "267  Mortgage Loan, Personal Loan, Home Equity Loan...                   18   \n",
       "268  Mortgage Loan, Personal Loan, Home Equity Loan...                   18   \n",
       "269  Mortgage Loan, Personal Loan, Home Equity Loan...                   18   \n",
       "270  Mortgage Loan, Personal Loan, Home Equity Loan...                   18   \n",
       "271  Mortgage Loan, Personal Loan, Home Equity Loan...                   22   \n",
       "\n",
       "    Num_of_Delayed_Payment Changed_Credit_Limit  Num_Credit_Inquiries  \\\n",
       "264                     17                16.58                   6.0   \n",
       "265                     20                16.58                   6.0   \n",
       "266                     20   10.579999999999998                   6.0   \n",
       "267                     23                23.58                  10.0   \n",
       "268                     20                22.58                   NaN   \n",
       "269                    NaN                16.58                  10.0   \n",
       "270                     20                21.58                  10.0   \n",
       "271                    NaN                16.58                  10.0   \n",
       "\n",
       "    Credit_Mix Outstanding_Debt  Credit_Utilization_Ratio  \\\n",
       "264   Standard            98.97                 40.411115   \n",
       "265   Standard            98.97                 27.806918   \n",
       "266          _            98.97                 25.832109   \n",
       "267   Standard            98.97                 29.766107   \n",
       "268   Standard            98.97                 34.192304   \n",
       "269   Standard            98.97                 24.665525   \n",
       "270   Standard            98.97                 28.260147   \n",
       "271   Standard            98.97                 36.763665   \n",
       "\n",
       "        Credit_History_Age Payment_of_Min_Amount  Total_EMI_per_month  \\\n",
       "264  13 Years and 1 Months                   Yes           149.897199   \n",
       "265  13 Years and 2 Months                   Yes           149.897199   \n",
       "266  13 Years and 3 Months                   Yes           149.897199   \n",
       "267                    NaN                   Yes           149.897199   \n",
       "268  13 Years and 5 Months                   Yes           149.897199   \n",
       "269  13 Years and 6 Months                   Yes           149.897199   \n",
       "270  13 Years and 7 Months                   Yes           149.897199   \n",
       "271  13 Years and 8 Months                   Yes           149.897199   \n",
       "\n",
       "    Amount_invested_monthly                 Payment_Behaviour  \\\n",
       "264      109.48894961827229                            !@9#%8   \n",
       "265       83.30040818642512  High_spent_Medium_value_payments   \n",
       "266       57.95122336180115   High_spent_Large_value_payments   \n",
       "267      158.64827595455043  High_spent_Medium_value_payments   \n",
       "268      180.83057335204728   Low_spent_Medium_value_payments   \n",
       "269       98.88050778293751  High_spent_Medium_value_payments   \n",
       "270       380.5857010101063   Low_spent_Medium_value_payments   \n",
       "271         59.955987495996  High_spent_Medium_value_payments   \n",
       "\n",
       "        Monthly_Balance Credit_Score  \n",
       "264   467.0888509607195     Standard  \n",
       "265   483.2773923925665     Standard  \n",
       "266   498.6265772171906     Standard  \n",
       "267   407.9295246244412     Standard  \n",
       "268   415.7472272269445     Standard  \n",
       "269   467.6972927960543     Standard  \n",
       "270   215.9920995688854     Standard  \n",
       "271  506.62181308299586     Standard  "
      ]
     },
     "execution_count": 42,
     "metadata": {},
     "output_type": "execute_result"
    }
   ],
   "source": [
    "df_train[df_train['Customer_ID'] == \"CUS_0x4004\"]"
   ]
  },
  {
   "cell_type": "code",
   "execution_count": 43,
   "metadata": {},
   "outputs": [
    {
     "data": {
      "text/html": [
       "<div>\n",
       "<style scoped>\n",
       "    .dataframe tbody tr th:only-of-type {\n",
       "        vertical-align: middle;\n",
       "    }\n",
       "\n",
       "    .dataframe tbody tr th {\n",
       "        vertical-align: top;\n",
       "    }\n",
       "\n",
       "    .dataframe thead th {\n",
       "        text-align: right;\n",
       "    }\n",
       "</style>\n",
       "<table border=\"1\" class=\"dataframe\">\n",
       "  <thead>\n",
       "    <tr style=\"text-align: right;\">\n",
       "      <th></th>\n",
       "      <th>Customer_ID</th>\n",
       "      <th>Month</th>\n",
       "      <th>Age</th>\n",
       "      <th>Occupation</th>\n",
       "      <th>Annual_Income</th>\n",
       "      <th>Monthly_Inhand_Salary</th>\n",
       "      <th>Num_Bank_Accounts</th>\n",
       "      <th>Num_Credit_Card</th>\n",
       "      <th>Interest_Rate</th>\n",
       "      <th>Num_of_Loan</th>\n",
       "      <th>Type_of_Loan</th>\n",
       "      <th>Delay_from_due_date</th>\n",
       "      <th>Num_of_Delayed_Payment</th>\n",
       "      <th>Changed_Credit_Limit</th>\n",
       "      <th>Num_Credit_Inquiries</th>\n",
       "      <th>Credit_Mix</th>\n",
       "      <th>Outstanding_Debt</th>\n",
       "      <th>Credit_Utilization_Ratio</th>\n",
       "      <th>Credit_History_Age</th>\n",
       "      <th>Payment_of_Min_Amount</th>\n",
       "      <th>Total_EMI_per_month</th>\n",
       "      <th>Amount_invested_monthly</th>\n",
       "      <th>Payment_Behaviour</th>\n",
       "      <th>Monthly_Balance</th>\n",
       "      <th>Credit_Score</th>\n",
       "    </tr>\n",
       "  </thead>\n",
       "  <tbody>\n",
       "    <tr>\n",
       "      <th>288</th>\n",
       "      <td>CUS_0x4080</td>\n",
       "      <td>1</td>\n",
       "      <td>16.0</td>\n",
       "      <td>Mechanic</td>\n",
       "      <td>29469.98</td>\n",
       "      <td>2227.831667</td>\n",
       "      <td>1231</td>\n",
       "      <td>7</td>\n",
       "      <td>24</td>\n",
       "      <td>5</td>\n",
       "      <td>Personal Loan, Credit-Builder Loan, Debt Conso...</td>\n",
       "      <td>53</td>\n",
       "      <td>21</td>\n",
       "      <td>26.94</td>\n",
       "      <td>11.0</td>\n",
       "      <td>_</td>\n",
       "      <td>3421.66</td>\n",
       "      <td>24.639658</td>\n",
       "      <td>NaN</td>\n",
       "      <td>Yes</td>\n",
       "      <td>69.685459</td>\n",
       "      <td>59.825596124675045</td>\n",
       "      <td>!@9#%8</td>\n",
       "      <td>363.27211196971183</td>\n",
       "      <td>Standard</td>\n",
       "    </tr>\n",
       "    <tr>\n",
       "      <th>289</th>\n",
       "      <td>CUS_0x4080</td>\n",
       "      <td>2</td>\n",
       "      <td>16.0</td>\n",
       "      <td>Mechanic</td>\n",
       "      <td>29469.98</td>\n",
       "      <td>2227.831667</td>\n",
       "      <td>7</td>\n",
       "      <td>7</td>\n",
       "      <td>24</td>\n",
       "      <td>5</td>\n",
       "      <td>Personal Loan, Credit-Builder Loan, Debt Conso...</td>\n",
       "      <td>50</td>\n",
       "      <td>18</td>\n",
       "      <td>22.94</td>\n",
       "      <td>NaN</td>\n",
       "      <td>Bad</td>\n",
       "      <td>3421.66</td>\n",
       "      <td>30.268411</td>\n",
       "      <td>13 Years and 3 Months</td>\n",
       "      <td>NM</td>\n",
       "      <td>69.685459</td>\n",
       "      <td>125.49176826031132</td>\n",
       "      <td>High_spent_Small_value_payments</td>\n",
       "      <td>287.6059398340756</td>\n",
       "      <td>Standard</td>\n",
       "    </tr>\n",
       "    <tr>\n",
       "      <th>290</th>\n",
       "      <td>CUS_0x4080</td>\n",
       "      <td>3</td>\n",
       "      <td>16.0</td>\n",
       "      <td>Mechanic</td>\n",
       "      <td>29469.98</td>\n",
       "      <td>2227.831667</td>\n",
       "      <td>7</td>\n",
       "      <td>7</td>\n",
       "      <td>24</td>\n",
       "      <td>-100</td>\n",
       "      <td>Personal Loan, Credit-Builder Loan, Debt Conso...</td>\n",
       "      <td>53</td>\n",
       "      <td>24</td>\n",
       "      <td>27.94</td>\n",
       "      <td>11.0</td>\n",
       "      <td>_</td>\n",
       "      <td>3421.66</td>\n",
       "      <td>31.212269</td>\n",
       "      <td>13 Years and 4 Months</td>\n",
       "      <td>Yes</td>\n",
       "      <td>69.685459</td>\n",
       "      <td>32.70665182089997</td>\n",
       "      <td>High_spent_Large_value_payments</td>\n",
       "      <td>360.39105627348687</td>\n",
       "      <td>Standard</td>\n",
       "    </tr>\n",
       "    <tr>\n",
       "      <th>291</th>\n",
       "      <td>CUS_0x4080</td>\n",
       "      <td>4</td>\n",
       "      <td>16.0</td>\n",
       "      <td>Mechanic</td>\n",
       "      <td>29469.98</td>\n",
       "      <td>2227.831667</td>\n",
       "      <td>7</td>\n",
       "      <td>7</td>\n",
       "      <td>24</td>\n",
       "      <td>5</td>\n",
       "      <td>Personal Loan, Credit-Builder Loan, Debt Conso...</td>\n",
       "      <td>53</td>\n",
       "      <td>21</td>\n",
       "      <td>26.94</td>\n",
       "      <td>11.0</td>\n",
       "      <td>Bad</td>\n",
       "      <td>3421.66</td>\n",
       "      <td>33.298654</td>\n",
       "      <td>13 Years and 5 Months</td>\n",
       "      <td>Yes</td>\n",
       "      <td>69.685459</td>\n",
       "      <td>27.250794632521444</td>\n",
       "      <td>High_spent_Medium_value_payments</td>\n",
       "      <td>375.84691346186537</td>\n",
       "      <td>Poor</td>\n",
       "    </tr>\n",
       "    <tr>\n",
       "      <th>292</th>\n",
       "      <td>CUS_0x4080</td>\n",
       "      <td>5</td>\n",
       "      <td>16.0</td>\n",
       "      <td>Mechanic</td>\n",
       "      <td>29469.98</td>\n",
       "      <td>2227.831667</td>\n",
       "      <td>7</td>\n",
       "      <td>7</td>\n",
       "      <td>24</td>\n",
       "      <td>5</td>\n",
       "      <td>Personal Loan, Credit-Builder Loan, Debt Conso...</td>\n",
       "      <td>53</td>\n",
       "      <td>21</td>\n",
       "      <td>26.94</td>\n",
       "      <td>11.0</td>\n",
       "      <td>Bad</td>\n",
       "      <td>3421.66</td>\n",
       "      <td>38.177311</td>\n",
       "      <td>13 Years and 6 Months</td>\n",
       "      <td>Yes</td>\n",
       "      <td>69.685459</td>\n",
       "      <td>71.26438577406131</td>\n",
       "      <td>Low_spent_Medium_value_payments</td>\n",
       "      <td>361.83332232032564</td>\n",
       "      <td>Poor</td>\n",
       "    </tr>\n",
       "    <tr>\n",
       "      <th>293</th>\n",
       "      <td>CUS_0x4080</td>\n",
       "      <td>6</td>\n",
       "      <td>16.0</td>\n",
       "      <td>Mechanic</td>\n",
       "      <td>29469.98</td>\n",
       "      <td>2227.831667</td>\n",
       "      <td>7</td>\n",
       "      <td>7</td>\n",
       "      <td>24</td>\n",
       "      <td>5</td>\n",
       "      <td>Personal Loan, Credit-Builder Loan, Debt Conso...</td>\n",
       "      <td>53</td>\n",
       "      <td>21</td>\n",
       "      <td>27.94</td>\n",
       "      <td>11.0</td>\n",
       "      <td>Bad</td>\n",
       "      <td>3421.66</td>\n",
       "      <td>30.986998</td>\n",
       "      <td>13 Years and 7 Months</td>\n",
       "      <td>Yes</td>\n",
       "      <td>69.685459</td>\n",
       "      <td>117.31031613952459</td>\n",
       "      <td>Low_spent_Small_value_payments</td>\n",
       "      <td>325.7873919548623</td>\n",
       "      <td>Poor</td>\n",
       "    </tr>\n",
       "    <tr>\n",
       "      <th>294</th>\n",
       "      <td>CUS_0x4080</td>\n",
       "      <td>7</td>\n",
       "      <td>16.0</td>\n",
       "      <td>Mechanic</td>\n",
       "      <td>29469.98</td>\n",
       "      <td>2227.831667</td>\n",
       "      <td>7</td>\n",
       "      <td>7</td>\n",
       "      <td>24</td>\n",
       "      <td>5</td>\n",
       "      <td>Personal Loan, Credit-Builder Loan, Debt Conso...</td>\n",
       "      <td>58</td>\n",
       "      <td>24</td>\n",
       "      <td>26.94</td>\n",
       "      <td>11.0</td>\n",
       "      <td>Bad</td>\n",
       "      <td>3421.66</td>\n",
       "      <td>33.283061</td>\n",
       "      <td>13 Years and 8 Months</td>\n",
       "      <td>Yes</td>\n",
       "      <td>69.685459</td>\n",
       "      <td>115.45341572596944</td>\n",
       "      <td>Low_spent_Small_value_payments</td>\n",
       "      <td>327.64429236841744</td>\n",
       "      <td>Poor</td>\n",
       "    </tr>\n",
       "    <tr>\n",
       "      <th>295</th>\n",
       "      <td>CUS_0x4080</td>\n",
       "      <td>8</td>\n",
       "      <td>16.0</td>\n",
       "      <td>Mechanic</td>\n",
       "      <td>29469.98</td>\n",
       "      <td>2227.831667</td>\n",
       "      <td>7</td>\n",
       "      <td>7</td>\n",
       "      <td>24</td>\n",
       "      <td>5</td>\n",
       "      <td>Personal Loan, Credit-Builder Loan, Debt Conso...</td>\n",
       "      <td>53</td>\n",
       "      <td>21</td>\n",
       "      <td>26.94</td>\n",
       "      <td>11.0</td>\n",
       "      <td>Bad</td>\n",
       "      <td>3421.66</td>\n",
       "      <td>32.962950</td>\n",
       "      <td>13 Years and 9 Months</td>\n",
       "      <td>Yes</td>\n",
       "      <td>69.685459</td>\n",
       "      <td>24.066131449353737</td>\n",
       "      <td>High_spent_Medium_value_payments</td>\n",
       "      <td>379.0315766450331</td>\n",
       "      <td>Poor</td>\n",
       "    </tr>\n",
       "  </tbody>\n",
       "</table>\n",
       "</div>"
      ],
      "text/plain": [
       "    Customer_ID  Month   Age Occupation  Annual_Income  Monthly_Inhand_Salary  \\\n",
       "288  CUS_0x4080      1  16.0   Mechanic       29469.98            2227.831667   \n",
       "289  CUS_0x4080      2  16.0   Mechanic       29469.98            2227.831667   \n",
       "290  CUS_0x4080      3  16.0   Mechanic       29469.98            2227.831667   \n",
       "291  CUS_0x4080      4  16.0   Mechanic       29469.98            2227.831667   \n",
       "292  CUS_0x4080      5  16.0   Mechanic       29469.98            2227.831667   \n",
       "293  CUS_0x4080      6  16.0   Mechanic       29469.98            2227.831667   \n",
       "294  CUS_0x4080      7  16.0   Mechanic       29469.98            2227.831667   \n",
       "295  CUS_0x4080      8  16.0   Mechanic       29469.98            2227.831667   \n",
       "\n",
       "     Num_Bank_Accounts  Num_Credit_Card  Interest_Rate Num_of_Loan  \\\n",
       "288               1231                7             24           5   \n",
       "289                  7                7             24           5   \n",
       "290                  7                7             24        -100   \n",
       "291                  7                7             24           5   \n",
       "292                  7                7             24           5   \n",
       "293                  7                7             24           5   \n",
       "294                  7                7             24           5   \n",
       "295                  7                7             24           5   \n",
       "\n",
       "                                          Type_of_Loan  Delay_from_due_date  \\\n",
       "288  Personal Loan, Credit-Builder Loan, Debt Conso...                   53   \n",
       "289  Personal Loan, Credit-Builder Loan, Debt Conso...                   50   \n",
       "290  Personal Loan, Credit-Builder Loan, Debt Conso...                   53   \n",
       "291  Personal Loan, Credit-Builder Loan, Debt Conso...                   53   \n",
       "292  Personal Loan, Credit-Builder Loan, Debt Conso...                   53   \n",
       "293  Personal Loan, Credit-Builder Loan, Debt Conso...                   53   \n",
       "294  Personal Loan, Credit-Builder Loan, Debt Conso...                   58   \n",
       "295  Personal Loan, Credit-Builder Loan, Debt Conso...                   53   \n",
       "\n",
       "    Num_of_Delayed_Payment Changed_Credit_Limit  Num_Credit_Inquiries  \\\n",
       "288                     21                26.94                  11.0   \n",
       "289                     18                22.94                   NaN   \n",
       "290                     24                27.94                  11.0   \n",
       "291                     21                26.94                  11.0   \n",
       "292                     21                26.94                  11.0   \n",
       "293                     21                27.94                  11.0   \n",
       "294                     24                26.94                  11.0   \n",
       "295                     21                26.94                  11.0   \n",
       "\n",
       "    Credit_Mix Outstanding_Debt  Credit_Utilization_Ratio  \\\n",
       "288          _          3421.66                 24.639658   \n",
       "289        Bad          3421.66                 30.268411   \n",
       "290          _          3421.66                 31.212269   \n",
       "291        Bad          3421.66                 33.298654   \n",
       "292        Bad          3421.66                 38.177311   \n",
       "293        Bad          3421.66                 30.986998   \n",
       "294        Bad          3421.66                 33.283061   \n",
       "295        Bad          3421.66                 32.962950   \n",
       "\n",
       "        Credit_History_Age Payment_of_Min_Amount  Total_EMI_per_month  \\\n",
       "288                    NaN                   Yes            69.685459   \n",
       "289  13 Years and 3 Months                    NM            69.685459   \n",
       "290  13 Years and 4 Months                   Yes            69.685459   \n",
       "291  13 Years and 5 Months                   Yes            69.685459   \n",
       "292  13 Years and 6 Months                   Yes            69.685459   \n",
       "293  13 Years and 7 Months                   Yes            69.685459   \n",
       "294  13 Years and 8 Months                   Yes            69.685459   \n",
       "295  13 Years and 9 Months                   Yes            69.685459   \n",
       "\n",
       "    Amount_invested_monthly                 Payment_Behaviour  \\\n",
       "288      59.825596124675045                            !@9#%8   \n",
       "289      125.49176826031132   High_spent_Small_value_payments   \n",
       "290       32.70665182089997   High_spent_Large_value_payments   \n",
       "291      27.250794632521444  High_spent_Medium_value_payments   \n",
       "292       71.26438577406131   Low_spent_Medium_value_payments   \n",
       "293      117.31031613952459    Low_spent_Small_value_payments   \n",
       "294      115.45341572596944    Low_spent_Small_value_payments   \n",
       "295      24.066131449353737  High_spent_Medium_value_payments   \n",
       "\n",
       "        Monthly_Balance Credit_Score  \n",
       "288  363.27211196971183     Standard  \n",
       "289   287.6059398340756     Standard  \n",
       "290  360.39105627348687     Standard  \n",
       "291  375.84691346186537         Poor  \n",
       "292  361.83332232032564         Poor  \n",
       "293   325.7873919548623         Poor  \n",
       "294  327.64429236841744         Poor  \n",
       "295   379.0315766450331         Poor  "
      ]
     },
     "execution_count": 43,
     "metadata": {},
     "output_type": "execute_result"
    }
   ],
   "source": [
    "df_train[df_train['Customer_ID'] == \"CUS_0x4080\"]"
   ]
  },
  {
   "cell_type": "markdown",
   "metadata": {},
   "source": [
    "Outliers seem to be incorrect information. Let's remove the outliers and fix with the mean value."
   ]
  },
  {
   "cell_type": "code",
   "execution_count": 44,
   "metadata": {},
   "outputs": [],
   "source": [
    "# Remove outliers\n",
    "df_train['Num_Bank_Accounts'] = df_train['Num_Bank_Accounts'].apply(lambda Num_Bank_Accounts: np.nan if Num_Bank_Accounts > 20 else Num_Bank_Accounts)\n",
    "df_test['Num_Bank_Accounts'] = df_test['Num_Bank_Accounts'].apply(lambda Num_Bank_Accounts: np.nan if Num_Bank_Accounts > 20 else Num_Bank_Accounts)\n",
    "\n",
    "# Calculate mean without outliers\n",
    "customer_num_bank_accounts = df_train.groupby('Customer_ID')['Num_Bank_Accounts'].mean()\n",
    "\n",
    "# Fill in missing data with customers mean annual income\n",
    "def fill_num_bank_accounts(customer_ID,Num_Bank_Accounts):\n",
    "    return customer_num_bank_accounts[customer_ID] if np.isnan(Num_Bank_Accounts) else Num_Bank_Accounts\n",
    "df_train['Num_Bank_Accounts'] = df_train.apply(lambda x: fill_num_bank_accounts(x['Customer_ID'], x['Num_Bank_Accounts']), axis=1)\n",
    "df_test['Num_Bank_Accounts'] = df_test.apply(lambda x: fill_num_bank_accounts(x['Customer_ID'], x['Num_Bank_Accounts']), axis=1)"
   ]
  },
  {
   "cell_type": "markdown",
   "metadata": {},
   "source": [
    "### Number of credit cards\n",
    "Already an integer so let's just check legitamacy of it"
   ]
  },
  {
   "cell_type": "code",
   "execution_count": 45,
   "metadata": {},
   "outputs": [
    {
     "data": {
      "text/plain": [
       "count    100000.00000\n",
       "mean         22.47443\n",
       "std         129.05741\n",
       "min           0.00000\n",
       "25%           4.00000\n",
       "50%           5.00000\n",
       "75%           7.00000\n",
       "max        1499.00000\n",
       "Name: Num_Credit_Card, dtype: float64"
      ]
     },
     "execution_count": 45,
     "metadata": {},
     "output_type": "execute_result"
    }
   ],
   "source": [
    "df_train['Num_Credit_Card'].describe()"
   ]
  },
  {
   "cell_type": "markdown",
   "metadata": {},
   "source": [
    "Low value is fine at 0 but high value is just wrong. Let's fix the same way we've fixed all other variables. Need to find out what a realistic maximum value is. Let's try 10 and see how that is."
   ]
  },
  {
   "cell_type": "code",
   "execution_count": 46,
   "metadata": {},
   "outputs": [
    {
     "data": {
      "text/plain": [
       "count    2307.000000\n",
       "mean      739.953619\n",
       "std       441.511590\n",
       "min        11.000000\n",
       "25%       333.000000\n",
       "50%       744.000000\n",
       "75%      1126.000000\n",
       "max      1499.000000\n",
       "Name: Num_Credit_Card, dtype: float64"
      ]
     },
     "execution_count": 46,
     "metadata": {},
     "output_type": "execute_result"
    }
   ],
   "source": [
    "high_credit_cards = df_train[df_train['Num_Credit_Card'] > 10]\n",
    "high_credit_cards['Num_Credit_Card'].describe()"
   ]
  },
  {
   "cell_type": "code",
   "execution_count": 47,
   "metadata": {},
   "outputs": [
    {
     "data": {
      "text/plain": [
       "count    2263.000000\n",
       "mean      754.107380\n",
       "std       433.838592\n",
       "min        21.000000\n",
       "25%       362.000000\n",
       "50%       757.000000\n",
       "75%      1131.000000\n",
       "max      1499.000000\n",
       "Name: Num_Credit_Card, dtype: float64"
      ]
     },
     "execution_count": 47,
     "metadata": {},
     "output_type": "execute_result"
    }
   ],
   "source": [
    "high_credit_cards = df_train[df_train['Num_Credit_Card'] > 20]\n",
    "high_credit_cards['Num_Credit_Card'].describe()"
   ]
  },
  {
   "cell_type": "code",
   "execution_count": 48,
   "metadata": {},
   "outputs": [
    {
     "data": {
      "text/plain": [
       "<AxesSubplot: xlabel='Num_Credit_Card', ylabel='Count'>"
      ]
     },
     "execution_count": 48,
     "metadata": {},
     "output_type": "execute_result"
    },
    {
     "data": {
      "image/png": "[encoded data removed]",
      "text/plain": [
       "<Figure size 640x480 with 1 Axes>"
      ]
     },
     "metadata": {},
     "output_type": "display_data"
    }
   ],
   "source": [
    "low_credit_cards = df_train[df_train['Num_Credit_Card'] < 20]\n",
    "sns.histplot(low_credit_cards, x='Num_Credit_Card', binwidth=1)"
   ]
  },
  {
   "cell_type": "markdown",
   "metadata": {},
   "source": [
    "Okay anything over 12 seems to be an outlier. Let's use 15 to be safe"
   ]
  },
  {
   "cell_type": "code",
   "execution_count": 49,
   "metadata": {},
   "outputs": [],
   "source": [
    "# Remove outliers\n",
    "df_train['Num_Credit_Card'] = df_train['Num_Credit_Card'].apply(lambda Num_Credit_Card: np.nan if Num_Credit_Card > 20 else Num_Credit_Card)\n",
    "df_test['Num_Credit_Card'] = df_test['Num_Credit_Card'].apply(lambda Num_Credit_Card: np.nan if Num_Credit_Card > 20 else Num_Credit_Card)\n",
    "\n",
    "# Calculate mean without outliers\n",
    "customer_num_credit_card = df_train.groupby('Customer_ID')['Num_Credit_Card'].mean()\n",
    "\n",
    "# Fill in missing data with customers mean annual income\n",
    "def fill_num_credit_card(customer_ID,Num_Credit_Card):\n",
    "    return customer_num_credit_card[customer_ID] if np.isnan(Num_Credit_Card) else Num_Credit_Card\n",
    "df_train['Num_Credit_Card'] = df_train.apply(lambda x: fill_num_credit_card(x['Customer_ID'], x['Num_Credit_Card']), axis=1)\n",
    "df_test['Num_Credit_Card'] = df_test.apply(lambda x: fill_num_credit_card(x['Customer_ID'], x['Num_Credit_Card']), axis=1)"
   ]
  },
  {
   "cell_type": "markdown",
   "metadata": {},
   "source": [
    "### Interest Rate\n",
    "Already numerical and no missing values so is everything in order?"
   ]
  },
  {
   "cell_type": "code",
   "execution_count": 50,
   "metadata": {},
   "outputs": [
    {
     "data": {
      "text/plain": [
       "count    100000.000000\n",
       "mean         72.466040\n",
       "std         466.422621\n",
       "min           1.000000\n",
       "25%           8.000000\n",
       "50%          13.000000\n",
       "75%          20.000000\n",
       "max        5797.000000\n",
       "Name: Interest_Rate, dtype: float64"
      ]
     },
     "execution_count": 50,
     "metadata": {},
     "output_type": "execute_result"
    }
   ],
   "source": [
    "df_train['Interest_Rate'].describe()"
   ]
  },
  {
   "cell_type": "markdown",
   "metadata": {},
   "source": [
    "I mean technically this is all correct, someone could be charged a 5797% interest rate although realistically this is not very likely. Let's see what a more realistic ceiling is."
   ]
  },
  {
   "cell_type": "code",
   "execution_count": 51,
   "metadata": {},
   "outputs": [
    {
     "data": {
      "text/plain": [
       "<AxesSubplot: xlabel='Interest_Rate', ylabel='Count'>"
      ]
     },
     "execution_count": 51,
     "metadata": {},
     "output_type": "execute_result"
    },
    {
     "data": {
      "image/png": "[encoded data removed]",
      "text/plain": [
       "<Figure size 640x480 with 1 Axes>"
      ]
     },
     "metadata": {},
     "output_type": "display_data"
    }
   ],
   "source": [
    "low_interest_rate = df_train[df_train['Interest_Rate'] < 100]\n",
    "sns.histplot(low_interest_rate, x='Interest_Rate')"
   ]
  },
  {
   "cell_type": "markdown",
   "metadata": {},
   "source": [
    "Let's set the ceiling on interest rate to 40%"
   ]
  },
  {
   "cell_type": "code",
   "execution_count": 52,
   "metadata": {},
   "outputs": [],
   "source": [
    "# Remove outliers\n",
    "df_train['Interest_Rate'] = df_train['Interest_Rate'].apply(lambda Interest_Rate: np.nan if Interest_Rate > 40 else Interest_Rate)\n",
    "df_test['Interest_Rate'] = df_test['Interest_Rate'].apply(lambda Interest_Rate: np.nan if Interest_Rate > 40 else Interest_Rate)\n",
    "\n",
    "# Calculate mean without outliers\n",
    "customer_interest_rate = df_train.groupby('Customer_ID')['Interest_Rate'].mean()\n",
    "\n",
    "# Fill in missing data with customers mean annual income\n",
    "def fill_interest_rate(customer_ID,Interest_Rate):\n",
    "    return customer_interest_rate[customer_ID] if np.isnan(Interest_Rate) else Interest_Rate\n",
    "df_train['Interest_Rate'] = df_train.apply(lambda x: fill_interest_rate(x['Customer_ID'], x['Interest_Rate']), axis=1)\n",
    "df_test['Interest_Rate'] = df_test.apply(lambda x: fill_interest_rate(x['Customer_ID'], x['Interest_Rate']), axis=1)"
   ]
  },
  {
   "cell_type": "code",
   "execution_count": 53,
   "metadata": {},
   "outputs": [
    {
     "data": {
      "text/plain": [
       "Customer_ID                  0.000\n",
       "Month                        0.000\n",
       "Age                          0.000\n",
       "Occupation                   0.000\n",
       "Annual_Income                0.000\n",
       "Monthly_Inhand_Salary        0.000\n",
       "Num_Bank_Accounts            0.000\n",
       "Num_Credit_Card              0.000\n",
       "Interest_Rate                0.000\n",
       "Num_of_Loan                  0.000\n",
       "Type_of_Loan                11.408\n",
       "Delay_from_due_date          0.000\n",
       "Num_of_Delayed_Payment       7.002\n",
       "Changed_Credit_Limit         0.000\n",
       "Num_Credit_Inquiries         1.965\n",
       "Credit_Mix                   0.000\n",
       "Outstanding_Debt             0.000\n",
       "Credit_Utilization_Ratio     0.000\n",
       "Credit_History_Age           9.030\n",
       "Payment_of_Min_Amount        0.000\n",
       "Total_EMI_per_month          0.000\n",
       "Amount_invested_monthly      4.479\n",
       "Payment_Behaviour            0.000\n",
       "Monthly_Balance              1.200\n",
       "Credit_Score                 0.000\n",
       "dtype: float64"
      ]
     },
     "execution_count": 53,
     "metadata": {},
     "output_type": "execute_result"
    }
   ],
   "source": [
    "df_train.isnull().sum().apply(lambda x: 100*(x/len(df_train)))"
   ]
  },
  {
   "cell_type": "markdown",
   "metadata": {},
   "source": [
    "### Number of loans\n",
    "No missing values, currently not a number but I expect it to be so..."
   ]
  },
  {
   "cell_type": "code",
   "execution_count": 54,
   "metadata": {},
   "outputs": [
    {
     "data": {
      "text/plain": [
       "array(['4', '1', '3', '967', '-100', '0', '0_', '2', '3_', '2_', '7', '5',\n",
       "       '5_', '6', '8', '8_', '9', '9_', '4_', '7_', '1_', '1464', '6_',\n",
       "       '622', '352', '472', '1017', '945', '146', '563', '341', '444',\n",
       "       '720', '1485', '49', '737', '1106', '466', '728', '313', '843',\n",
       "       '597_', '617', '119', '663', '640', '92_', '1019', '501', '1302',\n",
       "       '39', '716', '848', '931', '1214', '186', '424', '1001', '1110',\n",
       "       '1152', '457', '1433', '1187', '52', '1480', '1047', '1035',\n",
       "       '1347_', '33', '193', '699', '329', '1451', '484', '132', '649',\n",
       "       '995', '545', '684', '1135', '1094', '1204', '654', '58', '348',\n",
       "       '614', '1363', '323', '1406', '1348', '430', '153', '1461', '905',\n",
       "       '1312', '1424', '1154', '95', '1353', '1228', '819', '1006', '795',\n",
       "       '359', '1209', '590', '696', '1185_', '1465', '911', '1181', '70',\n",
       "       '816', '1369', '143', '1416', '455', '55', '1096', '1474', '420',\n",
       "       '1131', '904', '89', '1259', '527', '1241', '449', '983', '418',\n",
       "       '319', '23', '238', '638', '138', '235_', '280', '1070', '1484',\n",
       "       '274', '494', '1459_', '404', '1354', '1495', '1391', '601',\n",
       "       '1313', '1319', '898', '231', '752', '174', '961', '1046', '834',\n",
       "       '284', '438', '288', '1463', '1151', '719', '198', '1015', '855',\n",
       "       '841', '392', '1444', '103', '1320_', '745', '172', '252', '630_',\n",
       "       '241', '31', '405', '1217', '1030', '1257', '137', '157', '164',\n",
       "       '1088', '1236', '777', '1048', '613', '330', '1439', '321', '661',\n",
       "       '952', '939', '562', '1202', '302', '943', '394', '955', '1318',\n",
       "       '936', '781', '100', '1329', '1365', '860', '217', '191', '32',\n",
       "       '282', '351', '1387', '757', '416', '833', '359_', '292', '1225_',\n",
       "       '1227', '639', '859', '243', '267', '510', '332', '996', '597',\n",
       "       '311', '492', '820', '336', '123', '540', '131_', '1311_', '1441',\n",
       "       '895', '891', '50', '940', '935', '596', '29', '1182', '1129_',\n",
       "       '1014', '251', '365', '291', '1447', '742', '1085', '148', '462',\n",
       "       '832', '881', '1225', '1412', '785_', '1127', '910', '538', '999',\n",
       "       '733', '101', '237', '87', '659', '633', '387', '447', '629',\n",
       "       '831', '1384', '773', '621', '1419', '289', '143_', '285', '1393',\n",
       "       '1131_', '27_', '1359', '1482', '1189', '1294', '201', '579',\n",
       "       '814', '141', '1320', '581', '1171_', '295', '290', '433', '679',\n",
       "       '1040', '1054', '1430', '1023', '1077', '1457', '1150', '701',\n",
       "       '1382', '889', '437', '372', '1222', '126', '1159', '868', '19',\n",
       "       '1297', '227_', '190', '809', '1216', '1074', '571', '520', '1274',\n",
       "       '1340', '991', '316', '697', '926', '873', '1002', '378_', '65',\n",
       "       '875', '867', '548', '652', '1372', '606', '1036', '1300', '17',\n",
       "       '1178', '802', '1219_', '1271', '1137', '1496', '439', '196',\n",
       "       '636', '192', '228', '1053', '229', '753', '1296', '1371', '254',\n",
       "       '863', '464', '515', '838', '1160', '1289', '1298', '799', '182',\n",
       "       '574', '527_', '242', '415', '869', '958', '54', '1265', '656',\n",
       "       '275', '778', '208', '147', '350', '507', '463', '497', '1129',\n",
       "       '927', '653', '662', '529', '635', '1027_', '897', '1039', '227',\n",
       "       '1345', '924', '696_', '1279', '546', '1112', '1210', '526', '300',\n",
       "       '1103', '504', '136', '1400', '78', '686', '1091', '344', '215',\n",
       "       '84', '628', '1470', '968', '1478', '83', '1196', '1307', '1132_',\n",
       "       '1008', '917', '657', '56', '18', '41', '801', '978', '216', '349',\n",
       "       '966'], dtype=object)"
      ]
     },
     "execution_count": 54,
     "metadata": {},
     "output_type": "execute_result"
    }
   ],
   "source": [
    "df_train['Num_of_Loan'].unique()"
   ]
  },
  {
   "cell_type": "code",
   "execution_count": 55,
   "metadata": {},
   "outputs": [],
   "source": [
    "df_train['Num_of_Loan'] = df_train['Num_of_Loan'].apply(lambda income: float(income.replace(\"_\",\"\")))\n",
    "df_test['Num_of_Loan'] = df_test['Num_of_Loan'].apply(lambda income: float(income.replace(\"_\",\"\")))"
   ]
  },
  {
   "cell_type": "code",
   "execution_count": 56,
   "metadata": {},
   "outputs": [
    {
     "data": {
      "text/plain": [
       "count    100000.000000\n",
       "mean          3.009960\n",
       "std          62.647879\n",
       "min        -100.000000\n",
       "25%           1.000000\n",
       "50%           3.000000\n",
       "75%           5.000000\n",
       "max        1496.000000\n",
       "Name: Num_of_Loan, dtype: float64"
      ]
     },
     "execution_count": 56,
     "metadata": {},
     "output_type": "execute_result"
    }
   ],
   "source": [
    "df_train['Num_of_Loan'].describe()"
   ]
  },
  {
   "cell_type": "markdown",
   "metadata": {},
   "source": [
    "negative values do not make sense and max is ridiculously high. What's a more realistic maximum..."
   ]
  },
  {
   "cell_type": "code",
   "execution_count": 57,
   "metadata": {},
   "outputs": [
    {
     "data": {
      "text/plain": [
       "(0.0, 20.0)"
      ]
     },
     "execution_count": 57,
     "metadata": {},
     "output_type": "execute_result"
    },
    {
     "data": {
      "image/png": "[encoded data removed]",
      "text/plain": [
       "<Figure size 640x480 with 1 Axes>"
      ]
     },
     "metadata": {},
     "output_type": "display_data"
    }
   ],
   "source": [
    "fig = plt.figure()\n",
    "ax = fig.add_subplot()\n",
    "sns.histplot(x=df_train[\"Num_of_Loan\"], ax=ax, binwidth=1)\n",
    "ax.set_xlim(0, 20)"
   ]
  },
  {
   "cell_type": "markdown",
   "metadata": {},
   "source": [
    "Seems to be a reasonable limit at 10 loans, let's set the ceiling to 15 so we have some wiggle room"
   ]
  },
  {
   "cell_type": "code",
   "execution_count": 58,
   "metadata": {},
   "outputs": [],
   "source": [
    "# Remove outliers\n",
    "df_train['Num_of_Loan'] = df_train['Num_of_Loan'].apply(lambda Num_of_Loan: np.nan if (Num_of_Loan < 0 or Num_of_Loan > 15) else Num_of_Loan)\n",
    "df_test['Num_of_Loan'] = df_test['Num_of_Loan'].apply(lambda Num_of_Loan: np.nan if (Num_of_Loan < 0 or Num_of_Loan > 15) else Num_of_Loan)\n",
    "\n",
    "# Calculate mean without outliers\n",
    "customer_Num_of_Loan = df_train.groupby('Customer_ID')['Num_of_Loan'].mean()\n",
    "\n",
    "# Fill in missing data with customers mean age\n",
    "def fill_num_of_loan(customer_ID,Num_of_Loan):\n",
    "    return customer_Num_of_Loan[customer_ID] if np.isnan(Num_of_Loan) else Num_of_Loan\n",
    "df_train['Num_of_Loan'] = df_train.apply(lambda x: fill_num_of_loan(x['Customer_ID'], x['Num_of_Loan']), axis=1)\n",
    "df_test['Num_of_Loan'] = df_test.apply(lambda x: fill_num_of_loan(x['Customer_ID'], x['Num_of_Loan']), axis=1)"
   ]
  },
  {
   "cell_type": "markdown",
   "metadata": {},
   "source": [
    "### Delay_from_due_date\n",
    "No missing values and already integer so are the values reasonable?"
   ]
  },
  {
   "cell_type": "code",
   "execution_count": 59,
   "metadata": {},
   "outputs": [
    {
     "data": {
      "text/plain": [
       "count    100000.000000\n",
       "mean         21.068780\n",
       "std          14.860104\n",
       "min          -5.000000\n",
       "25%          10.000000\n",
       "50%          18.000000\n",
       "75%          28.000000\n",
       "max          67.000000\n",
       "Name: Delay_from_due_date, dtype: float64"
      ]
     },
     "execution_count": 59,
     "metadata": {},
     "output_type": "execute_result"
    }
   ],
   "source": [
    "df_train['Delay_from_due_date'].describe()"
   ]
  },
  {
   "cell_type": "markdown",
   "metadata": {},
   "source": [
    "So I guess negative values here do make sense as would be paying off early. Additionally having a delay of 67 days is also still reasonable as this would be a delay of approximately 2 months. Therefore for now I will leave this column alone as I do not have further context for whether or not these values are in fact reasonable"
   ]
  },
  {
   "cell_type": "markdown",
   "metadata": {},
   "source": [
    "### Number of delayed payments\n",
    "Missing values and currently an object"
   ]
  },
  {
   "cell_type": "code",
   "execution_count": 60,
   "metadata": {},
   "outputs": [
    {
     "data": {
      "text/plain": [
       "array(['7', nan, '4', '8_', '6', '1', '-1', '3_', '0', '8', '5', '3', '9',\n",
       "       '12', '15', '17', '10', '2', '2_', '11', '14', '20', '22', '13',\n",
       "       '13_', '14_', '16', '12_', '18', '19', '23', '24', '21', '3318',\n",
       "       '3083', '22_', '1338', '4_', '26', '11_', '3104', '21_', '25',\n",
       "       '10_', '183_', '9_', '1106', '834', '19_', '24_', '17_', '23_',\n",
       "       '2672', '20_', '2008', '-3', '538', '6_', '1_', '16_', '27', '-2',\n",
       "       '3478', '2420', '15_', '707', '708', '26_', '18_', '3815', '28',\n",
       "       '5_', '1867', '2250', '1463', '25_', '7_', '4126', '2882', '1941',\n",
       "       '2655', '2628', '132', '3069', '306', '0_', '3539', '3684', '1823',\n",
       "       '4128', '1946', '827', '2297', '2566', '904', '182', '929', '3568',\n",
       "       '2503', '1552', '2812', '1697', '3764', '851', '3905', '923', '88',\n",
       "       '1668', '3253', '808', '2689', '3858', '642', '3457', '1402',\n",
       "       '1732', '3154', '847', '3037', '2204', '3103', '1063', '2056',\n",
       "       '1282', '1841', '2569_', '211', '793', '3484', '411', '3491',\n",
       "       '2072', '3050', '1049', '2162', '3402', '2753', '27_', '1718',\n",
       "       '1014', '3260', '3855', '84', '2311', '3251', '1832', '4069',\n",
       "       '3010', '733', '4241', '166', '2461', '1749', '3200', '663_',\n",
       "       '2185', '4161', '3009', '359', '2015', '1523', '594', '1079',\n",
       "       '1199', '186', '1015', '1989', '281', '559', '2165', '1509',\n",
       "       '3545', '779', '192', '4311', '-2_', '2323', '1471', '1538',\n",
       "       '3529', '439', '3456', '3040', '2697', '3179', '1332', '3175',\n",
       "       '3112', '829', '4022', '3870', '4023', '531', '1511', '3092',\n",
       "       '3191', '2400', '3621', '3536', '544', '1864', '28_', '142',\n",
       "       '2300', '264', '72', '497', '398', '2222', '3960', '1473', '3043',\n",
       "       '4216', '2903', '2658', '-1_', '4042', '1323_', '2184', '921',\n",
       "       '1328', '3404', '2438', '809', '47', '1996', '4164', '1370',\n",
       "       '1204', '2167', '4011', '2590', '2594', '2533', '1663', '1018',\n",
       "       '2919', '3458', '3316', '2589', '2801', '3355', '2529', '2488',\n",
       "       '4266', '1243', '739', '845', '4107', '1884', '337', '2660', '290',\n",
       "       '674', '2450', '3738', '1792', '2823', '2570', '775', '960', '482',\n",
       "       '1706', '2493', '3623', '3031', '2794_', '2219_', '758_', '1849',\n",
       "       '3559', '4096', '3726', '1953', '2657', '4043', '2938', '4384',\n",
       "       '1647', '2694', '3533', '519', '2677', '2413', '-3_', '4139',\n",
       "       '2609', '4326', '4211', '823', '3011', '1608', '2860', '4219',\n",
       "       '4047', '1531', '742', '52', '4024', '1673', '49', '2243', '1685',\n",
       "       '1869', '2587', '3489', '749', '1164', '2616', '848_', '4134',\n",
       "       '1530', '1502', '4075', '3845', '1060', '2573', '2128', '328',\n",
       "       '640', '2585', '2230', '1795', '1180', '1534', '3739', '3313',\n",
       "       '4191', '996', '372', '3340', '3177', '602', '787', '4135', '3878',\n",
       "       '4059', '1218', '4051', '1766', '1359', '3107', '585', '1263',\n",
       "       '2511', '709', '3632', '4077', '2943', '2793', '3245', '2317',\n",
       "       '1640', '2237_', '3819', '252', '3978', '1498', '1833', '2737',\n",
       "       '1192', '1481', '700', '271', '2286', '273', '1215', '3944',\n",
       "       '2070', '1478', '3749', '871', '2508', '2959', '130', '294',\n",
       "       '3097_', '3511', '415', '2196', '2138', '2149', '1874', '1553',\n",
       "       '3847', '3222', '1222', '2907', '3051', '98', '1598', '416',\n",
       "       '2314', '2955', '1691', '1450', '2021', '1636', '80', '3708',\n",
       "       '195', '320', '2945', '1911', '3416', '3796', '4159', '2255',\n",
       "       '938', '4397', '3776', '2148', '1994', '853', '1178', '1633',\n",
       "       '196', '3864', '714', '1687', '1034', '468', '1337', '2044',\n",
       "       '1541', '3661', '1211', '2645', '2007', '102', '1891', '3162',\n",
       "       '3142', '2566_', '2766', '3881', '2728', '2671', '1952', '3580',\n",
       "       '2705', '4251', '3840_', '972', '3119', '3502', '4185', '2954',\n",
       "       '683', '1614', '1572', '4302', '3447', '1852', '2131', '1900',\n",
       "       '1699', '133', '2018', '2127', '508', '210', '577', '1664', '2604',\n",
       "       '1411', '2351', '867', '1371', '2352', '1191', '905', '4053',\n",
       "       '3869', '933', '3660', '3300', '3629', '3208', '2142', '2521',\n",
       "       '450', '583', '876', '121', '3919', '2560', '2578', '2060', '813',\n",
       "       '1236', '1489', '4360', '1154', '2544', '4172', '2924', '426',\n",
       "       '4270', '2768', '3909', '3951', '2712', '2498', '3171', '1750',\n",
       "       '197', '2569', '265', '4293', '887', '2707', '2397', '4337',\n",
       "       '4249', '2751', '2950', '1859', '107', '2348', '2506', '2810',\n",
       "       '2873', '1301', '2262', '1890', '3078', '3865', '3268', '2777',\n",
       "       '3105', '1278', '3793', '2276', '2879', '4298', '2141', '223',\n",
       "       '2239', '846', '1862', '2756', '1181', '1184', '2617', '3972',\n",
       "       '2334', '3900', '2759', '4169', '2280', '2492', '2729', '3750',\n",
       "       '1825', '309', '2431', '3099', '2080', '2279', '2666', '3722',\n",
       "       '1976', '529', '1985', '3060', '4278', '3212', '46', '3148',\n",
       "       '3467', '4231', '3790', '473', '1536', '3955', '2324', '2381',\n",
       "       '1177', '371', '2896', '3880', '2991', '4319', '1061', '662',\n",
       "       '4144', '693', '2006', '3115', '2278_', '3751', '1861', '4262',\n",
       "       '2913', '2615', '3492', '800', '3766', '384', '3407', '1087',\n",
       "       '3329', '1086', '2216', '1087_', '2457', '3522', '3274', '3488',\n",
       "       '2854', '238', '351', '3706', '4280', '4095', '2926', '1329',\n",
       "       '3370', '283', '1392', '1743', '2429', '974', '3156', '1133',\n",
       "       '4388', '3243', '4282', '2523', '4281', '3415', '2001', '441',\n",
       "       '94', '3499', '969', '3368', '106', '1004', '2638', '3946', '2956',\n",
       "       '4324', '85', '4113', '819', '615', '1172', '2553', '1765', '3495',\n",
       "       '2820', '4239', '4340', '1295_', '2636', '4295', '1653', '1325',\n",
       "       '1879', '1096', '1735', '3584', '1073', '1975', '3827', '2552',\n",
       "       '3754', '2378', '532', '926', '2376', '3636', '3763', '778',\n",
       "       '2621', '804', '754', '2418', '4019', '3926', '3861_', '3574',\n",
       "       '175', '162', '2834', '3765', '2354', '523', '2274', '1606',\n",
       "       '1443', '1354', '2142_', '1422', '2278', '1045', '4106', '3155',\n",
       "       '666', '659', '3229', '1216', '2076', '1473_', '2384', '1954',\n",
       "       '719', '2534', '4002', '541', '2875', '4344', '2081', '3894',\n",
       "       '1256', '676', '4178', '399', '86', '1571', '4037', '1967', '4005',\n",
       "       '3216', '1150', '2591', '1801', '3721', '1775', '2260', '3707',\n",
       "       '4292', '1820', '145', '1480', '1850', '430', '217', '3920_',\n",
       "       '1389', '1579', '3391', '2385', '3336', '3392', '3688', '221',\n",
       "       '2047'], dtype=object)"
      ]
     },
     "execution_count": 60,
     "metadata": {},
     "output_type": "execute_result"
    }
   ],
   "source": [
    "df_train['Num_of_Delayed_Payment'].unique()"
   ]
  },
  {
   "cell_type": "code",
   "execution_count": 61,
   "metadata": {},
   "outputs": [],
   "source": [
    "df_train['Num_of_Delayed_Payment'] = df_train['Num_of_Delayed_Payment'].apply(lambda delayed_payment: float(delayed_payment.replace(\"_\",\"\")) if not isinstance(delayed_payment, float) else delayed_payment)\n",
    "df_test['Num_of_Delayed_Payment'] = df_test['Num_of_Delayed_Payment'].apply(lambda delayed_payment: float(delayed_payment.replace(\"_\",\"\")) if not isinstance(delayed_payment, float) else delayed_payment)"
   ]
  },
  {
   "cell_type": "code",
   "execution_count": 62,
   "metadata": {},
   "outputs": [
    {
     "data": {
      "text/plain": [
       "count    92998.000000\n",
       "mean        30.923342\n",
       "std        226.031892\n",
       "min         -3.000000\n",
       "25%          9.000000\n",
       "50%         14.000000\n",
       "75%         18.000000\n",
       "max       4397.000000\n",
       "Name: Num_of_Delayed_Payment, dtype: float64"
      ]
     },
     "execution_count": 62,
     "metadata": {},
     "output_type": "execute_result"
    }
   ],
   "source": [
    "df_train['Num_of_Delayed_Payment'].describe()"
   ]
  },
  {
   "cell_type": "code",
   "execution_count": 63,
   "metadata": {},
   "outputs": [
    {
     "data": {
      "text/plain": [
       "(0.0, 50.0)"
      ]
     },
     "execution_count": 63,
     "metadata": {},
     "output_type": "execute_result"
    },
    {
     "data": {
      "image/png": "[encoded data removed]",
      "text/plain": [
       "<Figure size 640x480 with 1 Axes>"
      ]
     },
     "metadata": {},
     "output_type": "display_data"
    }
   ],
   "source": [
    "fig = plt.figure()\n",
    "ax = fig.add_subplot()\n",
    "sns.histplot(x=df_train[\"Num_of_Delayed_Payment\"], ax=ax, binwidth=1)\n",
    "ax.set_xlim(0, 50)"
   ]
  },
  {
   "cell_type": "markdown",
   "metadata": {},
   "source": [
    "Anything above say 30 seems like an outlier. Let's check what is going on..."
   ]
  },
  {
   "cell_type": "code",
   "execution_count": 64,
   "metadata": {},
   "outputs": [
    {
     "data": {
      "text/plain": [
       "252    CUS_0x6048\n",
       "284    CUS_0x9b94\n",
       "304    CUS_0x42ac\n",
       "409    CUS_0xb986\n",
       "643    CUS_0x78e0\n",
       "Name: Customer_ID, dtype: object"
      ]
     },
     "execution_count": 64,
     "metadata": {},
     "output_type": "execute_result"
    }
   ],
   "source": [
    "high_delayed_payments = df_train[df_train['Num_of_Delayed_Payment'] > 30]\n",
    "high_delayed_payments['Customer_ID'].head()"
   ]
  },
  {
   "cell_type": "code",
   "execution_count": 65,
   "metadata": {},
   "outputs": [
    {
     "data": {
      "text/plain": [
       "248      21.0\n",
       "249      21.0\n",
       "250      21.0\n",
       "251      22.0\n",
       "252    3318.0\n",
       "253      21.0\n",
       "254      21.0\n",
       "255      18.0\n",
       "Name: Num_of_Delayed_Payment, dtype: float64"
      ]
     },
     "execution_count": 65,
     "metadata": {},
     "output_type": "execute_result"
    }
   ],
   "source": [
    "df_train[df_train['Customer_ID'] == \"CUS_0x6048\"]['Num_of_Delayed_Payment']"
   ]
  },
  {
   "cell_type": "markdown",
   "metadata": {},
   "source": [
    "Let's approximate with the mean"
   ]
  },
  {
   "cell_type": "code",
   "execution_count": 66,
   "metadata": {},
   "outputs": [],
   "source": [
    "# Remove outliers\n",
    "df_train['Num_of_Delayed_Payment'] = df_train['Num_of_Delayed_Payment'].apply(lambda Num_of_Delayed_Payment: np.nan if (Num_of_Delayed_Payment < 0 or Num_of_Delayed_Payment > 30) else Num_of_Delayed_Payment)\n",
    "df_test['Num_of_Delayed_Payment'] = df_test['Num_of_Delayed_Payment'].apply(lambda Num_of_Delayed_Payment: np.nan if (Num_of_Delayed_Payment < 0 or Num_of_Delayed_Payment > 30) else Num_of_Delayed_Payment)\n",
    "\n",
    "# Calculate mean without outliers\n",
    "customer_Num_of_Delayed_Payment = df_train.groupby('Customer_ID')['Num_of_Delayed_Payment'].mean()\n",
    "\n",
    "# Fill in missing data with customers mean number of delayed payments\n",
    "def fill_num_of_delayed_payments(customer_ID,Num_of_Delayed_Payment):\n",
    "    return customer_Num_of_Delayed_Payment[customer_ID] if np.isnan(Num_of_Delayed_Payment) else Num_of_Delayed_Payment\n",
    "df_train['Num_of_Delayed_Payment'] = df_train.apply(lambda x: fill_num_of_delayed_payments(x['Customer_ID'], x['Num_of_Delayed_Payment']), axis=1)\n",
    "df_test['Num_of_Delayed_Payment'] = df_test.apply(lambda x: fill_num_of_delayed_payments(x['Customer_ID'], x['Num_of_Delayed_Payment']), axis=1)"
   ]
  },
  {
   "cell_type": "markdown",
   "metadata": {},
   "source": [
    "### Changed_Credit_Limit\n",
    "No missing values and an object. Represents percentage change in credit limit so positive and negative values make sense."
   ]
  },
  {
   "cell_type": "code",
   "execution_count": 67,
   "metadata": {},
   "outputs": [
    {
     "data": {
      "text/plain": [
       "array(['11.27', '_', '6.27', ..., '17.509999999999998', '25.16', '21.17'],\n",
       "      dtype=object)"
      ]
     },
     "execution_count": 67,
     "metadata": {},
     "output_type": "execute_result"
    }
   ],
   "source": [
    "df_train['Changed_Credit_Limit'].unique()"
   ]
  },
  {
   "cell_type": "code",
   "execution_count": 68,
   "metadata": {},
   "outputs": [],
   "source": [
    "df_train['Changed_Credit_Limit'] = df_train['Changed_Credit_Limit'].apply(lambda credit_limit: np.nan if credit_limit=='_' else credit_limit)\n",
    "df_test['Changed_Credit_Limit'] = df_test['Changed_Credit_Limit'].apply(lambda credit_limit: np.nan if credit_limit=='_' else credit_limit)"
   ]
  },
  {
   "cell_type": "code",
   "execution_count": 69,
   "metadata": {},
   "outputs": [],
   "source": [
    "df_train['Changed_Credit_Limit'] = df_train['Changed_Credit_Limit'].apply(lambda credit_limit: float(credit_limit.replace(\"_\",\"\")) if not isinstance(credit_limit, float) else credit_limit)\n",
    "df_test['Changed_Credit_Limit'] = df_test['Changed_Credit_Limit'].apply(lambda credit_limit: float(credit_limit.replace(\"_\",\"\")) if not isinstance(credit_limit, float) else credit_limit)"
   ]
  },
  {
   "cell_type": "code",
   "execution_count": 70,
   "metadata": {},
   "outputs": [
    {
     "data": {
      "text/plain": [
       "count    97909.000000\n",
       "mean        10.389025\n",
       "std          6.789496\n",
       "min         -6.490000\n",
       "25%          5.320000\n",
       "50%          9.400000\n",
       "75%         14.870000\n",
       "max         36.970000\n",
       "Name: Changed_Credit_Limit, dtype: float64"
      ]
     },
     "execution_count": 70,
     "metadata": {},
     "output_type": "execute_result"
    }
   ],
   "source": [
    "df_train['Changed_Credit_Limit'].describe()"
   ]
  },
  {
   "cell_type": "markdown",
   "metadata": {},
   "source": [
    "Values seem reasonable although now missing values because of removing \"_\". Let's fix this by taking the mean value for each customer"
   ]
  },
  {
   "cell_type": "code",
   "execution_count": 71,
   "metadata": {},
   "outputs": [],
   "source": [
    "# Calculate mean\n",
    "customer_changed_credit_limit = df_train.groupby('Customer_ID')['Changed_Credit_Limit'].mean()\n",
    "\n",
    "# Fill in missing data with customers mean number of delayed payments\n",
    "def fill_changed_credit_limit(customer_ID, Changed_Credit_Limit):\n",
    "    return customer_changed_credit_limit[customer_ID] if np.isnan(Changed_Credit_Limit) else Changed_Credit_Limit\n",
    "df_train['Changed_Credit_Limit'] = df_train.apply(lambda x: fill_changed_credit_limit(x['Customer_ID'], x['Changed_Credit_Limit']), axis=1)\n",
    "df_test['Changed_Credit_Limit'] = df_test.apply(lambda x: fill_changed_credit_limit(x['Customer_ID'], x['Changed_Credit_Limit']), axis=1)"
   ]
  },
  {
   "cell_type": "code",
   "execution_count": 72,
   "metadata": {},
   "outputs": [
    {
     "data": {
      "text/plain": [
       "<AxesSubplot: xlabel='Changed_Credit_Limit', ylabel='Count'>"
      ]
     },
     "execution_count": 72,
     "metadata": {},
     "output_type": "execute_result"
    },
    {
     "data": {
      "image/png": "[encoded data removed]",
      "text/plain": [
       "<Figure size 640x480 with 1 Axes>"
      ]
     },
     "metadata": {},
     "output_type": "display_data"
    }
   ],
   "source": [
    "sns.histplot(x=df_train[\"Changed_Credit_Limit\"])"
   ]
  },
  {
   "cell_type": "markdown",
   "metadata": {},
   "source": [
    "### Number of Credit Inquiries\n",
    "Should be an integer as a count. Missing some values too."
   ]
  },
  {
   "cell_type": "code",
   "execution_count": 73,
   "metadata": {},
   "outputs": [
    {
     "data": {
      "text/plain": [
       "count    98035.000000\n",
       "mean        27.754251\n",
       "std        193.177339\n",
       "min          0.000000\n",
       "25%          3.000000\n",
       "50%          6.000000\n",
       "75%          9.000000\n",
       "max       2597.000000\n",
       "Name: Num_Credit_Inquiries, dtype: float64"
      ]
     },
     "execution_count": 73,
     "metadata": {},
     "output_type": "execute_result"
    }
   ],
   "source": [
    "df_train['Num_Credit_Inquiries'].describe()"
   ]
  },
  {
   "cell_type": "code",
   "execution_count": 74,
   "metadata": {},
   "outputs": [
    {
     "data": {
      "text/plain": [
       "(0.0, 50.0)"
      ]
     },
     "execution_count": 74,
     "metadata": {},
     "output_type": "execute_result"
    },
    {
     "data": {
      "image/png": "[encoded data removed]",
      "text/plain": [
       "<Figure size 640x480 with 1 Axes>"
      ]
     },
     "metadata": {},
     "output_type": "display_data"
    }
   ],
   "source": [
    "fig = plt.figure()\n",
    "ax = fig.add_subplot()\n",
    "sns.histplot(x=df_train[\"Num_Credit_Inquiries\"], ax=ax, binwidth=1)\n",
    "ax.set_xlim(0, 50)"
   ]
  },
  {
   "cell_type": "markdown",
   "metadata": {},
   "source": [
    "Anything above 20 seems to be false data. Let's fix with the mean inquiries per customer"
   ]
  },
  {
   "cell_type": "code",
   "execution_count": 75,
   "metadata": {},
   "outputs": [],
   "source": [
    "# Remove outliers\n",
    "df_train['Num_Credit_Inquiries'] = df_train['Num_Credit_Inquiries'].apply(lambda Num_Credit_Inquiries: np.nan if Num_Credit_Inquiries > 20 else Num_Credit_Inquiries)\n",
    "df_test['Num_Credit_Inquiries'] = df_test['Num_Credit_Inquiries'].apply(lambda Num_Credit_Inquiries: np.nan if Num_Credit_Inquiries > 20 else Num_Credit_Inquiries)\n",
    "\n",
    "# Calculate mean without outliers\n",
    "customer_Num_Credit_Inquiries = df_train.groupby('Customer_ID')['Num_Credit_Inquiries'].mean()\n",
    "\n",
    "# Fill in missing data with customers mean number of delayed payments\n",
    "def fill_num_credit_inquiries(customer_ID,Num_Credit_Inquiries):\n",
    "    return customer_Num_Credit_Inquiries[customer_ID] if np.isnan(Num_Credit_Inquiries) else Num_Credit_Inquiries\n",
    "df_train['Num_Credit_Inquiries'] = df_train.apply(lambda x: fill_num_credit_inquiries(x['Customer_ID'], x['Num_Credit_Inquiries']), axis=1)\n",
    "df_test['Num_Credit_Inquiries'] = df_test.apply(lambda x: fill_num_credit_inquiries(x['Customer_ID'], x['Num_Credit_Inquiries']), axis=1)"
   ]
  },
  {
   "cell_type": "markdown",
   "metadata": {},
   "source": [
    "### Outstanding Debt\n",
    "Object, no missing data"
   ]
  },
  {
   "cell_type": "code",
   "execution_count": 76,
   "metadata": {},
   "outputs": [
    {
     "data": {
      "text/plain": [
       "array(['809.98', '605.03', '1303.01', ..., '3571.7_', '3571.7', '502.38'],\n",
       "      dtype=object)"
      ]
     },
     "execution_count": 76,
     "metadata": {},
     "output_type": "execute_result"
    }
   ],
   "source": [
    "df_train['Outstanding_Debt'].unique()"
   ]
  },
  {
   "cell_type": "code",
   "execution_count": 77,
   "metadata": {},
   "outputs": [],
   "source": [
    "df_train['Outstanding_Debt'] = df_train['Outstanding_Debt'].apply(lambda outstanding_debt: float(outstanding_debt.replace(\"_\",\"\")) if not isinstance(outstanding_debt, float) else outstanding_debt)\n",
    "df_test['Outstanding_Debt'] = df_test['Outstanding_Debt'].apply(lambda outstanding_debt: float(outstanding_debt.replace(\"_\",\"\")) if not isinstance(outstanding_debt, float) else outstanding_debt)"
   ]
  },
  {
   "cell_type": "code",
   "execution_count": 78,
   "metadata": {},
   "outputs": [
    {
     "data": {
      "text/plain": [
       "count    100000.000000\n",
       "mean       1426.220376\n",
       "std        1155.129026\n",
       "min           0.230000\n",
       "25%         566.072500\n",
       "50%        1166.155000\n",
       "75%        1945.962500\n",
       "max        4998.070000\n",
       "Name: Outstanding_Debt, dtype: float64"
      ]
     },
     "execution_count": 78,
     "metadata": {},
     "output_type": "execute_result"
    }
   ],
   "source": [
    "df_train['Outstanding_Debt'].describe()"
   ]
  },
  {
   "cell_type": "markdown",
   "metadata": {},
   "source": [
    "All reasonable so leaving alone"
   ]
  },
  {
   "cell_type": "markdown",
   "metadata": {},
   "source": [
    "### Credit Utilisation Ratio\n",
    "Already floats and no missing data so are they reasonable...Should be values between 0 and 100 as this is a percentage utilisation"
   ]
  },
  {
   "cell_type": "code",
   "execution_count": 79,
   "metadata": {},
   "outputs": [
    {
     "data": {
      "text/plain": [
       "count    100000.000000\n",
       "mean         32.285173\n",
       "std           5.116875\n",
       "min          20.000000\n",
       "25%          28.052567\n",
       "50%          32.305784\n",
       "75%          36.496663\n",
       "max          50.000000\n",
       "Name: Credit_Utilization_Ratio, dtype: float64"
      ]
     },
     "execution_count": 79,
     "metadata": {},
     "output_type": "execute_result"
    }
   ],
   "source": [
    "df_train['Credit_Utilization_Ratio'].describe()"
   ]
  },
  {
   "cell_type": "markdown",
   "metadata": {},
   "source": [
    "All good so moving on."
   ]
  },
  {
   "cell_type": "markdown",
   "metadata": {},
   "source": [
    "### Credit_History_Age\n",
    "Currently an object with some missing data too"
   ]
  },
  {
   "cell_type": "code",
   "execution_count": 80,
   "metadata": {},
   "outputs": [
    {
     "data": {
      "text/plain": [
       "array(['22 Years and 1 Months', nan, '22 Years and 3 Months',\n",
       "       '22 Years and 4 Months', '22 Years and 5 Months',\n",
       "       '22 Years and 6 Months', '22 Years and 7 Months',\n",
       "       '26 Years and 7 Months', '26 Years and 8 Months',\n",
       "       '26 Years and 9 Months', '26 Years and 10 Months',\n",
       "       '26 Years and 11 Months', '27 Years and 0 Months',\n",
       "       '27 Years and 1 Months', '27 Years and 2 Months',\n",
       "       '17 Years and 9 Months', '17 Years and 10 Months',\n",
       "       '17 Years and 11 Months', '18 Years and 1 Months',\n",
       "       '18 Years and 2 Months', '18 Years and 3 Months',\n",
       "       '18 Years and 4 Months', '17 Years and 3 Months',\n",
       "       '17 Years and 4 Months', '17 Years and 5 Months',\n",
       "       '17 Years and 6 Months', '17 Years and 7 Months',\n",
       "       '17 Years and 8 Months', '30 Years and 8 Months',\n",
       "       '30 Years and 9 Months', '30 Years and 10 Months',\n",
       "       '30 Years and 11 Months', '31 Years and 0 Months',\n",
       "       '31 Years and 1 Months', '31 Years and 2 Months',\n",
       "       '31 Years and 3 Months', '32 Years and 0 Months',\n",
       "       '32 Years and 2 Months', '32 Years and 3 Months',\n",
       "       '32 Years and 5 Months', '32 Years and 6 Months',\n",
       "       '30 Years and 7 Months', '14 Years and 8 Months',\n",
       "       '14 Years and 9 Months', '14 Years and 10 Months',\n",
       "       '14 Years and 11 Months', '15 Years and 0 Months',\n",
       "       '15 Years and 1 Months', '15 Years and 2 Months',\n",
       "       '21 Years and 4 Months', '21 Years and 5 Months',\n",
       "       '21 Years and 6 Months', '21 Years and 7 Months',\n",
       "       '21 Years and 8 Months', '21 Years and 9 Months',\n",
       "       '21 Years and 10 Months', '21 Years and 11 Months',\n",
       "       '26 Years and 6 Months', '19 Years and 2 Months',\n",
       "       '19 Years and 3 Months', '19 Years and 4 Months',\n",
       "       '19 Years and 5 Months', '19 Years and 6 Months',\n",
       "       '19 Years and 7 Months', '19 Years and 8 Months',\n",
       "       '25 Years and 5 Months', '25 Years and 6 Months',\n",
       "       '25 Years and 7 Months', '25 Years and 8 Months',\n",
       "       '25 Years and 9 Months', '25 Years and 10 Months',\n",
       "       '25 Years and 11 Months', '26 Years and 0 Months',\n",
       "       '27 Years and 3 Months', '27 Years and 4 Months',\n",
       "       '27 Years and 5 Months', '8 Years and 11 Months',\n",
       "       '9 Years and 0 Months', '9 Years and 1 Months',\n",
       "       '9 Years and 2 Months', '9 Years and 3 Months',\n",
       "       '9 Years and 4 Months', '9 Years and 6 Months',\n",
       "       '18 Years and 5 Months', '18 Years and 6 Months',\n",
       "       '18 Years and 8 Months', '18 Years and 9 Months',\n",
       "       '16 Years and 10 Months', '16 Years and 11 Months',\n",
       "       '17 Years and 0 Months', '17 Years and 1 Months',\n",
       "       '17 Years and 2 Months', '29 Years and 2 Months',\n",
       "       '29 Years and 3 Months', '29 Years and 4 Months',\n",
       "       '29 Years and 6 Months', '29 Years and 8 Months',\n",
       "       '29 Years and 9 Months', '6 Years and 5 Months',\n",
       "       '6 Years and 6 Months', '6 Years and 7 Months',\n",
       "       '6 Years and 8 Months', '6 Years and 9 Months',\n",
       "       '6 Years and 10 Months', '6 Years and 11 Months',\n",
       "       '7 Years and 0 Months', '27 Years and 6 Months',\n",
       "       '27 Years and 7 Months', '27 Years and 8 Months',\n",
       "       '27 Years and 9 Months', '18 Years and 7 Months',\n",
       "       '19 Years and 9 Months', '19 Years and 10 Months',\n",
       "       '10 Years and 1 Months', '10 Years and 2 Months',\n",
       "       '10 Years and 3 Months', '10 Years and 4 Months',\n",
       "       '10 Years and 5 Months', '10 Years and 6 Months',\n",
       "       '10 Years and 7 Months', '10 Years and 8 Months',\n",
       "       '32 Years and 9 Months', '32 Years and 10 Months',\n",
       "       '32 Years and 11 Months', '33 Years and 0 Months',\n",
       "       '33 Years and 1 Months', '33 Years and 4 Months',\n",
       "       '12 Years and 3 Months', '12 Years and 4 Months',\n",
       "       '12 Years and 5 Months', '12 Years and 6 Months',\n",
       "       '12 Years and 7 Months', '12 Years and 8 Months',\n",
       "       '12 Years and 10 Months', '12 Years and 9 Months',\n",
       "       '13 Years and 8 Months', '13 Years and 11 Months',\n",
       "       '14 Years and 0 Months', '14 Years and 1 Months',\n",
       "       '14 Years and 2 Months', '14 Years and 3 Months',\n",
       "       '30 Years and 3 Months', '30 Years and 4 Months',\n",
       "       '30 Years and 5 Months', '30 Years and 6 Months',\n",
       "       '8 Years and 9 Months', '8 Years and 10 Months',\n",
       "       '18 Years and 10 Months', '18 Years and 11 Months',\n",
       "       '19 Years and 0 Months', '19 Years and 1 Months',\n",
       "       '8 Years and 8 Months', '13 Years and 1 Months',\n",
       "       '13 Years and 2 Months', '13 Years and 3 Months',\n",
       "       '13 Years and 5 Months', '13 Years and 6 Months',\n",
       "       '13 Years and 7 Months', '22 Years and 0 Months',\n",
       "       '26 Years and 1 Months', '26 Years and 2 Months',\n",
       "       '13 Years and 4 Months', '13 Years and 9 Months',\n",
       "       '27 Years and 11 Months', '28 Years and 0 Months',\n",
       "       '28 Years and 1 Months', '28 Years and 2 Months',\n",
       "       '28 Years and 3 Months', '28 Years and 4 Months',\n",
       "       '28 Years and 5 Months', '28 Years and 6 Months',\n",
       "       '7 Years and 10 Months', '7 Years and 11 Months',\n",
       "       '8 Years and 0 Months', '8 Years and 1 Months',\n",
       "       '8 Years and 2 Months', '8 Years and 3 Months',\n",
       "       '8 Years and 4 Months', '8 Years and 5 Months',\n",
       "       '24 Years and 3 Months', '24 Years and 4 Months',\n",
       "       '24 Years and 5 Months', '24 Years and 6 Months',\n",
       "       '24 Years and 7 Months', '24 Years and 8 Months',\n",
       "       '24 Years and 9 Months', '1 Years and 2 Months',\n",
       "       '1 Years and 3 Months', '1 Years and 4 Months',\n",
       "       '1 Years and 5 Months', '1 Years and 6 Months',\n",
       "       '1 Years and 7 Months', '1 Years and 8 Months',\n",
       "       '10 Years and 11 Months', '11 Years and 0 Months',\n",
       "       '11 Years and 1 Months', '11 Years and 2 Months',\n",
       "       '11 Years and 3 Months', '11 Years and 4 Months',\n",
       "       '11 Years and 5 Months', '11 Years and 6 Months',\n",
       "       '19 Years and 11 Months', '20 Years and 0 Months',\n",
       "       '20 Years and 1 Months', '10 Years and 9 Months',\n",
       "       '10 Years and 10 Months', '14 Years and 4 Months',\n",
       "       '14 Years and 5 Months', '14 Years and 6 Months',\n",
       "       '20 Years and 8 Months', '20 Years and 9 Months',\n",
       "       '20 Years and 10 Months', '20 Years and 11 Months',\n",
       "       '21 Years and 0 Months', '21 Years and 1 Months',\n",
       "       '21 Years and 2 Months', '21 Years and 3 Months',\n",
       "       '0 Years and 4 Months', '0 Years and 5 Months',\n",
       "       '0 Years and 6 Months', '0 Years and 8 Months',\n",
       "       '0 Years and 9 Months', '0 Years and 10 Months',\n",
       "       '31 Years and 7 Months', '31 Years and 8 Months',\n",
       "       '31 Years and 9 Months', '31 Years and 10 Months',\n",
       "       '31 Years and 11 Months', '32 Years and 1 Months',\n",
       "       '12 Years and 11 Months', '13 Years and 0 Months',\n",
       "       '27 Years and 10 Months', '11 Years and 7 Months',\n",
       "       '11 Years and 8 Months', '11 Years and 9 Months',\n",
       "       '11 Years and 10 Months', '24 Years and 10 Months',\n",
       "       '24 Years and 11 Months', '25 Years and 0 Months',\n",
       "       '25 Years and 1 Months', '25 Years and 2 Months',\n",
       "       '25 Years and 3 Months', '18 Years and 0 Months',\n",
       "       '31 Years and 4 Months', '31 Years and 5 Months',\n",
       "       '31 Years and 6 Months', '5 Years and 2 Months',\n",
       "       '5 Years and 3 Months', '5 Years and 4 Months',\n",
       "       '5 Years and 5 Months', '5 Years and 6 Months',\n",
       "       '5 Years and 7 Months', '5 Years and 8 Months',\n",
       "       '5 Years and 9 Months', '2 Years and 11 Months',\n",
       "       '3 Years and 0 Months', '3 Years and 1 Months',\n",
       "       '3 Years and 2 Months', '3 Years and 3 Months',\n",
       "       '3 Years and 4 Months', '3 Years and 5 Months',\n",
       "       '3 Years and 6 Months', '16 Years and 4 Months',\n",
       "       '16 Years and 5 Months', '16 Years and 6 Months',\n",
       "       '16 Years and 7 Months', '16 Years and 8 Months',\n",
       "       '16 Years and 9 Months', '22 Years and 11 Months',\n",
       "       '23 Years and 0 Months', '23 Years and 2 Months',\n",
       "       '23 Years and 3 Months', '23 Years and 4 Months',\n",
       "       '23 Years and 5 Months', '23 Years and 6 Months',\n",
       "       '8 Years and 6 Months', '8 Years and 7 Months',\n",
       "       '4 Years and 5 Months', '4 Years and 6 Months',\n",
       "       '4 Years and 7 Months', '4 Years and 8 Months',\n",
       "       '4 Years and 9 Months', '4 Years and 10 Months',\n",
       "       '4 Years and 11 Months', '5 Years and 0 Months',\n",
       "       '32 Years and 8 Months', '33 Years and 2 Months',\n",
       "       '33 Years and 3 Months', '12 Years and 2 Months',\n",
       "       '32 Years and 4 Months', '29 Years and 11 Months',\n",
       "       '30 Years and 0 Months', '30 Years and 2 Months',\n",
       "       '26 Years and 3 Months', '26 Years and 4 Months',\n",
       "       '26 Years and 5 Months', '7 Years and 6 Months',\n",
       "       '7 Years and 7 Months', '7 Years and 8 Months',\n",
       "       '7 Years and 9 Months', '28 Years and 7 Months',\n",
       "       '28 Years and 8 Months', '28 Years and 9 Months',\n",
       "       '28 Years and 10 Months', '29 Years and 5 Months',\n",
       "       '29 Years and 7 Months', '20 Years and 2 Months',\n",
       "       '20 Years and 3 Months', '20 Years and 4 Months',\n",
       "       '20 Years and 5 Months', '20 Years and 6 Months',\n",
       "       '20 Years and 7 Months', '28 Years and 11 Months',\n",
       "       '29 Years and 0 Months', '13 Years and 10 Months',\n",
       "       '1 Years and 9 Months', '1 Years and 10 Months',\n",
       "       '1 Years and 11 Months', '33 Years and 5 Months',\n",
       "       '33 Years and 6 Months', '33 Years and 7 Months',\n",
       "       '33 Years and 8 Months', '29 Years and 1 Months',\n",
       "       '5 Years and 1 Months', '5 Years and 10 Months',\n",
       "       '5 Years and 11 Months', '6 Years and 0 Months',\n",
       "       '6 Years and 1 Months', '6 Years and 2 Months',\n",
       "       '6 Years and 3 Months', '22 Years and 9 Months',\n",
       "       '22 Years and 10 Months', '23 Years and 1 Months',\n",
       "       '22 Years and 2 Months', '15 Years and 4 Months',\n",
       "       '15 Years and 5 Months', '15 Years and 6 Months',\n",
       "       '15 Years and 7 Months', '15 Years and 8 Months',\n",
       "       '15 Years and 9 Months', '15 Years and 10 Months',\n",
       "       '15 Years and 11 Months', '2 Years and 3 Months',\n",
       "       '2 Years and 4 Months', '2 Years and 5 Months',\n",
       "       '2 Years and 6 Months', '2 Years and 7 Months',\n",
       "       '2 Years and 8 Months', '2 Years and 9 Months',\n",
       "       '2 Years and 10 Months', '2 Years and 0 Months',\n",
       "       '16 Years and 2 Months', '16 Years and 3 Months',\n",
       "       '22 Years and 8 Months', '9 Years and 5 Months',\n",
       "       '9 Years and 7 Months', '9 Years and 8 Months',\n",
       "       '9 Years and 9 Months', '11 Years and 11 Months',\n",
       "       '12 Years and 0 Months', '12 Years and 1 Months',\n",
       "       '24 Years and 2 Months', '16 Years and 0 Months',\n",
       "       '16 Years and 1 Months', '14 Years and 7 Months',\n",
       "       '25 Years and 4 Months', '15 Years and 3 Months',\n",
       "       '7 Years and 1 Months', '7 Years and 2 Months',\n",
       "       '7 Years and 3 Months', '7 Years and 4 Months',\n",
       "       '7 Years and 5 Months', '23 Years and 7 Months',\n",
       "       '23 Years and 8 Months', '23 Years and 9 Months',\n",
       "       '30 Years and 1 Months', '29 Years and 10 Months',\n",
       "       '9 Years and 10 Months', '9 Years and 11 Months',\n",
       "       '10 Years and 0 Months', '2 Years and 2 Months',\n",
       "       '23 Years and 10 Months', '23 Years and 11 Months',\n",
       "       '24 Years and 0 Months', '24 Years and 1 Months',\n",
       "       '6 Years and 4 Months', '0 Years and 1 Months',\n",
       "       '0 Years and 2 Months', '0 Years and 3 Months',\n",
       "       '0 Years and 7 Months', '3 Years and 8 Months',\n",
       "       '32 Years and 7 Months', '3 Years and 7 Months',\n",
       "       '3 Years and 9 Months', '3 Years and 10 Months',\n",
       "       '0 Years and 11 Months', '1 Years and 0 Months',\n",
       "       '1 Years and 1 Months', '4 Years and 4 Months',\n",
       "       '3 Years and 11 Months', '4 Years and 0 Months',\n",
       "       '4 Years and 1 Months', '4 Years and 2 Months',\n",
       "       '4 Years and 3 Months', '2 Years and 1 Months'], dtype=object)"
      ]
     },
     "execution_count": 80,
     "metadata": {},
     "output_type": "execute_result"
    }
   ],
   "source": [
    "df_train['Credit_History_Age'].unique()"
   ]
  },
  {
   "cell_type": "markdown",
   "metadata": {},
   "source": [
    "Not the easiest to work with...Should we just extract the year? How do we fill in missing values? \n",
    "As each string is \"x Years and y Months\" we can do some string manipulation to obtain this value. Let's keep the information as a single column and let's put this in terms of the number of months we have history for."
   ]
  },
  {
   "cell_type": "code",
   "execution_count": 81,
   "metadata": {},
   "outputs": [
    {
     "data": {
      "text/html": [
       "<div>\n",
       "<style scoped>\n",
       "    .dataframe tbody tr th:only-of-type {\n",
       "        vertical-align: middle;\n",
       "    }\n",
       "\n",
       "    .dataframe tbody tr th {\n",
       "        vertical-align: top;\n",
       "    }\n",
       "\n",
       "    .dataframe thead th {\n",
       "        text-align: right;\n",
       "    }\n",
       "</style>\n",
       "<table border=\"1\" class=\"dataframe\">\n",
       "  <thead>\n",
       "    <tr style=\"text-align: right;\">\n",
       "      <th></th>\n",
       "      <th>Customer_ID</th>\n",
       "      <th>Month</th>\n",
       "      <th>Credit_History_Age</th>\n",
       "    </tr>\n",
       "  </thead>\n",
       "  <tbody>\n",
       "    <tr>\n",
       "      <th>288</th>\n",
       "      <td>CUS_0x4080</td>\n",
       "      <td>1</td>\n",
       "      <td>NaN</td>\n",
       "    </tr>\n",
       "    <tr>\n",
       "      <th>289</th>\n",
       "      <td>CUS_0x4080</td>\n",
       "      <td>2</td>\n",
       "      <td>13 Years and 3 Months</td>\n",
       "    </tr>\n",
       "    <tr>\n",
       "      <th>290</th>\n",
       "      <td>CUS_0x4080</td>\n",
       "      <td>3</td>\n",
       "      <td>13 Years and 4 Months</td>\n",
       "    </tr>\n",
       "    <tr>\n",
       "      <th>291</th>\n",
       "      <td>CUS_0x4080</td>\n",
       "      <td>4</td>\n",
       "      <td>13 Years and 5 Months</td>\n",
       "    </tr>\n",
       "    <tr>\n",
       "      <th>292</th>\n",
       "      <td>CUS_0x4080</td>\n",
       "      <td>5</td>\n",
       "      <td>13 Years and 6 Months</td>\n",
       "    </tr>\n",
       "    <tr>\n",
       "      <th>293</th>\n",
       "      <td>CUS_0x4080</td>\n",
       "      <td>6</td>\n",
       "      <td>13 Years and 7 Months</td>\n",
       "    </tr>\n",
       "    <tr>\n",
       "      <th>294</th>\n",
       "      <td>CUS_0x4080</td>\n",
       "      <td>7</td>\n",
       "      <td>13 Years and 8 Months</td>\n",
       "    </tr>\n",
       "    <tr>\n",
       "      <th>295</th>\n",
       "      <td>CUS_0x4080</td>\n",
       "      <td>8</td>\n",
       "      <td>13 Years and 9 Months</td>\n",
       "    </tr>\n",
       "  </tbody>\n",
       "</table>\n",
       "</div>"
      ],
      "text/plain": [
       "    Customer_ID  Month     Credit_History_Age\n",
       "288  CUS_0x4080      1                    NaN\n",
       "289  CUS_0x4080      2  13 Years and 3 Months\n",
       "290  CUS_0x4080      3  13 Years and 4 Months\n",
       "291  CUS_0x4080      4  13 Years and 5 Months\n",
       "292  CUS_0x4080      5  13 Years and 6 Months\n",
       "293  CUS_0x4080      6  13 Years and 7 Months\n",
       "294  CUS_0x4080      7  13 Years and 8 Months\n",
       "295  CUS_0x4080      8  13 Years and 9 Months"
      ]
     },
     "execution_count": 81,
     "metadata": {},
     "output_type": "execute_result"
    }
   ],
   "source": [
    "df_train[df_train['Customer_ID'] == \"CUS_0x4080\"][['Customer_ID', 'Month','Credit_History_Age']]"
   ]
  },
  {
   "cell_type": "code",
   "execution_count": 82,
   "metadata": {},
   "outputs": [],
   "source": [
    "df_train['Credit_History_Age'] = df_train['Credit_History_Age'].apply(lambda s : 12*float(s.split()[0]) + float(s.split()[3]) if s is not np.nan else np.nan)\n",
    "df_test['Credit_History_Age'] = df_test['Credit_History_Age'].apply(lambda s : 12*float(s.split()[0]) + float(s.split()[3]) if s is not np.nan else np.nan)"
   ]
  },
  {
   "cell_type": "code",
   "execution_count": 83,
   "metadata": {},
   "outputs": [
    {
     "data": {
      "text/html": [
       "<div>\n",
       "<style scoped>\n",
       "    .dataframe tbody tr th:only-of-type {\n",
       "        vertical-align: middle;\n",
       "    }\n",
       "\n",
       "    .dataframe tbody tr th {\n",
       "        vertical-align: top;\n",
       "    }\n",
       "\n",
       "    .dataframe thead th {\n",
       "        text-align: right;\n",
       "    }\n",
       "</style>\n",
       "<table border=\"1\" class=\"dataframe\">\n",
       "  <thead>\n",
       "    <tr style=\"text-align: right;\">\n",
       "      <th></th>\n",
       "      <th>Customer_ID</th>\n",
       "      <th>Month</th>\n",
       "      <th>Credit_History_Age</th>\n",
       "    </tr>\n",
       "  </thead>\n",
       "  <tbody>\n",
       "    <tr>\n",
       "      <th>288</th>\n",
       "      <td>CUS_0x4080</td>\n",
       "      <td>1</td>\n",
       "      <td>NaN</td>\n",
       "    </tr>\n",
       "    <tr>\n",
       "      <th>289</th>\n",
       "      <td>CUS_0x4080</td>\n",
       "      <td>2</td>\n",
       "      <td>159.0</td>\n",
       "    </tr>\n",
       "    <tr>\n",
       "      <th>290</th>\n",
       "      <td>CUS_0x4080</td>\n",
       "      <td>3</td>\n",
       "      <td>160.0</td>\n",
       "    </tr>\n",
       "    <tr>\n",
       "      <th>291</th>\n",
       "      <td>CUS_0x4080</td>\n",
       "      <td>4</td>\n",
       "      <td>161.0</td>\n",
       "    </tr>\n",
       "    <tr>\n",
       "      <th>292</th>\n",
       "      <td>CUS_0x4080</td>\n",
       "      <td>5</td>\n",
       "      <td>162.0</td>\n",
       "    </tr>\n",
       "    <tr>\n",
       "      <th>293</th>\n",
       "      <td>CUS_0x4080</td>\n",
       "      <td>6</td>\n",
       "      <td>163.0</td>\n",
       "    </tr>\n",
       "    <tr>\n",
       "      <th>294</th>\n",
       "      <td>CUS_0x4080</td>\n",
       "      <td>7</td>\n",
       "      <td>164.0</td>\n",
       "    </tr>\n",
       "    <tr>\n",
       "      <th>295</th>\n",
       "      <td>CUS_0x4080</td>\n",
       "      <td>8</td>\n",
       "      <td>165.0</td>\n",
       "    </tr>\n",
       "  </tbody>\n",
       "</table>\n",
       "</div>"
      ],
      "text/plain": [
       "    Customer_ID  Month  Credit_History_Age\n",
       "288  CUS_0x4080      1                 NaN\n",
       "289  CUS_0x4080      2               159.0\n",
       "290  CUS_0x4080      3               160.0\n",
       "291  CUS_0x4080      4               161.0\n",
       "292  CUS_0x4080      5               162.0\n",
       "293  CUS_0x4080      6               163.0\n",
       "294  CUS_0x4080      7               164.0\n",
       "295  CUS_0x4080      8               165.0"
      ]
     },
     "metadata": {},
     "output_type": "display_data"
    },
    {
     "data": {
      "text/html": [
       "<div>\n",
       "<style scoped>\n",
       "    .dataframe tbody tr th:only-of-type {\n",
       "        vertical-align: middle;\n",
       "    }\n",
       "\n",
       "    .dataframe tbody tr th {\n",
       "        vertical-align: top;\n",
       "    }\n",
       "\n",
       "    .dataframe thead th {\n",
       "        text-align: right;\n",
       "    }\n",
       "</style>\n",
       "<table border=\"1\" class=\"dataframe\">\n",
       "  <thead>\n",
       "    <tr style=\"text-align: right;\">\n",
       "      <th></th>\n",
       "      <th>Customer_ID</th>\n",
       "      <th>Month</th>\n",
       "      <th>Credit_History_Age</th>\n",
       "    </tr>\n",
       "  </thead>\n",
       "  <tbody>\n",
       "    <tr>\n",
       "      <th>0</th>\n",
       "      <td>CUS_0xd40</td>\n",
       "      <td>1</td>\n",
       "      <td>265.0</td>\n",
       "    </tr>\n",
       "    <tr>\n",
       "      <th>1</th>\n",
       "      <td>CUS_0xd40</td>\n",
       "      <td>2</td>\n",
       "      <td>NaN</td>\n",
       "    </tr>\n",
       "    <tr>\n",
       "      <th>2</th>\n",
       "      <td>CUS_0xd40</td>\n",
       "      <td>3</td>\n",
       "      <td>267.0</td>\n",
       "    </tr>\n",
       "    <tr>\n",
       "      <th>3</th>\n",
       "      <td>CUS_0xd40</td>\n",
       "      <td>4</td>\n",
       "      <td>268.0</td>\n",
       "    </tr>\n",
       "    <tr>\n",
       "      <th>4</th>\n",
       "      <td>CUS_0xd40</td>\n",
       "      <td>5</td>\n",
       "      <td>269.0</td>\n",
       "    </tr>\n",
       "    <tr>\n",
       "      <th>5</th>\n",
       "      <td>CUS_0xd40</td>\n",
       "      <td>6</td>\n",
       "      <td>270.0</td>\n",
       "    </tr>\n",
       "    <tr>\n",
       "      <th>6</th>\n",
       "      <td>CUS_0xd40</td>\n",
       "      <td>7</td>\n",
       "      <td>271.0</td>\n",
       "    </tr>\n",
       "    <tr>\n",
       "      <th>7</th>\n",
       "      <td>CUS_0xd40</td>\n",
       "      <td>8</td>\n",
       "      <td>NaN</td>\n",
       "    </tr>\n",
       "  </tbody>\n",
       "</table>\n",
       "</div>"
      ],
      "text/plain": [
       "  Customer_ID  Month  Credit_History_Age\n",
       "0   CUS_0xd40      1               265.0\n",
       "1   CUS_0xd40      2                 NaN\n",
       "2   CUS_0xd40      3               267.0\n",
       "3   CUS_0xd40      4               268.0\n",
       "4   CUS_0xd40      5               269.0\n",
       "5   CUS_0xd40      6               270.0\n",
       "6   CUS_0xd40      7               271.0\n",
       "7   CUS_0xd40      8                 NaN"
      ]
     },
     "metadata": {},
     "output_type": "display_data"
    }
   ],
   "source": [
    "display(df_train[df_train['Customer_ID'] == \"CUS_0x4080\"][['Customer_ID', 'Month','Credit_History_Age']])\n",
    "display(df_train[df_train['Customer_ID'] == \"CUS_0xd40\"][['Customer_ID', 'Month', 'Credit_History_Age']])"
   ]
  },
  {
   "cell_type": "markdown",
   "metadata": {},
   "source": [
    "Can use ffill() to forward fill each customers credit_history_age but need to be careful in case the first value is missing. In this case we take the second element in the array and subtract 1 from this."
   ]
  },
  {
   "cell_type": "code",
   "execution_count": 84,
   "metadata": {},
   "outputs": [],
   "source": [
    "def fill_missing_credit_history_age(series):\n",
    "    filled_forward = series.ffill() + series.groupby(series.notna().cumsum()).cumcount()\n",
    "    filled_backward = filled_forward.bfill() - filled_forward.isna().astype(int)\n",
    "    return filled_backward\n",
    "\n",
    "df_train['Credit_History_Age'] = df_train.groupby('Customer_ID')['Credit_History_Age'].transform(fill_missing_credit_history_age)\n",
    "df_test['Credit_History_Age'] = df_test.groupby('Customer_ID')['Credit_History_Age'].transform(fill_missing_credit_history_age)"
   ]
  },
  {
   "cell_type": "code",
   "execution_count": 85,
   "metadata": {},
   "outputs": [
    {
     "data": {
      "text/html": [
       "<div>\n",
       "<style scoped>\n",
       "    .dataframe tbody tr th:only-of-type {\n",
       "        vertical-align: middle;\n",
       "    }\n",
       "\n",
       "    .dataframe tbody tr th {\n",
       "        vertical-align: top;\n",
       "    }\n",
       "\n",
       "    .dataframe thead th {\n",
       "        text-align: right;\n",
       "    }\n",
       "</style>\n",
       "<table border=\"1\" class=\"dataframe\">\n",
       "  <thead>\n",
       "    <tr style=\"text-align: right;\">\n",
       "      <th></th>\n",
       "      <th>Customer_ID</th>\n",
       "      <th>Month</th>\n",
       "      <th>Credit_History_Age</th>\n",
       "    </tr>\n",
       "  </thead>\n",
       "  <tbody>\n",
       "    <tr>\n",
       "      <th>288</th>\n",
       "      <td>CUS_0x4080</td>\n",
       "      <td>1</td>\n",
       "      <td>158.0</td>\n",
       "    </tr>\n",
       "    <tr>\n",
       "      <th>289</th>\n",
       "      <td>CUS_0x4080</td>\n",
       "      <td>2</td>\n",
       "      <td>159.0</td>\n",
       "    </tr>\n",
       "    <tr>\n",
       "      <th>290</th>\n",
       "      <td>CUS_0x4080</td>\n",
       "      <td>3</td>\n",
       "      <td>160.0</td>\n",
       "    </tr>\n",
       "    <tr>\n",
       "      <th>291</th>\n",
       "      <td>CUS_0x4080</td>\n",
       "      <td>4</td>\n",
       "      <td>161.0</td>\n",
       "    </tr>\n",
       "    <tr>\n",
       "      <th>292</th>\n",
       "      <td>CUS_0x4080</td>\n",
       "      <td>5</td>\n",
       "      <td>162.0</td>\n",
       "    </tr>\n",
       "    <tr>\n",
       "      <th>293</th>\n",
       "      <td>CUS_0x4080</td>\n",
       "      <td>6</td>\n",
       "      <td>163.0</td>\n",
       "    </tr>\n",
       "    <tr>\n",
       "      <th>294</th>\n",
       "      <td>CUS_0x4080</td>\n",
       "      <td>7</td>\n",
       "      <td>164.0</td>\n",
       "    </tr>\n",
       "    <tr>\n",
       "      <th>295</th>\n",
       "      <td>CUS_0x4080</td>\n",
       "      <td>8</td>\n",
       "      <td>165.0</td>\n",
       "    </tr>\n",
       "  </tbody>\n",
       "</table>\n",
       "</div>"
      ],
      "text/plain": [
       "    Customer_ID  Month  Credit_History_Age\n",
       "288  CUS_0x4080      1               158.0\n",
       "289  CUS_0x4080      2               159.0\n",
       "290  CUS_0x4080      3               160.0\n",
       "291  CUS_0x4080      4               161.0\n",
       "292  CUS_0x4080      5               162.0\n",
       "293  CUS_0x4080      6               163.0\n",
       "294  CUS_0x4080      7               164.0\n",
       "295  CUS_0x4080      8               165.0"
      ]
     },
     "metadata": {},
     "output_type": "display_data"
    },
    {
     "data": {
      "text/html": [
       "<div>\n",
       "<style scoped>\n",
       "    .dataframe tbody tr th:only-of-type {\n",
       "        vertical-align: middle;\n",
       "    }\n",
       "\n",
       "    .dataframe tbody tr th {\n",
       "        vertical-align: top;\n",
       "    }\n",
       "\n",
       "    .dataframe thead th {\n",
       "        text-align: right;\n",
       "    }\n",
       "</style>\n",
       "<table border=\"1\" class=\"dataframe\">\n",
       "  <thead>\n",
       "    <tr style=\"text-align: right;\">\n",
       "      <th></th>\n",
       "      <th>Customer_ID</th>\n",
       "      <th>Month</th>\n",
       "      <th>Credit_History_Age</th>\n",
       "    </tr>\n",
       "  </thead>\n",
       "  <tbody>\n",
       "    <tr>\n",
       "      <th>0</th>\n",
       "      <td>CUS_0xd40</td>\n",
       "      <td>1</td>\n",
       "      <td>265.0</td>\n",
       "    </tr>\n",
       "    <tr>\n",
       "      <th>1</th>\n",
       "      <td>CUS_0xd40</td>\n",
       "      <td>2</td>\n",
       "      <td>266.0</td>\n",
       "    </tr>\n",
       "    <tr>\n",
       "      <th>2</th>\n",
       "      <td>CUS_0xd40</td>\n",
       "      <td>3</td>\n",
       "      <td>267.0</td>\n",
       "    </tr>\n",
       "    <tr>\n",
       "      <th>3</th>\n",
       "      <td>CUS_0xd40</td>\n",
       "      <td>4</td>\n",
       "      <td>268.0</td>\n",
       "    </tr>\n",
       "    <tr>\n",
       "      <th>4</th>\n",
       "      <td>CUS_0xd40</td>\n",
       "      <td>5</td>\n",
       "      <td>269.0</td>\n",
       "    </tr>\n",
       "    <tr>\n",
       "      <th>5</th>\n",
       "      <td>CUS_0xd40</td>\n",
       "      <td>6</td>\n",
       "      <td>270.0</td>\n",
       "    </tr>\n",
       "    <tr>\n",
       "      <th>6</th>\n",
       "      <td>CUS_0xd40</td>\n",
       "      <td>7</td>\n",
       "      <td>271.0</td>\n",
       "    </tr>\n",
       "    <tr>\n",
       "      <th>7</th>\n",
       "      <td>CUS_0xd40</td>\n",
       "      <td>8</td>\n",
       "      <td>272.0</td>\n",
       "    </tr>\n",
       "  </tbody>\n",
       "</table>\n",
       "</div>"
      ],
      "text/plain": [
       "  Customer_ID  Month  Credit_History_Age\n",
       "0   CUS_0xd40      1               265.0\n",
       "1   CUS_0xd40      2               266.0\n",
       "2   CUS_0xd40      3               267.0\n",
       "3   CUS_0xd40      4               268.0\n",
       "4   CUS_0xd40      5               269.0\n",
       "5   CUS_0xd40      6               270.0\n",
       "6   CUS_0xd40      7               271.0\n",
       "7   CUS_0xd40      8               272.0"
      ]
     },
     "metadata": {},
     "output_type": "display_data"
    }
   ],
   "source": [
    "display(df_train[df_train['Customer_ID'] == \"CUS_0x4080\"][['Customer_ID', 'Month','Credit_History_Age']])\n",
    "display(df_train[df_train['Customer_ID'] == \"CUS_0xd40\"][['Customer_ID', 'Month', 'Credit_History_Age']])"
   ]
  },
  {
   "cell_type": "markdown",
   "metadata": {},
   "source": [
    "Yes this works! Let's check to see if we still have any missing values."
   ]
  },
  {
   "cell_type": "code",
   "execution_count": 86,
   "metadata": {},
   "outputs": [
    {
     "data": {
      "text/plain": [
       "0"
      ]
     },
     "execution_count": 86,
     "metadata": {},
     "output_type": "execute_result"
    }
   ],
   "source": [
    "df_train['Credit_History_Age'].isnull().sum()"
   ]
  },
  {
   "cell_type": "code",
   "execution_count": 87,
   "metadata": {},
   "outputs": [
    {
     "data": {
      "text/plain": [
       "Series([], Name: Customer_ID, dtype: int64)"
      ]
     },
     "execution_count": 87,
     "metadata": {},
     "output_type": "execute_result"
    }
   ],
   "source": [
    "no_credit_history_age = df_train[df_train['Credit_History_Age'].isna()]\n",
    "no_credit_history_age['Customer_ID'].value_counts()\n"
   ]
  },
  {
   "cell_type": "code",
   "execution_count": 88,
   "metadata": {},
   "outputs": [
    {
     "data": {
      "text/html": [
       "<div>\n",
       "<style scoped>\n",
       "    .dataframe tbody tr th:only-of-type {\n",
       "        vertical-align: middle;\n",
       "    }\n",
       "\n",
       "    .dataframe tbody tr th {\n",
       "        vertical-align: top;\n",
       "    }\n",
       "\n",
       "    .dataframe thead th {\n",
       "        text-align: right;\n",
       "    }\n",
       "</style>\n",
       "<table border=\"1\" class=\"dataframe\">\n",
       "  <thead>\n",
       "    <tr style=\"text-align: right;\">\n",
       "      <th></th>\n",
       "      <th>Customer_ID</th>\n",
       "      <th>Month</th>\n",
       "      <th>Credit_History_Age</th>\n",
       "    </tr>\n",
       "  </thead>\n",
       "  <tbody>\n",
       "    <tr>\n",
       "      <th>54496</th>\n",
       "      <td>CUS_0xa123</td>\n",
       "      <td>1</td>\n",
       "      <td>276.0</td>\n",
       "    </tr>\n",
       "    <tr>\n",
       "      <th>54497</th>\n",
       "      <td>CUS_0xa123</td>\n",
       "      <td>2</td>\n",
       "      <td>276.0</td>\n",
       "    </tr>\n",
       "    <tr>\n",
       "      <th>54498</th>\n",
       "      <td>CUS_0xa123</td>\n",
       "      <td>3</td>\n",
       "      <td>276.0</td>\n",
       "    </tr>\n",
       "    <tr>\n",
       "      <th>54499</th>\n",
       "      <td>CUS_0xa123</td>\n",
       "      <td>4</td>\n",
       "      <td>276.0</td>\n",
       "    </tr>\n",
       "    <tr>\n",
       "      <th>54500</th>\n",
       "      <td>CUS_0xa123</td>\n",
       "      <td>5</td>\n",
       "      <td>277.0</td>\n",
       "    </tr>\n",
       "    <tr>\n",
       "      <th>54501</th>\n",
       "      <td>CUS_0xa123</td>\n",
       "      <td>6</td>\n",
       "      <td>278.0</td>\n",
       "    </tr>\n",
       "    <tr>\n",
       "      <th>54502</th>\n",
       "      <td>CUS_0xa123</td>\n",
       "      <td>7</td>\n",
       "      <td>279.0</td>\n",
       "    </tr>\n",
       "    <tr>\n",
       "      <th>54503</th>\n",
       "      <td>CUS_0xa123</td>\n",
       "      <td>8</td>\n",
       "      <td>280.0</td>\n",
       "    </tr>\n",
       "  </tbody>\n",
       "</table>\n",
       "</div>"
      ],
      "text/plain": [
       "      Customer_ID  Month  Credit_History_Age\n",
       "54496  CUS_0xa123      1               276.0\n",
       "54497  CUS_0xa123      2               276.0\n",
       "54498  CUS_0xa123      3               276.0\n",
       "54499  CUS_0xa123      4               276.0\n",
       "54500  CUS_0xa123      5               277.0\n",
       "54501  CUS_0xa123      6               278.0\n",
       "54502  CUS_0xa123      7               279.0\n",
       "54503  CUS_0xa123      8               280.0"
      ]
     },
     "execution_count": 88,
     "metadata": {},
     "output_type": "execute_result"
    }
   ],
   "source": [
    "df_train[df_train['Customer_ID'] == \"CUS_0xa123\"][['Customer_ID', 'Month', 'Credit_History_Age']]"
   ]
  },
  {
   "cell_type": "code",
   "execution_count": 149,
   "metadata": {},
   "outputs": [
    {
     "data": {
      "text/plain": [
       "0     NaN\n",
       "1     NaN\n",
       "2     NaN\n",
       "3    13.0\n",
       "4    14.0\n",
       "5    15.0\n",
       "6    16.0\n",
       "dtype: float64"
      ]
     },
     "metadata": {},
     "output_type": "display_data"
    },
    {
     "data": {
      "text/plain": [
       "0    13.0\n",
       "1    13.0\n",
       "2    13.0\n",
       "3    13.0\n",
       "4    14.0\n",
       "5    15.0\n",
       "6    16.0\n",
       "dtype: float64"
      ]
     },
     "metadata": {},
     "output_type": "display_data"
    },
    {
     "data": {
      "text/plain": [
       "0    12.0\n",
       "1    12.0\n",
       "2    12.0\n",
       "3    13.0\n",
       "4    14.0\n",
       "5    15.0\n",
       "6    16.0\n",
       "dtype: float64"
      ]
     },
     "execution_count": 149,
     "metadata": {},
     "output_type": "execute_result"
    }
   ],
   "source": [
    "# TODO: Trying to fix this function so it behaves as expected\n",
    "data = {'Customer_ID': [1, 1, 1, 1, 1, 1, 1],\n",
    "        'Credit_History_Age': [np.nan, np.nan, np.nan, 13, 14, np.nan, 16]}\n",
    "df = pd.DataFrame(data)\n",
    "series = df['Credit_History_Age']\n",
    "\n",
    "def fill_missing_credit_history_age(series):\n",
    "    filled_forward = series.ffill() + series.groupby(series.notna().cumsum()).cumcount()\n",
    "    filled_backward = filled_forward.bfill() - filled_forward.isna().astype(int)\n",
    "    display(filled_forward)\n",
    "    display(filled_forward.bfill())\n",
    "    return filled_backward\n",
    "\n",
    "fill_missing_credit_history_age(series)"
   ]
  },
  {
   "cell_type": "markdown",
   "metadata": {},
   "source": [
    "### Total_EMI_per_month\n",
    "Already floats and no missing data so is it reasonable?"
   ]
  },
  {
   "cell_type": "code",
   "execution_count": null,
   "metadata": {},
   "outputs": [],
   "source": [
    "df_train['Total_EMI_per_month'].describe()"
   ]
  },
  {
   "cell_type": "code",
   "execution_count": null,
   "metadata": {},
   "outputs": [],
   "source": [
    "fig = plt.figure()\n",
    "ax = fig.add_subplot()\n",
    "sns.histplot(x=df_train[\"Total_EMI_per_month\"], ax=ax)\n",
    "ax.set_xlim(0, 2000)\n",
    "plt.yscale(\"log\")"
   ]
  },
  {
   "cell_type": "code",
   "execution_count": null,
   "metadata": {},
   "outputs": [],
   "source": [
    "high_EMI = df_train[df_train['Total_EMI_per_month'] > 500]\n",
    "high_EMI['Customer_ID'].head()\n",
    "df_train[df_train['Customer_ID'] == \"CUS_0x95ee\"][['Customer_ID','Total_EMI_per_month']]"
   ]
  },
  {
   "cell_type": "markdown",
   "metadata": {},
   "source": [
    "\"An equated monthly installment (EMI) is a fixed payment amount made by a borrower to a lender at a specified date each calendar month\" - https://www.investopedia.com/terms/e/equated_monthly_installment.asp\n",
    "\n",
    "So I guess this means that if this value changes drastically then it is an outlier and should be removed. Let's try check out some values close to my arbitary cut-off at 500 and see if they are legitamate or not."
   ]
  },
  {
   "cell_type": "code",
   "execution_count": null,
   "metadata": {},
   "outputs": [],
   "source": [
    "EMI_subgroup = df_train.loc[(df_train['Total_EMI_per_month'] > 1000) & (df_train['Total_EMI_per_month'] < 1500)]\n",
    "EMI_subgroup['Customer_ID'].unique()"
   ]
  },
  {
   "cell_type": "code",
   "execution_count": null,
   "metadata": {},
   "outputs": [],
   "source": [
    "df_train[df_train['Customer_ID'] == \"CUS_0x3553\"][['Customer_ID','Total_EMI_per_month']]"
   ]
  },
  {
   "cell_type": "markdown",
   "metadata": {},
   "source": [
    "This person is legitamate and just started paying in April onwards."
   ]
  },
  {
   "cell_type": "code",
   "execution_count": null,
   "metadata": {},
   "outputs": [],
   "source": [
    "df_train[df_train['Customer_ID'] == \"CUS_0x9b3c\"][['Customer_ID','Total_EMI_per_month']]"
   ]
  },
  {
   "cell_type": "markdown",
   "metadata": {},
   "source": [
    "Another genuine one...Where is the threshold going to be?\n",
    "Just going to leave this one as not too sure on how to go about determining what is genuine and what is not."
   ]
  },
  {
   "cell_type": "markdown",
   "metadata": {},
   "source": [
    "### Amount_invested_monthly\n",
    "Object and missing values"
   ]
  },
  {
   "cell_type": "code",
   "execution_count": null,
   "metadata": {},
   "outputs": [],
   "source": [
    "df_train['Amount_invested_monthly'].unique()"
   ]
  },
  {
   "cell_type": "code",
   "execution_count": null,
   "metadata": {},
   "outputs": [],
   "source": [
    "df_train['Amount_invested_monthly'] = df_train['Amount_invested_monthly'].apply(lambda amount_invested: float(amount_invested.replace(\"_\", \"\")) if not isinstance(amount_invested, float) else amount_invested)\n",
    "df_test['Amount_invested_monthly'] = df_test['Amount_invested_monthly'].apply(lambda amount_invested: float(amount_invested.replace(\"_\", \"\")) if not isinstance(amount_invested, float) else amount_invested)"
   ]
  },
  {
   "cell_type": "code",
   "execution_count": null,
   "metadata": {},
   "outputs": [],
   "source": [
    "df_train['Amount_invested_monthly'].describe()"
   ]
  },
  {
   "cell_type": "code",
   "execution_count": null,
   "metadata": {},
   "outputs": [],
   "source": [
    "fig = plt.figure()\n",
    "ax = fig.add_subplot()\n",
    "sns.histplot(x=df_train[\"Amount_invested_monthly\"], ax=ax, bins=100)\n",
    "#ax.set_xlim(0, 2000)\n",
    "plt.yscale(\"log\")"
   ]
  },
  {
   "cell_type": "markdown",
   "metadata": {},
   "source": [
    "Do we think anything over 2000 is genuine? How many data points are above this value?"
   ]
  },
  {
   "cell_type": "code",
   "execution_count": null,
   "metadata": {},
   "outputs": [],
   "source": [
    "invested_subgroup = df_train.loc[(df_train['Amount_invested_monthly'] > 2000)]\n",
    "invested_subgroup['Customer_ID'].unique()"
   ]
  },
  {
   "cell_type": "code",
   "execution_count": null,
   "metadata": {},
   "outputs": [],
   "source": [
    "df_train[df_train['Customer_ID'] == \"CUS_0x2dbc\"][['Customer_ID','Amount_invested_monthly']]"
   ]
  },
  {
   "cell_type": "code",
   "execution_count": null,
   "metadata": {},
   "outputs": [],
   "source": [
    "invested_subgroup['Amount_invested_monthly'].value_counts()"
   ]
  },
  {
   "cell_type": "markdown",
   "metadata": {},
   "source": [
    "Honestly feel as though this is false data although could be genuine. I am personally going to clean this up and remove."
   ]
  },
  {
   "cell_type": "code",
   "execution_count": null,
   "metadata": {},
   "outputs": [],
   "source": [
    "# Remove outliers\n",
    "df_train['Amount_invested_monthly'] = df_train['Amount_invested_monthly'].apply(lambda invested: np.nan if invested > 2000 else invested)\n",
    "df_test['Amount_invested_monthly'] = df_test['Amount_invested_monthly'].apply(lambda invested: np.nan if invested > 2000 else invested)\n",
    "\n",
    "# Calculate mean without outliers\n",
    "customer_average_invested = df_train.groupby('Customer_ID')['Amount_invested_monthly'].mean()\n",
    "\n",
    "# Fill in missing data with customers mean number of delayed payments\n",
    "def fill_invested_monthly(customer_ID,invested):\n",
    "    return customer_average_invested[customer_ID] if np.isnan(invested) else invested\n",
    "df_train['Amount_invested_monthly'] = df_train.apply(lambda x: fill_invested_monthly(x['Customer_ID'], x['Amount_invested_monthly']), axis=1)\n",
    "df_test['Amount_invested_monthly'] = df_test.apply(lambda x: fill_invested_monthly(x['Customer_ID'], x['Amount_invested_monthly']), axis=1)"
   ]
  },
  {
   "cell_type": "markdown",
   "metadata": {},
   "source": [
    "### Monthly Balance\n",
    "Object and missing values"
   ]
  },
  {
   "cell_type": "code",
   "execution_count": null,
   "metadata": {},
   "outputs": [],
   "source": [
    "df_train['Monthly_Balance'].unique()"
   ]
  },
  {
   "cell_type": "code",
   "execution_count": null,
   "metadata": {},
   "outputs": [],
   "source": [
    "df_train['Monthly_Balance'] = df_train['Monthly_Balance'].apply(lambda amount_invested: float(amount_invested.replace(\"_\", \"\")) if not isinstance(amount_invested, float) else amount_invested)\n",
    "df_test['Monthly_Balance'] = df_test['Monthly_Balance'].apply(lambda amount_invested: float(amount_invested.replace(\"_\", \"\")) if not isinstance(amount_invested, float) else amount_invested)"
   ]
  },
  {
   "cell_type": "code",
   "execution_count": null,
   "metadata": {},
   "outputs": [],
   "source": [
    "df_train['Monthly_Balance'].describe()"
   ]
  },
  {
   "cell_type": "markdown",
   "metadata": {},
   "source": [
    "Large negative value is skewing these values, let's try plot?"
   ]
  },
  {
   "cell_type": "code",
   "execution_count": null,
   "metadata": {},
   "outputs": [],
   "source": [
    "balance_subgroup = df_train.loc[(df_train['Monthly_Balance'] > -2000)]\n",
    "\n",
    "fig = plt.figure()\n",
    "ax = fig.add_subplot()\n",
    "sns.histplot(x=balance_subgroup[\"Monthly_Balance\"], ax=ax)\n"
   ]
  },
  {
   "cell_type": "code",
   "execution_count": null,
   "metadata": {},
   "outputs": [],
   "source": [
    "balance_subgroup['Monthly_Balance'].describe()"
   ]
  },
  {
   "cell_type": "markdown",
   "metadata": {},
   "source": [
    "Okay realistically these are all positive and a reasonable max of $1602"
   ]
  },
  {
   "cell_type": "code",
   "execution_count": null,
   "metadata": {},
   "outputs": [],
   "source": [
    "# Remove outliers\n",
    "df_train['Monthly_Balance'] = df_train['Monthly_Balance'].apply(lambda balance: np.nan if balance < 0 else balance)\n",
    "df_test['Monthly_Balance'] = df_test['Monthly_Balance'].apply(lambda balance: np.nan if balance < 0 else balance)\n",
    "\n",
    "# Calculate mean without outliers\n",
    "customer_balance = df_train.groupby('Customer_ID')['Monthly_Balance'].mean()\n",
    "\n",
    "# Fill in missing data with customers mean number of delayed payments\n",
    "def fill_balance(customer_ID,balance):\n",
    "    return customer_balance[customer_ID] if np.isnan(balance) else balance\n",
    "df_train['Monthly_Balance'] = df_train.apply(lambda x: fill_balance(x['Customer_ID'], x['Monthly_Balance']), axis=1)\n",
    "df_test['Monthly_Balance'] = df_test.apply(lambda x: fill_balance(x['Customer_ID'], x['Monthly_Balance']), axis=1)"
   ]
  },
  {
   "cell_type": "markdown",
   "metadata": {},
   "source": [
    "## Categorical Columns"
   ]
  },
  {
   "cell_type": "markdown",
   "metadata": {},
   "source": [
    "- Occupation\n",
    "- Type_of_Loan\n",
    "- Credit_Mix\n",
    "- Payment_of_Min_Amount\n",
    "- Payment_Behaviour\n",
    "- Credit_Score"
   ]
  },
  {
   "cell_type": "markdown",
   "metadata": {},
   "source": [
    "### Occupation\n",
    "How many occupations are there? Can we convert these to a dummy variable?"
   ]
  },
  {
   "cell_type": "code",
   "execution_count": null,
   "metadata": {},
   "outputs": [],
   "source": [
    "df_train['Occupation'].unique()"
   ]
  },
  {
   "cell_type": "markdown",
   "metadata": {},
   "source": [
    "Yes we can convert to a dummy variable as there are not too many here but let's correct \"_______\" to first.\n",
    "\n",
    "Originally just replaced \"_______\" with \"Other\" but later realised that the underscores were just missing information on a customer and we could extract this information and correct it properly instead. Whilst we later drop this column as it does not really effect credit score, I want to fix this as it is a bit of a challenge for me to solve."
   ]
  },
  {
   "cell_type": "code",
   "execution_count": null,
   "metadata": {},
   "outputs": [],
   "source": [
    "occupation_subgroup = df_train.loc[(df_train['Occupation'] == '_______')]\n",
    "customers_incorrect_occupation = occupation_subgroup['Customer_ID'].unique()\n",
    "customers_incorrect_occupation"
   ]
  },
  {
   "cell_type": "code",
   "execution_count": null,
   "metadata": {},
   "outputs": [],
   "source": [
    "df_train[df_train['Customer_ID'] == \"CUS_0x21b1\"][['Customer_ID','Occupation']]"
   ]
  },
  {
   "cell_type": "markdown",
   "metadata": {},
   "source": [
    "Need to then correct this person as a Teacher...\n",
    "\n",
    "So this took a while but I am just replacing \"\\_\\_\\_\\_\\_\\_\\_\" by the modal value for each customer_ID. Had to be careful because in doing this without checking I ended up with some customer_ID's having \"\\_\\_\\_\\_\\_\\_\\_\" as their modal occupation despite having other values so I did some list comprehension to remove the \"\\_\\_\\_\\_\\_\\_\\_\" from the modal calculation. Also tried replacing \"\\_\\_\\_\\_\\_\\_\\_\" with np.nan and using the option nan_policy='omit' stats.mode but for some reason this did not work."
   ]
  },
  {
   "cell_type": "code",
   "execution_count": null,
   "metadata": {},
   "outputs": [],
   "source": [
    "df_train['Occupation'] = df_train.groupby('Customer_ID')['Occupation'].transform(lambda x: x.replace(\"_______\", stats.mode([y for y in x if y!=\"_______\"], keepdims=True)[0][0])) # fill with modal value\n",
    "df_test['Occupation'] = df_test.groupby('Customer_ID')['Occupation'].transform(lambda x: x.replace(\"_______\", stats.mode([y for y in x if y!=\"_______\"], keepdims=True)[0][0]))\n",
    "df_train[df_train['Customer_ID'] == \"CUS_0x21b1\"][['Customer_ID','Occupation']]"
   ]
  },
  {
   "cell_type": "code",
   "execution_count": null,
   "metadata": {},
   "outputs": [],
   "source": [
    "df_train['Occupation'].value_counts()"
   ]
  },
  {
   "cell_type": "code",
   "execution_count": null,
   "metadata": {},
   "outputs": [],
   "source": [
    "df_test['Occupation'].value_counts()"
   ]
  },
  {
   "cell_type": "code",
   "execution_count": null,
   "metadata": {},
   "outputs": [],
   "source": [
    "fig = plt.figure(figsize=(10,5))\n",
    "sns.countplot(df_train, x='Occupation', hue='Credit_Score')\n",
    "plt.xticks(rotation=45)\n",
    "plt.tight_layout()"
   ]
  },
  {
   "cell_type": "markdown",
   "metadata": {},
   "source": [
    "Generally seems as though occupation does not effect credit score so can actually drop this column. But I've worked so hard to fix the incorrect data in this column I will convert to dummy variables for now and it has the potential to be dropped instead."
   ]
  },
  {
   "cell_type": "code",
   "execution_count": null,
   "metadata": {},
   "outputs": [],
   "source": [
    "#df_train.drop(\"Occupation\", axis=1, inplace=True)\n",
    "#df_test.drop(\"Occupation\", axis=1, inplace=True)\n",
    "df_train = pd.concat([df_train, pd.get_dummies(df_train['Occupation'], prefix='Occupation', drop_first=True)],axis=1)\n",
    "df_train.drop('Occupation', axis=1, inplace=True)\n",
    "df_test = pd.concat([df_test, pd.get_dummies(df_test['Occupation'], prefix='Occupation', drop_first=True)],axis=1)\n",
    "df_test.drop('Occupation', axis=1, inplace=True)"
   ]
  },
  {
   "cell_type": "markdown",
   "metadata": {},
   "source": [
    "### Type_of_Loan\n",
    "Lots of missing values here. Do we want to try and recover anything?"
   ]
  },
  {
   "cell_type": "code",
   "execution_count": null,
   "metadata": {},
   "outputs": [],
   "source": [
    "df_train['Type_of_Loan'].unique()"
   ]
  },
  {
   "cell_type": "markdown",
   "metadata": {},
   "source": [
    "So, in theory could split this up as it appears to only be certain types of loans but also difficult as no pattern to split this up by. I guess splitting on comma's and removing the word \"and\" could work. Then would need to also have columns for each type of loan and fill in if a given person is using said loan. Feel like this might be a little complicated for something I don't imagine will be useful in estimating credit score..."
   ]
  },
  {
   "cell_type": "code",
   "execution_count": null,
   "metadata": {},
   "outputs": [],
   "source": [
    "df_train['Type_of_Loan'].nunique()"
   ]
  },
  {
   "cell_type": "markdown",
   "metadata": {},
   "source": [
    "Did not realise there were this many possibilities so let's drop this column."
   ]
  },
  {
   "cell_type": "code",
   "execution_count": null,
   "metadata": {},
   "outputs": [],
   "source": [
    "df_train.drop('Type_of_Loan', axis=1, inplace=True)\n",
    "df_test.drop('Type_of_Loan', axis=1, inplace=True)"
   ]
  },
  {
   "cell_type": "markdown",
   "metadata": {},
   "source": [
    "### Credit mix\n",
    "No missing values"
   ]
  },
  {
   "cell_type": "code",
   "execution_count": null,
   "metadata": {},
   "outputs": [],
   "source": [
    "df_train['Credit_Mix'].unique()"
   ]
  },
  {
   "cell_type": "markdown",
   "metadata": {},
   "source": [
    "How do these compare to the actual credit scores? I'm not entirely sure what this information is trying to tell me..."
   ]
  },
  {
   "cell_type": "code",
   "execution_count": null,
   "metadata": {},
   "outputs": [],
   "source": [
    "sns.countplot(df_train, x='Credit_Mix', hue='Credit_Score')"
   ]
  },
  {
   "cell_type": "markdown",
   "metadata": {},
   "source": [
    "Generally they are correlated with their corresponding credit score. Also think this would be difficult to estimate so seeing as I have no way to estimate and I think it's highly correlated with the final credit_score lets also drop this column."
   ]
  },
  {
   "cell_type": "code",
   "execution_count": null,
   "metadata": {},
   "outputs": [],
   "source": [
    "df_train.drop('Credit_Mix', axis=1, inplace=True)\n",
    "df_test.drop('Credit_Mix', axis=1, inplace=True)"
   ]
  },
  {
   "cell_type": "markdown",
   "metadata": {},
   "source": [
    "### Payment_of_Min_Amount"
   ]
  },
  {
   "cell_type": "code",
   "execution_count": null,
   "metadata": {},
   "outputs": [],
   "source": [
    "df_train['Payment_of_Min_Amount'].unique()"
   ]
  },
  {
   "cell_type": "markdown",
   "metadata": {},
   "source": [
    "Boolean value except we need to work out what this NM means...Could it stand for Not Minimum? Am I just speculating this though..."
   ]
  },
  {
   "cell_type": "code",
   "execution_count": null,
   "metadata": {},
   "outputs": [],
   "source": [
    "100*(df_train['Payment_of_Min_Amount'].value_counts()/len(df_train))"
   ]
  },
  {
   "cell_type": "markdown",
   "metadata": {},
   "source": [
    "Large proportion of these values are NM so can not exactly drop these rows...How does it effect credit score?"
   ]
  },
  {
   "cell_type": "code",
   "execution_count": null,
   "metadata": {},
   "outputs": [],
   "source": [
    "sns.countplot(df_train, x='Payment_of_Min_Amount', hue='Credit_Score')"
   ]
  },
  {
   "cell_type": "markdown",
   "metadata": {},
   "source": [
    "Putting the discussion of NM aside, this plot does make sense. If people are just paying the minimum amount off their debt then they would have a lower credit score as they are less likely to pay back the loan and they are just increasing how much they owe back through interest accrued.\n",
    "\n",
    "As for NM, we mostly see the \"Poor\" and \"Standard\" credit brackets. I realise for the sake of having one extra dummy variable, let's just keep this as it is and maybe we can come back and try to figure out what this means later."
   ]
  },
  {
   "cell_type": "code",
   "execution_count": null,
   "metadata": {},
   "outputs": [],
   "source": [
    "df_train = pd.concat([df_train, pd.get_dummies(df_train['Payment_of_Min_Amount'], prefix='Payment_of_Min_Amount', drop_first=True)],axis=1)\n",
    "df_train.drop('Payment_of_Min_Amount', axis=1, inplace=True)\n",
    "df_test = pd.concat([df_test, pd.get_dummies(df_test['Payment_of_Min_Amount'], prefix='Payment_of_Min_Amount', drop_first=True)],axis=1)\n",
    "df_test.drop('Payment_of_Min_Amount', axis=1, inplace=True)"
   ]
  },
  {
   "cell_type": "markdown",
   "metadata": {},
   "source": [
    "### Payment Behaviour\n",
    "No missing values, how many options? what can we do with this?"
   ]
  },
  {
   "cell_type": "code",
   "execution_count": null,
   "metadata": {},
   "outputs": [],
   "source": [
    "df_train['Payment_Behaviour'].unique()"
   ]
  },
  {
   "cell_type": "code",
   "execution_count": null,
   "metadata": {},
   "outputs": [],
   "source": [
    "df_train['Payment_Behaviour'].nunique()"
   ]
  },
  {
   "cell_type": "markdown",
   "metadata": {},
   "source": [
    "Can make dummy variables from this information. Would need to correct the false information. How much does this account for?"
   ]
  },
  {
   "cell_type": "code",
   "execution_count": null,
   "metadata": {},
   "outputs": [],
   "source": [
    "100*(df_train['Payment_Behaviour'].value_counts()/len(df_train))"
   ]
  },
  {
   "cell_type": "markdown",
   "metadata": {},
   "source": [
    "Too much to drop...Can we find the customers who have this and see if they are always classified as the same thing?"
   ]
  },
  {
   "cell_type": "code",
   "execution_count": null,
   "metadata": {},
   "outputs": [],
   "source": [
    "payment_behaviour_subgroup = df_train.loc[(df_train['Payment_Behaviour'] == '!@9#%8')]\n",
    "payment_behaviour_subgroup['Customer_ID'].unique()\n"
   ]
  },
  {
   "cell_type": "code",
   "execution_count": null,
   "metadata": {},
   "outputs": [],
   "source": [
    "df_train.loc[df_train['Customer_ID'] == 'CUS_0xd40']['Payment_Behaviour']"
   ]
  },
  {
   "cell_type": "markdown",
   "metadata": {},
   "source": [
    "Honestly seems to be no way to correct this information as it is on a month by month basis. Maybe if we looked for some correlated variable? But then I question if we need it if it is highly correlated with something else."
   ]
  },
  {
   "cell_type": "code",
   "execution_count": null,
   "metadata": {},
   "outputs": [],
   "source": [
    "plt.figure(figsize=(12,5))\n",
    "sns.countplot(df_train, x='Payment_Behaviour', hue='Credit_Score')\n",
    "plt.tight_layout()\n",
    "plt.xticks(rotation=45)"
   ]
  },
  {
   "cell_type": "code",
   "execution_count": null,
   "metadata": {},
   "outputs": [],
   "source": [
    "df_train = df_train.drop(df_train[df_train['Payment_Behaviour'] == '!@9#%8'].index)\n",
    "df_test = df_test.drop(df_test[df_test['Payment_Behaviour'] == '!@9#%8'].index)"
   ]
  },
  {
   "cell_type": "code",
   "execution_count": null,
   "metadata": {},
   "outputs": [],
   "source": [
    "df_train = pd.concat([df_train, pd.get_dummies(df_train['Payment_Behaviour'], prefix='Payment_Behaviour', drop_first=True)],axis=1)\n",
    "df_train.drop('Payment_Behaviour', axis=1, inplace=True)\n",
    "df_test = pd.concat([df_test, pd.get_dummies(df_test['Payment_Behaviour'], prefix='Payment_Behaviour', drop_first=True)],axis=1)\n",
    "df_test.drop('Payment_Behaviour', axis=1, inplace=True)"
   ]
  },
  {
   "cell_type": "code",
   "execution_count": null,
   "metadata": {},
   "outputs": [],
   "source": []
  },
  {
   "cell_type": "code",
   "execution_count": null,
   "metadata": {},
   "outputs": [],
   "source": [
    "df_train.info()"
   ]
  },
  {
   "cell_type": "code",
   "execution_count": null,
   "metadata": {},
   "outputs": [],
   "source": [
    "df_train.isnull().sum().apply(lambda x: 100*(x/len(df_train)))"
   ]
  },
  {
   "cell_type": "markdown",
   "metadata": {},
   "source": [
    "# TODO"
   ]
  },
  {
   "cell_type": "markdown",
   "metadata": {},
   "source": [
    "- Fix missing data from Credit_History_Age"
   ]
  }
 ],
 "metadata": {
  "kernelspec": {
   "display_name": "tf-gpu",
   "language": "python",
   "name": "python3"
  },
  "language_info": {
   "codemirror_mode": {
    "name": "ipython",
    "version": 3
   },
   "file_extension": ".py",
   "mimetype": "text/x-python",
   "name": "python",
   "nbconvert_exporter": "python",
   "pygments_lexer": "ipython3",
   "version": "3.9.18"
  }
 },
 "nbformat": 4,
 "nbformat_minor": 2
}
